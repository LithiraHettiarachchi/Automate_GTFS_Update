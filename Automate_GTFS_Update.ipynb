{
  "cells": [
    {
      "cell_type": "markdown",
      "metadata": {
        "id": "view-in-github",
        "colab_type": "text"
      },
      "source": [
        "<a href=\"https://colab.research.google.com/github/LithiraHettiarachchi/Automate_GTFS_Update/blob/main/Automate_GTFS_Update.ipynb\" target=\"_parent\"><img src=\"https://colab.research.google.com/assets/colab-badge.svg\" alt=\"Open In Colab\"/></a>"
      ]
    },
    {
      "cell_type": "markdown",
      "metadata": {
        "id": "O-O1ByklBeDV"
      },
      "source": [
        "Get Location names using GeoPy"
      ]
    },
    {
      "cell_type": "code",
      "execution_count": 33,
      "metadata": {
        "colab": {
          "base_uri": "https://localhost:8080/"
        },
        "id": "rJkEAQhw6chP",
        "outputId": "5b0e37f4-c36c-490b-ca57-c5daa28e9fd8"
      },
      "outputs": [
        {
          "output_type": "stream",
          "name": "stdout",
          "text": [
            "Drive already mounted at /content/drive; to attempt to forcibly remount, call drive.mount(\"/content/drive\", force_remount=True).\n"
          ]
        }
      ],
      "source": [
        "# Import Google drive contents to google colab\n",
        "from google.colab import drive\n",
        "drive.mount('/content/drive')"
      ]
    },
    {
      "cell_type": "code",
      "execution_count": 34,
      "metadata": {
        "colab": {
          "base_uri": "https://localhost:8080/"
        },
        "id": "9LCieQhE78Nh",
        "outputId": "733928e7-6ff9-4949-fbe1-2b38a518559c"
      },
      "outputs": [
        {
          "output_type": "stream",
          "name": "stdout",
          "text": [
            "File exists.\n"
          ]
        }
      ],
      "source": [
        "# Get cordinate text file from drive\n",
        "import os\n",
        "\n",
        "txt_file_path = \"/content/drive/My Drive/Colab Notebooks/stopsNew.txt\"\n",
        "\n",
        "if os.path.exists(txt_file_path):\n",
        "    print(\"File exists.\")\n",
        "else:\n",
        "    print(\"File does not exist.\")"
      ]
    },
    {
      "cell_type": "code",
      "execution_count": 35,
      "metadata": {
        "colab": {
          "base_uri": "https://localhost:8080/"
        },
        "id": "9Vn3A5VALs3Y",
        "outputId": "1548f69d-50c7-4314-b4bc-e2af7a54097c"
      },
      "outputs": [
        {
          "output_type": "stream",
          "name": "stdout",
          "text": [
            "File exists.\n"
          ]
        }
      ],
      "source": [
        "#Importing ImportExport EXCEL file\n",
        "excel_file_path = \"/content/drive/My Drive/Colab Notebooks/Bus_Stop_List.xlsx\"\n",
        "if os.path.exists(excel_file_path):\n",
        "    print(\"File exists.\")\n",
        "else:\n",
        "    print(\"File does not exist.\")"
      ]
    },
    {
      "cell_type": "code",
      "source": [
        "#Importing Input EXCEL file\n",
        "input_file_path = \"/content/drive/My Drive/Colab Notebooks/Input_Data.xlsx\"\n",
        "if os.path.exists(input_file_path):\n",
        "    print(\"File exists.\")\n",
        "else:\n",
        "    print(\"File does not exist.\")"
      ],
      "metadata": {
        "colab": {
          "base_uri": "https://localhost:8080/"
        },
        "id": "_FexB57xbwL-",
        "outputId": "80cfe059-ee12-4932-8cef-ec2d071eaa4a"
      },
      "execution_count": 36,
      "outputs": [
        {
          "output_type": "stream",
          "name": "stdout",
          "text": [
            "File exists.\n"
          ]
        }
      ]
    },
    {
      "cell_type": "code",
      "execution_count": 39,
      "metadata": {
        "colab": {
          "base_uri": "https://localhost:8080/"
        },
        "id": "NyZgFKQB82ki",
        "outputId": "ef897b8e-a010-4238-f7d8-11d2e0e6484d"
      },
      "outputs": [
        {
          "output_type": "stream",
          "name": "stdout",
          "text": [
            "      stop_id         stop_name   stop_lat    stop_lon\n",
            "0  31054002SP          Ganahena  6.0061877  80.2539640\n",
            "1  31054003SP  Eluwila Junction  5.9998053  80.2676797\n",
            "2  31054004SP        Pannanduwa  5.9992273  80.2722403\n",
            "3  31054005SP     Kahawannagama  5.9960607  80.2865973\n",
            "4  31054006SP        Palutagaha  5.9948307  80.2913377\n"
          ]
        }
      ],
      "source": [
        "#Import pandas and read text file as CSV\n",
        "import pandas as pd\n",
        "df = pd.read_csv(txt_file_path, delimiter= \",\")\n",
        "print(df.head())"
      ]
    },
    {
      "cell_type": "code",
      "execution_count": 40,
      "metadata": {
        "colab": {
          "base_uri": "https://localhost:8080/"
        },
        "id": "-dRcxNTnMSEP",
        "outputId": "a5955be9-c39a-493f-f124-42a6defcd766"
      },
      "outputs": [
        {
          "output_type": "stream",
          "name": "stdout",
          "text": [
            "         stop_id  stop_code             stop_name  stop_desc   stop_lat  \\\n",
            "81    71235011IP        NaN    Thawalama Junction        NaN  6.3403497   \n",
            "82    71233010IP        NaN                Neluwa        NaN  6.3774803   \n",
            "83  31021060SP-R        NaN  Batuwangala Junction        NaN  6.3807607   \n",
            "84  31021045SP-R        NaN           Kadiningala        NaN  6.3462312   \n",
            "85  31021037SP-R        NaN               Dellawa        NaN  6.3209369   \n",
            "\n",
            "      stop_lon  zone_id  stop_url  location_type  parent_station  \\\n",
            "81  80.3366232      NaN       NaN            NaN             NaN   \n",
            "82  80.3608382      NaN       NaN            NaN             NaN   \n",
            "83  80.3777370      NaN       NaN            NaN             NaN   \n",
            "84  80.4157197      NaN       NaN            NaN             NaN   \n",
            "85  80.4368641      NaN       NaN            NaN             NaN   \n",
            "\n",
            "    stop_timezone  wheelchair_boarding  \n",
            "81            NaN                  NaN  \n",
            "82            NaN                  NaN  \n",
            "83            NaN                  NaN  \n",
            "84            NaN                  NaN  \n",
            "85            NaN                  NaN  \n"
          ]
        }
      ],
      "source": [
        "# Extract corresponding sheet and columns from excel sheet\n",
        "excData = pd.read_excel(excel_file_path, sheet_name=None)\n",
        "excelData = excData['Stops']\n",
        "tripsData = excData['Trips']\n",
        "routesData = excData['Routes']\n",
        "print(excelData.tail())\n",
        "# print(routesData)\n",
        "# print(tripsData)"
      ]
    },
    {
      "cell_type": "code",
      "source": [
        "inputData = pd.read_excel(input_file_path, sheet_name='Sheet1')\n",
        "print(inputData)"
      ],
      "metadata": {
        "colab": {
          "base_uri": "https://localhost:8080/"
        },
        "id": "2IkVmnA2ePkd",
        "outputId": "1ca08901-3e9f-476c-d47e-52a6f941272d"
      },
      "execution_count": 41,
      "outputs": [
        {
          "output_type": "stream",
          "name": "stdout",
          "text": [
            "   stop_id     stop_lat     stop_lon arrival_time departure_time  sequence  \\\n",
            "0      NaN  6.877093300  79.86057330     06_25_00       06_25_00         1   \n",
            "1      NaN  6.889261300  79.85690170     06_30_00       06_30_00         2   \n",
            "2      NaN  6.933735100  79.85627480     06_35_00       06_35_00         3   \n",
            "3      NaN  7.154234100  79.87186510     06_40_00       06_40_00         4   \n",
            "4      NaN  7.280820100  79.85559580     06_50_00       06_50_00         5   \n",
            "5      NaN  7.576217400  79.79583090     07_00_00       07_00_00         6   \n",
            "6      NaN  6.032076500  80.78846800     07_10_10       07_00_00         7   \n",
            "7      NaN  6.869291961  79.85875881     07_20_00       07_20_00         8   \n",
            "8      NaN  6.756371000  80.69370800     07_30_00       07_30_00         9   \n",
            "\n",
            "  stop_headsign       trip_id  route_id  direction  \n",
            "0        Jaffna  N$0$B111_T01        22          1  \n",
            "1        Jaffna  N$0$B111_T01        22          1  \n",
            "2        Jaffna  N$0$B111_T01        22          1  \n",
            "3        Jaffna  N$0$B111_T01        22          1  \n",
            "4        Jaffna  N$0$B111_T01        22          1  \n",
            "5        Jaffna  N$1$B111_T01        22          0  \n",
            "6        Jaffna  N$1$B111_T01        22          0  \n",
            "7        Jaffna  N$1$B111_T01        22          0  \n",
            "8        Jaffna  N$1$B111_T01        22          0  \n"
          ]
        }
      ]
    },
    {
      "cell_type": "code",
      "source": [
        "dir_list = []\n",
        "rows_to_add_trips = []\n",
        "trip_id_array = inputData['trip_id'].unique()\n",
        "trip_route_id_array = inputData['route_id'].unique()\n",
        "for string_index, string in enumerate(trip_id_array):\n",
        "    for char_index, char in enumerate(string):\n",
        "        if char == '$':\n",
        "          dir_list.append(string[char_index + 1])\n",
        "          break\n",
        "print(trip_id_array)\n",
        "print(trip_route_id_array)\n",
        "print(dir_list)\n",
        "for i in range(len(trip_id_array)):\n",
        "  row = {'route_id': trip_route_id_array[0], 'service_id': 'Daily', 'trip_id': trip_id_array[i], 'trip_headsign': 'Ampara', 'direction_id': dir_list[i]}\n",
        "  rows_to_add_trips.append(row)\n",
        "print(rows_to_add_trips)"
      ],
      "metadata": {
        "colab": {
          "base_uri": "https://localhost:8080/"
        },
        "id": "K8PmsTfYgGbh",
        "outputId": "fbec494c-251c-48ae-a15d-168ea061a8ad"
      },
      "execution_count": 42,
      "outputs": [
        {
          "output_type": "stream",
          "name": "stdout",
          "text": [
            "['N$0$B111_T01' 'N$1$B111_T01']\n",
            "[22]\n",
            "['0', '1']\n",
            "[{'route_id': 22, 'service_id': 'Daily', 'trip_id': 'N$0$B111_T01', 'trip_headsign': 'Ampara', 'direction_id': '0'}, {'route_id': 22, 'service_id': 'Daily', 'trip_id': 'N$1$B111_T01', 'trip_headsign': 'Ampara', 'direction_id': '1'}]\n"
          ]
        }
      ]
    },
    {
      "cell_type": "code",
      "source": [
        "route_name = str(input(\"Enter route name: \"))\n",
        "routeRow = {'route_id': trip_route_id_array[0], 'agency_id': 'BOOK', 'route_short_name': '22', 'route_long_name': route_name,\n",
        "            'route_type': '3', 'route_color': 'D4D428'}\n",
        "\n",
        "print(routeRow)"
      ],
      "metadata": {
        "colab": {
          "base_uri": "https://localhost:8080/"
        },
        "id": "cOh5trzQg3KT",
        "outputId": "c658d878-49a6-4f69-cfe9-515c68292928"
      },
      "execution_count": 43,
      "outputs": [
        {
          "output_type": "stream",
          "name": "stdout",
          "text": [
            "Enter route name: Colombo-Ampara\n",
            "{'route_id': 22, 'agency_id': 'BOOK', 'route_short_name': '22', 'route_long_name': 'Colombo-Ampara', 'route_type': '3', 'route_color': 'D4D428'}\n"
          ]
        }
      ]
    },
    {
      "cell_type": "code",
      "source": [
        "cordList = excelData[['stop_lat', 'stop_lon']]\n",
        "print(cordList)"
      ],
      "metadata": {
        "colab": {
          "base_uri": "https://localhost:8080/"
        },
        "id": "1BvhUdJLgwE8",
        "outputId": "97651ff2-b0ca-4dbb-da69-cbc551a62f50"
      },
      "execution_count": 44,
      "outputs": [
        {
          "output_type": "stream",
          "name": "stdout",
          "text": [
            "       stop_lat     stop_lon\n",
            "0   6.869291961  79.85875881\n",
            "1   6.877093300  79.86057330\n",
            "2   6.881399600  79.86167910\n",
            "3   6.884079100  79.85838670\n",
            "4   6.889261300  79.85690170\n",
            "..          ...          ...\n",
            "81  6.340349700  80.33662320\n",
            "82  6.377480300  80.36083820\n",
            "83  6.380760700  80.37773700\n",
            "84  6.346231200  80.41571970\n",
            "85  6.320936900  80.43686410\n",
            "\n",
            "[86 rows x 2 columns]\n"
          ]
        }
      ]
    },
    {
      "cell_type": "code",
      "execution_count": 45,
      "metadata": {
        "colab": {
          "base_uri": "https://localhost:8080/"
        },
        "id": "VLfPtPbHN2ZT",
        "outputId": "dc28153e-79c0-4115-dca1-a0ce5d58482f"
      },
      "outputs": [
        {
          "output_type": "stream",
          "name": "stdout",
          "text": [
            "      stop_lat     stop_lon\n",
            "0  6.877093300  79.86057330\n",
            "1  6.889261300  79.85690170\n",
            "2  6.933735100  79.85627480\n",
            "3  7.154234100  79.87186510\n",
            "4  7.280820100  79.85559580\n",
            "5  7.576217400  79.79583090\n",
            "6  6.032076500  80.78846800\n",
            "7  6.869291961  79.85875881\n",
            "8  6.756371000  80.69370800\n",
            "0    6.877093300\n",
            "1    6.889261300\n",
            "2    6.933735100\n",
            "3    7.154234100\n",
            "4    7.280820100\n",
            "5    7.576217400\n",
            "6    6.032076500\n",
            "7    6.869291961\n",
            "8    6.756371000\n",
            "Name: stop_lat, dtype: float64\n",
            "0    79.86057330\n",
            "1    79.85690170\n",
            "2    79.85627480\n",
            "3    79.87186510\n",
            "4    79.85559580\n",
            "5    79.79583090\n",
            "6    80.78846800\n",
            "7    79.85875881\n",
            "8    80.69370800\n",
            "Name: stop_lon, dtype: float64\n"
          ]
        }
      ],
      "source": [
        "pd.set_option('display.precision', 12)\n",
        "null_values = inputData['stop_id'].isnull()\n",
        "rows_with_null = inputData[null_values][['stop_lat', 'stop_lon']]\n",
        "print(rows_with_null)\n",
        "latitude_cords = rows_with_null['stop_lat']\n",
        "longitude_cords = rows_with_null['stop_lon']\n",
        "print(latitude_cords)\n",
        "print(longitude_cords)"
      ]
    },
    {
      "cell_type": "code",
      "source": [
        "import openpyxl\n",
        "\n",
        "search_cords_list = []\n",
        "\n",
        "for row in excelData.iterrows():\n",
        "  lat_data = float(row[1].stop_lat)\n",
        "  lon_data = float(row[1].stop_lon)\n",
        "\n",
        "  if (latitude_cords.isin([lat_data]).any()) and (longitude_cords.isin([lon_data]).any()):\n",
        "    extracted_list = {'stop_id': {row[1].stop_id}, 'stop_lat': {row[1].stop_lat}, 'stop_lon': {row[1].stop_lon}}\n",
        "    search_cords_list.append(extracted_list)\n",
        "\n",
        "print(search_cords_list)\n",
        "\n",
        "#Update df with search cord list values\n",
        "for info in search_cords_list:\n",
        "  id_value = str(info['stop_id'].pop())\n",
        "  lat_value = float(info['stop_lat'].pop())\n",
        "  lon_value = float(info['stop_lon'].pop())\n",
        "\n",
        "  inputData.loc[(inputData['stop_lon'] ==  lon_value) & (inputData['stop_lat'] ==  lat_value), 'stop_id'] = id_value\n",
        "\n",
        "with pd.option_context('display.max_rows', None, 'display.max_columns', None):  # more options can be specified also\n",
        "    print(inputData)\n"
      ],
      "metadata": {
        "colab": {
          "base_uri": "https://localhost:8080/"
        },
        "id": "19RVC8ccsxsn",
        "outputId": "6d16f155-a6f5-468f-ef59-53c50dafdad0"
      },
      "execution_count": 46,
      "outputs": [
        {
          "output_type": "stream",
          "name": "stdout",
          "text": [
            "[{'stop_id': {'T000000002W'}, 'stop_lat': {6.869291961}, 'stop_lon': {79.85875881}}, {'stop_id': {'91304020WP'}, 'stop_lat': {6.8770933}, 'stop_lon': {79.8605733}}, {'stop_id': {'91304031WP'}, 'stop_lat': {6.8892613}, 'stop_lon': {79.8569017}}, {'stop_id': {nan}, 'stop_lat': {6.9337351}, 'stop_lon': {79.8562748}}, {'stop_id': {'92311014WP'}, 'stop_lat': {7.1542341}, 'stop_lon': {79.8718651}}, {'stop_id': {'52190008IP'}, 'stop_lat': {7.2808201}, 'stop_lon': {79.8555958}}, {'stop_id': {'52177007IP'}, 'stop_lat': {7.5762174}, 'stop_lon': {79.7958309}}]\n",
            "       stop_id     stop_lat     stop_lon arrival_time departure_time  \\\n",
            "0   91304020WP  6.877093300  79.86057330     06_25_00       06_25_00   \n",
            "1   91304031WP  6.889261300  79.85690170     06_30_00       06_30_00   \n",
            "2          nan  6.933735100  79.85627480     06_35_00       06_35_00   \n",
            "3   92311014WP  7.154234100  79.87186510     06_40_00       06_40_00   \n",
            "4   52190008IP  7.280820100  79.85559580     06_50_00       06_50_00   \n",
            "5   52177007IP  7.576217400  79.79583090     07_00_00       07_00_00   \n",
            "6          NaN  6.032076500  80.78846800     07_10_10       07_00_00   \n",
            "7  T000000002W  6.869291961  79.85875881     07_20_00       07_20_00   \n",
            "8          NaN  6.756371000  80.69370800     07_30_00       07_30_00   \n",
            "\n",
            "   sequence stop_headsign       trip_id  route_id  direction  \n",
            "0         1        Jaffna  N$0$B111_T01        22          1  \n",
            "1         2        Jaffna  N$0$B111_T01        22          1  \n",
            "2         3        Jaffna  N$0$B111_T01        22          1  \n",
            "3         4        Jaffna  N$0$B111_T01        22          1  \n",
            "4         5        Jaffna  N$0$B111_T01        22          1  \n",
            "5         6        Jaffna  N$1$B111_T01        22          0  \n",
            "6         7        Jaffna  N$1$B111_T01        22          0  \n",
            "7         8        Jaffna  N$1$B111_T01        22          0  \n",
            "8         9        Jaffna  N$1$B111_T01        22          0  \n"
          ]
        }
      ]
    },
    {
      "cell_type": "code",
      "source": [
        "pd.set_option('display.precision', 12)\n",
        "null_values = inputData['stop_id'].isnull()\n",
        "rows_with_null = inputData[null_values][['stop_lat', 'stop_lon']]\n",
        "list_rows = rows_with_null.values.tolist()\n",
        "latitude_vals = rows_with_null['stop_lat']\n",
        "longitude_vals = rows_with_null['stop_lon']\n",
        "print(len(list_rows))\n",
        "print(list_rows)"
      ],
      "metadata": {
        "colab": {
          "base_uri": "https://localhost:8080/"
        },
        "id": "8B1MUUYC5BQu",
        "outputId": "7f22591d-1136-441e-a83c-695a1c19a4f1"
      },
      "execution_count": 47,
      "outputs": [
        {
          "output_type": "stream",
          "name": "stdout",
          "text": [
            "2\n",
            "[[6.0320765, 80.788468], [6.756371, 80.693708]]\n"
          ]
        }
      ]
    },
    {
      "cell_type": "code",
      "execution_count": 48,
      "metadata": {
        "colab": {
          "base_uri": "https://localhost:8080/"
        },
        "id": "lo8DFDptQHVD",
        "outputId": "403ba52e-badd-4363-e5cc-950f7d20cfdb"
      },
      "outputs": [
        {
          "output_type": "stream",
          "name": "stdout",
          "text": [
            "0\n"
          ]
        }
      ],
      "source": [
        "missing_list = []\n",
        "\n",
        "\n",
        "with open(txt_file_path, 'r', encoding='utf-8') as txtfile:\n",
        "  header = txtfile.readline()\n",
        "  text_data = [line.strip().split(',') for line in txtfile]\n",
        "\n",
        "search_data_list = []\n",
        "for row in text_data:\n",
        "  lat_data = float(row[-2])\n",
        "  lon_data = float(row[-1])\n",
        "\n",
        "  if (latitude_vals.isin([lat_data]).any()) and (longitude_vals.isin([lon_data]).any()):\n",
        "    # print(latitude_cords)\n",
        "    collected_list = {'stop_id': {row[0]}, 'stop_lat': {row[2]}, 'stop_lon': {row[3]}}\n",
        "    # print(collected_list)\n",
        "    missing_list.append(collected_list)\n",
        "    print(missing_list)\n",
        "print(len(missing_list))\n",
        "\n"
      ]
    },
    {
      "cell_type": "code",
      "source": [
        "# new_df = []\n",
        "for info in missing_list:\n",
        "  id_value = str(info['stop_id'].pop())\n",
        "  lat_value = float(info['stop_lat'].pop())\n",
        "  lon_value = float(info['stop_lon'].pop())\n",
        "\n",
        "  inputData.loc[(inputData['stop_lon'] ==  lon_value) & (inputData['stop_lat'] ==  lat_value), 'stop_id'] = id_value\n",
        "\n",
        "with pd.option_context('display.max_rows', None, 'display.max_columns', None):  # more options can be specified also\n",
        "    print(inputData)\n"
      ],
      "metadata": {
        "colab": {
          "base_uri": "https://localhost:8080/"
        },
        "id": "bYjNcFUp-NkY",
        "outputId": "ee114a63-907f-4264-f89f-f3d4106a8e8d"
      },
      "execution_count": 49,
      "outputs": [
        {
          "output_type": "stream",
          "name": "stdout",
          "text": [
            "       stop_id     stop_lat     stop_lon arrival_time departure_time  \\\n",
            "0   91304020WP  6.877093300  79.86057330     06_25_00       06_25_00   \n",
            "1   91304031WP  6.889261300  79.85690170     06_30_00       06_30_00   \n",
            "2          nan  6.933735100  79.85627480     06_35_00       06_35_00   \n",
            "3   92311014WP  7.154234100  79.87186510     06_40_00       06_40_00   \n",
            "4   52190008IP  7.280820100  79.85559580     06_50_00       06_50_00   \n",
            "5   52177007IP  7.576217400  79.79583090     07_00_00       07_00_00   \n",
            "6          NaN  6.032076500  80.78846800     07_10_10       07_00_00   \n",
            "7  T000000002W  6.869291961  79.85875881     07_20_00       07_20_00   \n",
            "8          NaN  6.756371000  80.69370800     07_30_00       07_30_00   \n",
            "\n",
            "   sequence stop_headsign       trip_id  route_id  direction  \n",
            "0         1        Jaffna  N$0$B111_T01        22          1  \n",
            "1         2        Jaffna  N$0$B111_T01        22          1  \n",
            "2         3        Jaffna  N$0$B111_T01        22          1  \n",
            "3         4        Jaffna  N$0$B111_T01        22          1  \n",
            "4         5        Jaffna  N$0$B111_T01        22          1  \n",
            "5         6        Jaffna  N$1$B111_T01        22          0  \n",
            "6         7        Jaffna  N$1$B111_T01        22          0  \n",
            "7         8        Jaffna  N$1$B111_T01        22          0  \n",
            "8         9        Jaffna  N$1$B111_T01        22          0  \n"
          ]
        }
      ]
    },
    {
      "cell_type": "code",
      "source": [
        "pd.set_option('display.precision', 12)\n",
        "null_values = inputData['stop_id'].isnull()\n",
        "rows_with_null = inputData[null_values][['stop_lat', 'stop_lon']]\n",
        "list_rows = rows_with_null.values.tolist()\n",
        "print(len(list_rows))\n",
        "print(list_rows)"
      ],
      "metadata": {
        "colab": {
          "base_uri": "https://localhost:8080/"
        },
        "id": "LY0U8WBHkWcW",
        "outputId": "5b960678-9fd1-4194-ab07-a3eda4061293"
      },
      "execution_count": 50,
      "outputs": [
        {
          "output_type": "stream",
          "name": "stdout",
          "text": [
            "2\n",
            "[[6.0320765, 80.788468], [6.756371, 80.693708]]\n"
          ]
        }
      ]
    },
    {
      "cell_type": "code",
      "source": [
        "# for indx, values in rows_with_null.items():\n",
        "#     # print('index: ', indx, 'value: ', values)\n",
        "#     print(values[0])\n",
        "# for rownum,(indx,values) in enumerate(rows_with_null.items()):\n",
        "#     print('row number: ', rownum, 'index: ', indx, 'value: ', values)"
      ],
      "metadata": {
        "colab": {
          "base_uri": "https://localhost:8080/"
        },
        "id": "Ag3oG1bCRLkK",
        "outputId": "592a6006-30e7-4e92-b904-cd2a03aff35c"
      },
      "execution_count": null,
      "outputs": [
        {
          "output_type": "stream",
          "name": "stdout",
          "text": [
            "80.256018\n"
          ]
        }
      ]
    },
    {
      "cell_type": "code",
      "execution_count": 51,
      "metadata": {
        "colab": {
          "base_uri": "https://localhost:8080/"
        },
        "outputId": "2bdf3372-498b-4422-9031-14a315844ffa",
        "id": "z2RGO1ztOfv-"
      },
      "outputs": [
        {
          "output_type": "stream",
          "name": "stdout",
          "text": [
            "id: 31, stop_id: 33033049SP, stop_name: Indipokunagoda Road, stop_lat: 6.0320753, stop_lon: 80.7884648, distance: 0.37817590157960174 m\n",
            "id: 14016, stop_id: 33033020SP, stop_name: Indipokunagoda Road, stop_lat: 6.0320753, stop_lon: 80.7884648, distance: 0.37817590157960174 m\n",
            "Which Id do you want to enter ? 31\n",
            "[{'stop_id': {'33033049SP'}, 'stop_lat': {6.0320753}, 'stop_lon': {80.7884648}}]\n",
            "[{'stop_id': {'33033049SP'}, 'stop_lat': {6.0320753}, 'stop_lon': {80.7884648}}]\n"
          ]
        }
      ],
      "source": [
        "\n",
        "from math import radians, sin, cos, sqrt, atan2\n",
        "\n",
        "def get_distance(lat1, lon1, lat2, lon2):\n",
        "    '''\n",
        "      Get the distance using latitude and longitude.\n",
        "      a = sin(d_lat / 2)**2 + cos(radians(lat1)) * cos(radians(lat2)) * sin(d_lon / 2)**2\n",
        "      c = 2 * atan2(sqrt(a), sqrt(1 - a))\n",
        "\n",
        "      distance = R * c*1000\n",
        "\n",
        "      Ask user to enter target latitude, longitude and distance.\n",
        "      Return all the results inside of the entered geolocation and radius.\n",
        "    '''\n",
        "    R = 6371.0\n",
        "\n",
        "    d_lat = radians(lat2 - lat1)\n",
        "    d_lon = radians(lon2 - lon1)\n",
        "\n",
        "    a = sin(d_lat / 2)**2 + cos(radians(lat1)) * cos(radians(lat2)) * sin(d_lon / 2)**2\n",
        "    c = 2 * atan2(sqrt(a), sqrt(1 - a))\n",
        "\n",
        "    distance = R * c*1000\n",
        "\n",
        "    return distance\n",
        "\n",
        "txt_file_path = \"/content/drive/My Drive/Colab Notebooks/stopsNew.txt\"\n",
        "\n",
        "with open(txt_file_path, 'r', encoding='utf-8') as txtfile:\n",
        "\n",
        "    header = txtfile.readline()\n",
        "\n",
        "    data = [line.strip().split(',') for line in txtfile]\n",
        "\n",
        "def get_gps_positions(data, target_lat, target_lon, max_distance):\n",
        "    filtered_positions = []\n",
        "\n",
        "    for id,values in enumerate (data, start=1):\n",
        "        stop_lat = float(values[-2])\n",
        "        stop_lon = float(values[-1])\n",
        "\n",
        "        distance = get_distance(target_lat, target_lon, stop_lat, stop_lon)\n",
        "        if distance <= max_distance:\n",
        "            filtered_positions.append((id,values[0], values[1], stop_lat, stop_lon, distance))\n",
        "\n",
        "    return filtered_positions\n",
        "\n",
        "mismatch_list = []\n",
        "\n",
        "i = 0\n",
        "while (i < len(list_rows)):\n",
        "\n",
        "  target_lat = list_rows[i][0]\n",
        "  target_lon = list_rows[i][1]\n",
        "  max_distance = 10\n",
        "\n",
        "\n",
        "  filtered_positions = get_gps_positions(data, target_lat, target_lon, max_distance)\n",
        "\n",
        "  for lat, lon in zip([target_lat], [target_lon]):\n",
        "    filtered_positions = get_gps_positions(data, lat, lon, max_distance)\n",
        "\n",
        "    if len(filtered_positions) == 1:\n",
        "      # Handle single position case\n",
        "      identified_list = {'stop_id': {filtered_positions[0][1]}, 'stop_lat': {filtered_positions[0][3]}, 'stop_lon': {filtered_positions[0][4]}}\n",
        "      inputData.loc[(inputData['stop_lon'] ==  target_lon) & (inputData['stop_lat'] ==  target_lat), ['stop_id', 'stop_lat', 'stop_lon']] = [filtered_positions[0][1], filtered_positions[0][3],\n",
        "                                                                                                                                             filtered_positions[0][4]]\n",
        "      mismatch_list.append(identified_list)  # Access the ID directly\n",
        "    elif len(filtered_positions) > 1:\n",
        "      for showId in filtered_positions:\n",
        "        print(f\"id: {showId[0]}, stop_id: {showId[1]}, stop_name: {showId[2]}, stop_lat: {showId[3]}, stop_lon: {showId[4]}, distance: {showId[5]} m\")\n",
        "      stop_id = int(input(\"Which Id do you want to enter ? \"))\n",
        "      for selected_id in filtered_positions:\n",
        "        if selected_id[0] == stop_id:\n",
        "          selected_list = {'stop_id': {selected_id[1]}, 'stop_lat': {selected_id[3]}, 'stop_lon': {selected_id[4]}}\n",
        "          mismatch_list.append(selected_list)\n",
        "          inputData.loc[(inputData['stop_lon'] ==  target_lon) & (inputData['stop_lat'] ==  target_lat), ['stop_id', 'stop_lat', 'stop_lon']] = [selected_id[1], selected_id[3], selected_id[4]]\n",
        "          print(mismatch_list)\n",
        "          break  # Break out of the loop after finding the match\n",
        "\n",
        "  i += 1\n",
        "\n",
        "print(mismatch_list)\n"
      ]
    },
    {
      "cell_type": "code",
      "source": [
        "# for info in mismatch_list:\n",
        "#   id_value = str(info['stop_id'].pop())\n",
        "#   lat_value = float(info['lat'].pop())\n",
        "#   lon_value = float(info['lon'].pop())\n",
        "#   excelData.loc[(excelData['stop_lon'] ==  lon_value) & (excelData['stop_lat'] ==  lat_value), 'stop_id'] = id_value\n",
        "\n",
        "with pd.option_context('display.max_rows', None, 'display.max_columns', None):  # more options can be specified also\n",
        "    print(inputData)\n"
      ],
      "metadata": {
        "colab": {
          "base_uri": "https://localhost:8080/"
        },
        "id": "5rGABJFnSIVR",
        "outputId": "2a5d439c-8bee-456d-e0d3-352fac17feeb"
      },
      "execution_count": 52,
      "outputs": [
        {
          "output_type": "stream",
          "name": "stdout",
          "text": [
            "       stop_id     stop_lat     stop_lon arrival_time departure_time  \\\n",
            "0   91304020WP  6.877093300  79.86057330     06_25_00       06_25_00   \n",
            "1   91304031WP  6.889261300  79.85690170     06_30_00       06_30_00   \n",
            "2          nan  6.933735100  79.85627480     06_35_00       06_35_00   \n",
            "3   92311014WP  7.154234100  79.87186510     06_40_00       06_40_00   \n",
            "4   52190008IP  7.280820100  79.85559580     06_50_00       06_50_00   \n",
            "5   52177007IP  7.576217400  79.79583090     07_00_00       07_00_00   \n",
            "6   33033049SP  6.032075300  80.78846480     07_10_10       07_00_00   \n",
            "7  T000000002W  6.869291961  79.85875881     07_20_00       07_20_00   \n",
            "8          NaN  6.756371000  80.69370800     07_30_00       07_30_00   \n",
            "\n",
            "   sequence stop_headsign       trip_id  route_id  direction  \n",
            "0         1        Jaffna  N$0$B111_T01        22          1  \n",
            "1         2        Jaffna  N$0$B111_T01        22          1  \n",
            "2         3        Jaffna  N$0$B111_T01        22          1  \n",
            "3         4        Jaffna  N$0$B111_T01        22          1  \n",
            "4         5        Jaffna  N$0$B111_T01        22          1  \n",
            "5         6        Jaffna  N$1$B111_T01        22          0  \n",
            "6         7        Jaffna  N$1$B111_T01        22          0  \n",
            "7         8        Jaffna  N$1$B111_T01        22          0  \n",
            "8         9        Jaffna  N$1$B111_T01        22          0  \n"
          ]
        }
      ]
    },
    {
      "cell_type": "code",
      "source": [
        "pd.set_option('display.precision', 12)\n",
        "null_values = inputData['stop_id'].isnull()\n",
        "rows_to_add_ids = inputData[null_values][['stop_id', 'stop_lat', 'stop_lon']]\n",
        "list_rows_to_add_ids = rows_to_add_ids.values.tolist()\n",
        "# print(len(list_rows))\n",
        "print(list_rows_to_add_ids)\n"
      ],
      "metadata": {
        "colab": {
          "base_uri": "https://localhost:8080/"
        },
        "id": "cBp31vLzDw4R",
        "outputId": "06169e07-de9b-4a0e-93d1-111e5559b333"
      },
      "execution_count": 53,
      "outputs": [
        {
          "output_type": "stream",
          "name": "stdout",
          "text": [
            "[[nan, 6.756371, 80.693708]]\n"
          ]
        }
      ]
    },
    {
      "cell_type": "code",
      "source": [
        "i = 0\n",
        "for i in range(len(list_rows_to_add_ids)):\n",
        "  row_to_add = {'stop_id': list_rows_to_add_ids[i][0], 'stop_name': '', 'stop_lat': list_rows_to_add_ids[i][1],\n",
        "                'stop_lon': list_rows_to_add_ids[i][2]}\n",
        "  excelData.loc[len(excelData)] = row_to_add\n",
        "  i += 1\n",
        "# print(row_to_add)\n"
      ],
      "metadata": {
        "id": "IIg8SHHGCGsK"
      },
      "execution_count": 54,
      "outputs": []
    },
    {
      "cell_type": "code",
      "source": [
        "print(excelData.tail())"
      ],
      "metadata": {
        "colab": {
          "base_uri": "https://localhost:8080/"
        },
        "id": "jDxyudHqjW4b",
        "outputId": "9542fcfb-2e07-4dcb-caec-3f4ccd12ea83"
      },
      "execution_count": 55,
      "outputs": [
        {
          "output_type": "stream",
          "name": "stdout",
          "text": [
            "         stop_id  stop_code             stop_name  stop_desc   stop_lat  \\\n",
            "82    71233010IP        NaN                Neluwa        NaN  6.3774803   \n",
            "83  31021060SP-R        NaN  Batuwangala Junction        NaN  6.3807607   \n",
            "84  31021045SP-R        NaN           Kadiningala        NaN  6.3462312   \n",
            "85  31021037SP-R        NaN               Dellawa        NaN  6.3209369   \n",
            "86           NaN        NaN                              NaN  6.7563710   \n",
            "\n",
            "      stop_lon  zone_id  stop_url  location_type  parent_station  \\\n",
            "82  80.3608382      NaN       NaN            NaN             NaN   \n",
            "83  80.3777370      NaN       NaN            NaN             NaN   \n",
            "84  80.4157197      NaN       NaN            NaN             NaN   \n",
            "85  80.4368641      NaN       NaN            NaN             NaN   \n",
            "86  80.6937080      NaN       NaN            NaN             NaN   \n",
            "\n",
            "    stop_timezone  wheelchair_boarding  \n",
            "82            NaN                  NaN  \n",
            "83            NaN                  NaN  \n",
            "84            NaN                  NaN  \n",
            "85            NaN                  NaN  \n",
            "86            NaN                  NaN  \n"
          ]
        }
      ]
    },
    {
      "cell_type": "code",
      "source": [
        "#Extracting stop id s that start with letter \"T\"\n",
        "\n",
        "stop_id_list = excelData['stop_id'].tolist()\n",
        "string_list = [str(id) for id in stop_id_list]\n",
        "print(string_list)\n",
        "\n",
        "count_a = sum(1 for word in string_list if word.startswith('T'))\n",
        "print(count_a)\n",
        "\n",
        "i = count_a\n",
        "if (count_a != 0):\n",
        "  for index, row in excelData.iterrows():\n",
        "    if (pd.isna(row['stop_id'])):\n",
        "      stop_name = str(input(f\"Enter a stop name for index number {index} , latitude {row['stop_lat']} and longitude {row['stop_lon']} \"))\n",
        "      excelData.loc[[index], ['stop_id', 'stop_name']] = [f'T{i + 1:08}', stop_name]\n",
        "      i += 1\n",
        "\n",
        "print(excelData.tail())\n",
        "\n",
        "# with pd.option_context('display.max_rows', None, 'display.max_columns', None):  # more options can be specified also\n",
        "#     print(excelData)"
      ],
      "metadata": {
        "colab": {
          "base_uri": "https://localhost:8080/"
        },
        "id": "-o1B8lOvfcn7",
        "outputId": "2ff13654-2ec5-4a4c-e6c0-06465b86a00d"
      },
      "execution_count": 56,
      "outputs": [
        {
          "output_type": "stream",
          "name": "stdout",
          "text": [
            "['T000000002W', '91304020WP', '91304216IP', '91304030WP', '91304031WP', '91304224IP-R', '91304033WP-R', '91304035WP-R', '91304037WP-R', '91304039WP', '91292041WP', '91292077WP', 'nan', '91292193IP', '91292085WP', '91292058WP', 'T000000001W', '91292098WP', '91292154WP', '92312078WP', '92311014WP', '92316013WP', '92316068IP', '92316065WP', '52190008IP', '52183005IP', 'T000000001NW', '52177007IP', '52176011IP', '52184002TS', '52184004TS', '52188011IP', '52188015IP', '52180004IP', '52180005IP', '31093005IP', '31095021IP', '31090010IP', '45141001TS', '45142025IP', '45142021IP', '44137018IP', '42127006IP', '42127012IP', '42126004IP', '42126005IP', '42128002IP', '42128000IP', '41117024IP', '41117025IP', '41117014IP', '41117015IP', '41116010IP', '41116009IP', '41116006IP', '41116007IP', '41114003IP', 'T000000004N', '41123001TS', 'T000000003N', '41123002TS', '41123003TS', '41122001TS', 'T000000002N', 'T000000001', '71226009IP', '71226013IP', '71226014IP', '31045068SP', '71219015EX', '92313004WP', '92311020WP', '92311016WP', '92316061WP', '92316022WP', '92316056WP', '92316052WP', '92316062WP', '71237004IP', '31048190SP', '71232010IP', '71235011IP', '71233010IP', '31021060SP-R', '31021045SP-R', '31021037SP-R', 'nan']\n",
            "7\n",
            "Enter a stop name for index number 12 , latitude 6.9337351 and longitude 79.8562748 Colombo\n",
            "Enter a stop name for index number 86 , latitude 6.756371 and longitude 80.693708 Kandy\n",
            "         stop_id  stop_code             stop_name  stop_desc   stop_lat  \\\n",
            "82    71233010IP        NaN                Neluwa        NaN  6.3774803   \n",
            "83  31021060SP-R        NaN  Batuwangala Junction        NaN  6.3807607   \n",
            "84  31021045SP-R        NaN           Kadiningala        NaN  6.3462312   \n",
            "85  31021037SP-R        NaN               Dellawa        NaN  6.3209369   \n",
            "86     T00000009        NaN                 Kandy        NaN  6.7563710   \n",
            "\n",
            "      stop_lon  zone_id  stop_url  location_type  parent_station  \\\n",
            "82  80.3608382      NaN       NaN            NaN             NaN   \n",
            "83  80.3777370      NaN       NaN            NaN             NaN   \n",
            "84  80.4157197      NaN       NaN            NaN             NaN   \n",
            "85  80.4368641      NaN       NaN            NaN             NaN   \n",
            "86  80.6937080      NaN       NaN            NaN             NaN   \n",
            "\n",
            "    stop_timezone  wheelchair_boarding  \n",
            "82            NaN                  NaN  \n",
            "83            NaN                  NaN  \n",
            "84            NaN                  NaN  \n",
            "85            NaN                  NaN  \n",
            "86            NaN                  NaN  \n"
          ]
        }
      ]
    },
    {
      "cell_type": "code",
      "source": [
        "with pd.option_context('display.max_rows', None, 'display.max_columns', None):  # more options can be specified also\n",
        "    print(excelData)"
      ],
      "metadata": {
        "colab": {
          "base_uri": "https://localhost:8080/"
        },
        "id": "Uf1GLToDNrIW",
        "outputId": "fce49bcc-1259-4252-b567-d064673d5348"
      },
      "execution_count": 57,
      "outputs": [
        {
          "output_type": "stream",
          "name": "stdout",
          "text": [
            "         stop_id  stop_code                      stop_name  stop_desc  \\\n",
            "0    T000000002W        NaN    Visa Pillaiyar Kovil IBC Rd        NaN   \n",
            "1     91304020WP        NaN             Wellawatte Station        NaN   \n",
            "2     91304216IP        NaN              7Stories Ranjanas        NaN   \n",
            "3     91304030WP        NaN   Bambalapitiya Flats Bus Stop        NaN   \n",
            "4     91304031WP        NaN               Visakha Bus Stop        NaN   \n",
            "5   91304224IP-R        NaN          Bambalapitiya MC Park        NaN   \n",
            "6   91304033WP-R        NaN      Cargills Bank-Kollupitiya        NaN   \n",
            "7   91304035WP-R        NaN          Kollupitiya McDonalds        NaN   \n",
            "8   91304037WP-R        NaN           Kollupitiya Bus Stop        NaN   \n",
            "9     91304039WP        NaN                 Cinnaman Grand        NaN   \n",
            "10    91292041WP        NaN             Galleface Bus Stop        NaN   \n",
            "11    91292077WP        NaN         Pettah Railway Station        NaN   \n",
            "12     T00000008        NaN                        Colombo        NaN   \n",
            "13    91292193IP        NaN    Technical Junction Maradana        NaN   \n",
            "14    91292085WP        NaN       Panchikawatta Roundabout        NaN   \n",
            "15    91292058WP        NaN   Armour Street Police Station        NaN   \n",
            "16   T000000001W        NaN           Kotahena Post Office        NaN   \n",
            "17    91292098WP        NaN            Stadium Petrol shed        NaN   \n",
            "18    91292154WP        NaN    Thotalaga Junction Bus Stop        NaN   \n",
            "19    92312078WP        NaN            Peliyagoda junction        NaN   \n",
            "20    92311014WP        NaN               Airport Bus Stop        NaN   \n",
            "21    92316013WP        NaN      Negombo Hospital Bus Stop        NaN   \n",
            "22    92316068IP        NaN           Periyamulla Junction        NaN   \n",
            "23    92316065WP        NaN     Negombo Kochikadai Peoples        NaN   \n",
            "24    52190008IP        NaN                     Wennappuwa        NaN   \n",
            "25    52183005IP        NaN                      Maarawila        NaN   \n",
            "26  T000000001NW        NaN        General Hospital Chilaw        NaN   \n",
            "27    52177007IP        NaN                         Chilaw        NaN   \n",
            "28    52176011IP        NaN                    Bangadeniya        NaN   \n",
            "29    52184002TS        NaN                         Mundel        NaN   \n",
            "30    52184004TS        NaN                    Madurankuli        NaN   \n",
            "31    52188011IP        NaN                       Palaviya        NaN   \n",
            "32    52188015IP        NaN                        Puttlam        NaN   \n",
            "33    52180004IP        NaN                Karuwalagaswewa        NaN   \n",
            "34    52180005IP        NaN                     Saliyawewa        NaN   \n",
            "35    31093005IP        NaN                  Nochchiyagama        NaN   \n",
            "36    31095021IP        NaN                   Anuradhapura        NaN   \n",
            "37    31090010IP        NaN                  Madawachchiya        NaN   \n",
            "38    45141001TS        NaN                       Vavuniya        NaN   \n",
            "39    45142025IP        NaN                   Puliyankulam        NaN   \n",
            "40    45142021IP        NaN               Kanagarayankulam        NaN   \n",
            "41    44137018IP        NaN                      Maankulam        NaN   \n",
            "42    42127006IP        NaN                     Iranaimadu        NaN   \n",
            "43    42127012IP        NaN                    Kilinochchi        NaN   \n",
            "44    42126004IP        NaN                      Paranthan        NaN   \n",
            "45    42126005IP        NaN                  Elephant Pass        NaN   \n",
            "46    42128002IP        NaN                     Iyakachchi        NaN   \n",
            "47    42128000IP        NaN                          Palai        NaN   \n",
            "48    41117024IP        NaN                      Kodikamam        NaN   \n",
            "49    41117025IP        NaN              Meesalai Junction        NaN   \n",
            "50    41117014IP        NaN                 Chavakachcheri        NaN   \n",
            "51    41117015IP        NaN                       Madduvil        NaN   \n",
            "52    41116010IP        NaN                Kaithady Bridge        NaN   \n",
            "53    41116009IP        NaN                      Navatkuli        NaN   \n",
            "54    41116006IP        NaN                  Pangkangkulam        NaN   \n",
            "55    41116007IP        NaN  Jaffna Divisional Secretariat        NaN   \n",
            "56    41114003IP        NaN                         Jaffna        NaN   \n",
            "57   T000000004N        NaN                     Nachchimar        NaN   \n",
            "58    41123001TS        NaN                         Inuvil        NaN   \n",
            "59   T000000003N        NaN               Maruthanar Madam        NaN   \n",
            "60    41123002TS        NaN                      Chunnakam        NaN   \n",
            "61    41123003TS        NaN                       Mallakam        NaN   \n",
            "62    41122001TS        NaN                    Thellipalai        NaN   \n",
            "63   T000000002N        NaN                  Pandatharippu        NaN   \n",
            "64    T000000001        NaN                    Vaddukoddai        NaN   \n",
            "65    71226009IP        NaN                          Galle        NaN   \n",
            "66    71226013IP        NaN                        Magalle        NaN   \n",
            "67    71226014IP        NaN                Dewata Junction        NaN   \n",
            "68    31045068SP        NaN                    Walahanduwa        NaN   \n",
            "69    71219015EX        NaN              Pinnaduwa Highway        NaN   \n",
            "70    92313004WP        NaN                      Kadawatha        NaN   \n",
            "71    92311020WP        NaN             Airport/Katunayake        NaN   \n",
            "72    92311016WP        NaN                 18Th Mile Post        NaN   \n",
            "73    92316061WP        NaN        20th Mile Post Junction        NaN   \n",
            "74    92316022WP        NaN                         Kurana        NaN   \n",
            "75    92316056WP        NaN              Taladuwa Junction        NaN   \n",
            "76    92316052WP        NaN     Telwatta Junction Bus Stop        NaN   \n",
            "77    92316062WP        NaN                        Negombo        NaN   \n",
            "78    71237004IP        NaN           Kottawagama Junction        NaN   \n",
            "79    31048190SP        NaN          Nakiyadeniya Junction        NaN   \n",
            "80    71232010IP        NaN                        Udugama        NaN   \n",
            "81    71235011IP        NaN             Thawalama Junction        NaN   \n",
            "82    71233010IP        NaN                         Neluwa        NaN   \n",
            "83  31021060SP-R        NaN           Batuwangala Junction        NaN   \n",
            "84  31021045SP-R        NaN                    Kadiningala        NaN   \n",
            "85  31021037SP-R        NaN                        Dellawa        NaN   \n",
            "86     T00000009        NaN                          Kandy        NaN   \n",
            "\n",
            "       stop_lat     stop_lon  zone_id  stop_url  location_type  \\\n",
            "0   6.869291961  79.85875881      NaN       NaN            NaN   \n",
            "1   6.877093300  79.86057330      NaN       NaN            NaN   \n",
            "2   6.881399600  79.86167910      NaN       NaN            NaN   \n",
            "3   6.884079100  79.85838670      NaN       NaN            NaN   \n",
            "4   6.889261300  79.85690170      NaN       NaN            NaN   \n",
            "5   6.893355800  79.85554220      NaN       NaN            NaN   \n",
            "6   6.897008800  79.85436840      NaN       NaN            NaN   \n",
            "7   6.902893600  79.85247210      NaN       NaN            NaN   \n",
            "8   6.909925600  79.85011770      NaN       NaN            NaN   \n",
            "9   6.917003026  79.84782446      NaN       NaN            NaN   \n",
            "10  6.925508238  79.84478921      NaN       NaN            NaN   \n",
            "11  6.934050239  79.85018648      NaN       NaN            NaN   \n",
            "12  6.933735100  79.85627480      NaN       NaN            NaN   \n",
            "13  6.932425700  79.86065170      NaN       NaN            NaN   \n",
            "14  6.934598399  79.86744247      NaN       NaN            NaN   \n",
            "15  6.939940500  79.86590690      NaN       NaN            NaN   \n",
            "16  6.945384955  79.86379973      NaN       NaN            NaN   \n",
            "17  6.947437900  79.86995840      NaN       NaN            NaN   \n",
            "18  6.958413300  79.87582140      NaN       NaN            NaN   \n",
            "19  6.957241200  79.88232970      NaN       NaN            NaN   \n",
            "20  7.154234100  79.87186510      NaN       NaN            NaN   \n",
            "21  7.211022923  79.84874245      NaN       NaN            NaN   \n",
            "22  7.221738900  79.84695910      NaN       NaN            NaN   \n",
            "23  7.225401300  79.85003350      NaN       NaN            NaN   \n",
            "24  7.280820100  79.85559580      NaN       NaN            NaN   \n",
            "25  7.414222700  79.83081090      NaN       NaN            NaN   \n",
            "26  7.571781448  79.79775006      NaN       NaN            NaN   \n",
            "27  7.576217400  79.79583090      NaN       NaN            NaN   \n",
            "28  7.628541900  79.82255100      NaN       NaN            NaN   \n",
            "29  7.797689200  79.82562350      NaN       NaN            NaN   \n",
            "30  7.903040800  79.82101950      NaN       NaN            NaN   \n",
            "31  7.978602000  79.83318600      NaN       NaN            NaN   \n",
            "32  8.030036900  79.85278490      NaN       NaN            NaN   \n",
            "33  8.056069300  79.95660920      NaN       NaN            NaN   \n",
            "34  8.193180400  80.09308670      NaN       NaN            NaN   \n",
            "35  8.263528500  80.21001490      NaN       NaN            NaN   \n",
            "36  8.342101700  80.41169960      NaN       NaN            NaN   \n",
            "37  8.539056000  80.49280280      NaN       NaN            NaN   \n",
            "38  8.753776700  80.49356460      NaN       NaN            NaN   \n",
            "39  8.962627600  80.52470580      NaN       NaN            NaN   \n",
            "40  9.051504400  80.51431980      NaN       NaN            NaN   \n",
            "41  9.146449200  80.43812560      NaN       NaN            NaN   \n",
            "42  9.343935500  80.40915680      NaN       NaN            NaN   \n",
            "43  9.353815200  80.40892210      NaN       NaN            NaN   \n",
            "44  9.437217700  80.40759170      NaN       NaN            NaN   \n",
            "45  9.502337200  80.40639810      NaN       NaN            NaN   \n",
            "46  9.563140300  80.39994250      NaN       NaN            NaN   \n",
            "47  9.609015100  80.33051630      NaN       NaN            NaN   \n",
            "48  9.680748500  80.21546050      NaN       NaN            NaN   \n",
            "49  9.677690500  80.19640270      NaN       NaN            NaN   \n",
            "50  9.659159700  80.16234670      NaN       NaN            NaN   \n",
            "51  9.669089800  80.12116330      NaN       NaN            NaN   \n",
            "52  9.670373100  80.10806030      NaN       NaN            NaN   \n",
            "53  9.662159400  80.08069280      NaN       NaN            NaN   \n",
            "54  9.661030500  80.03846080      NaN       NaN            NaN   \n",
            "55  9.660430300  80.02820360      NaN       NaN            NaN   \n",
            "56  9.664518100  80.00997310      NaN       NaN            NaN   \n",
            "57  9.687362709  80.01366298      NaN       NaN            NaN   \n",
            "58  9.726727700  80.02953170      NaN       NaN            NaN   \n",
            "59  9.729623895  80.02374084      NaN       NaN            NaN   \n",
            "60  9.745835500  80.03344770      NaN       NaN            NaN   \n",
            "61  9.762774600  80.03222470      NaN       NaN            NaN   \n",
            "62  9.784935800  80.03514290      NaN       NaN            NaN   \n",
            "63  9.773248207  79.96939329      NaN       NaN            NaN   \n",
            "64  9.728503545  79.94856188      NaN       NaN            NaN   \n",
            "65  6.032951000  80.21553200      NaN       NaN            NaN   \n",
            "66  6.034081000  80.23547400      NaN       NaN            NaN   \n",
            "67  6.033221000  80.23842800      NaN       NaN            NaN   \n",
            "68  6.049924000  80.25601800      NaN       NaN            NaN   \n",
            "69  6.064258000  80.26183400      NaN       NaN            NaN   \n",
            "70  7.005171000  79.95463900      NaN       NaN            NaN   \n",
            "71  7.174844000  79.88865200      NaN       NaN            NaN   \n",
            "72  7.157859000  79.87079800      NaN       NaN            NaN   \n",
            "73  7.181728000  79.86096300      NaN       NaN            NaN   \n",
            "74  7.189845000  79.85836100      NaN       NaN            NaN   \n",
            "75  7.198412000  79.85459700      NaN       NaN            NaN   \n",
            "76  7.205506000  79.85116500      NaN       NaN            NaN   \n",
            "77  7.205391600  79.84061310      NaN       NaN            NaN   \n",
            "78  6.102130600  80.31825970      NaN       NaN            NaN   \n",
            "79  6.141863500  80.33775840      NaN       NaN            NaN   \n",
            "80  6.216211700  80.33586610      NaN       NaN            NaN   \n",
            "81  6.340349700  80.33662320      NaN       NaN            NaN   \n",
            "82  6.377480300  80.36083820      NaN       NaN            NaN   \n",
            "83  6.380760700  80.37773700      NaN       NaN            NaN   \n",
            "84  6.346231200  80.41571970      NaN       NaN            NaN   \n",
            "85  6.320936900  80.43686410      NaN       NaN            NaN   \n",
            "86  6.756371000  80.69370800      NaN       NaN            NaN   \n",
            "\n",
            "    parent_station  stop_timezone  wheelchair_boarding  \n",
            "0              NaN            NaN                  NaN  \n",
            "1              NaN            NaN                  NaN  \n",
            "2              NaN            NaN                  NaN  \n",
            "3              NaN            NaN                  NaN  \n",
            "4              NaN            NaN                  NaN  \n",
            "5              NaN            NaN                  NaN  \n",
            "6              NaN            NaN                  NaN  \n",
            "7              NaN            NaN                  NaN  \n",
            "8              NaN            NaN                  NaN  \n",
            "9              NaN            NaN                  NaN  \n",
            "10             NaN            NaN                  NaN  \n",
            "11             NaN            NaN                  NaN  \n",
            "12             NaN            NaN                  NaN  \n",
            "13             NaN            NaN                  NaN  \n",
            "14             NaN            NaN                  NaN  \n",
            "15             NaN            NaN                  NaN  \n",
            "16             NaN            NaN                  NaN  \n",
            "17             NaN            NaN                  NaN  \n",
            "18             NaN            NaN                  NaN  \n",
            "19             NaN            NaN                  NaN  \n",
            "20             NaN            NaN                  NaN  \n",
            "21             NaN            NaN                  NaN  \n",
            "22             NaN            NaN                  NaN  \n",
            "23             NaN            NaN                  NaN  \n",
            "24             NaN            NaN                  NaN  \n",
            "25             NaN            NaN                  NaN  \n",
            "26             NaN            NaN                  NaN  \n",
            "27             NaN            NaN                  NaN  \n",
            "28             NaN            NaN                  NaN  \n",
            "29             NaN            NaN                  NaN  \n",
            "30             NaN            NaN                  NaN  \n",
            "31             NaN            NaN                  NaN  \n",
            "32             NaN            NaN                  NaN  \n",
            "33             NaN            NaN                  NaN  \n",
            "34             NaN            NaN                  NaN  \n",
            "35             NaN            NaN                  NaN  \n",
            "36             NaN            NaN                  NaN  \n",
            "37             NaN            NaN                  NaN  \n",
            "38             NaN            NaN                  NaN  \n",
            "39             NaN            NaN                  NaN  \n",
            "40             NaN            NaN                  NaN  \n",
            "41             NaN            NaN                  NaN  \n",
            "42             NaN            NaN                  NaN  \n",
            "43             NaN            NaN                  NaN  \n",
            "44             NaN            NaN                  NaN  \n",
            "45             NaN            NaN                  NaN  \n",
            "46             NaN            NaN                  NaN  \n",
            "47             NaN            NaN                  NaN  \n",
            "48             NaN            NaN                  NaN  \n",
            "49             NaN            NaN                  NaN  \n",
            "50             NaN            NaN                  NaN  \n",
            "51             NaN            NaN                  NaN  \n",
            "52             NaN            NaN                  NaN  \n",
            "53             NaN            NaN                  NaN  \n",
            "54             NaN            NaN                  NaN  \n",
            "55             NaN            NaN                  NaN  \n",
            "56             NaN            NaN                  NaN  \n",
            "57             NaN            NaN                  NaN  \n",
            "58             NaN            NaN                  NaN  \n",
            "59             NaN            NaN                  NaN  \n",
            "60             NaN            NaN                  NaN  \n",
            "61             NaN            NaN                  NaN  \n",
            "62             NaN            NaN                  NaN  \n",
            "63             NaN            NaN                  NaN  \n",
            "64             NaN            NaN                  NaN  \n",
            "65             NaN            NaN                  NaN  \n",
            "66             NaN            NaN                  NaN  \n",
            "67             NaN            NaN                  NaN  \n",
            "68             NaN            NaN                  NaN  \n",
            "69             NaN            NaN                  NaN  \n",
            "70             NaN            NaN                  NaN  \n",
            "71             NaN            NaN                  NaN  \n",
            "72             NaN            NaN                  NaN  \n",
            "73             NaN            NaN                  NaN  \n",
            "74             NaN            NaN                  NaN  \n",
            "75             NaN            NaN                  NaN  \n",
            "76             NaN            NaN                  NaN  \n",
            "77             NaN            NaN                  NaN  \n",
            "78             NaN            NaN                  NaN  \n",
            "79             NaN            NaN                  NaN  \n",
            "80             NaN            NaN                  NaN  \n",
            "81             NaN            NaN                  NaN  \n",
            "82             NaN            NaN                  NaN  \n",
            "83             NaN            NaN                  NaN  \n",
            "84             NaN            NaN                  NaN  \n",
            "85             NaN            NaN                  NaN  \n",
            "86             NaN            NaN                  NaN  \n"
          ]
        }
      ]
    },
    {
      "cell_type": "code",
      "source": [
        "\n",
        "travo_added_id_list = []\n",
        "\n",
        "for row in excelData.iterrows():\n",
        "  lat_data = float(row[1].stop_lat)\n",
        "  lon_data = float(row[1].stop_lon)\n",
        "\n",
        "  if (latitude_cords.isin([lat_data]).any()) and (longitude_cords.isin([lon_data]).any()):\n",
        "    extracted_list = {'stop_id': {row[1].stop_id}, 'stop_lat': {row[1].stop_lat}, 'stop_lon': {row[1].stop_lon}}\n",
        "    travo_added_id_list.append(extracted_list)\n",
        "\n",
        "print(travo_added_id_list)\n",
        "\n",
        "#Update df with search cord list values\n",
        "for info in travo_added_id_list:\n",
        "  id_value = str(info['stop_id'].pop())\n",
        "  lat_value = float(info['stop_lat'].pop())\n",
        "  lon_value = float(info['stop_lon'].pop())\n",
        "\n",
        "  inputData.loc[(inputData['stop_lon'] ==  lon_value) & (inputData['stop_lat'] ==  lat_value), 'stop_id'] = id_value\n",
        "\n",
        "with pd.option_context('display.max_rows', None, 'display.max_columns', None):  # more options can be specified also\n",
        "    print(inputData)"
      ],
      "metadata": {
        "colab": {
          "base_uri": "https://localhost:8080/"
        },
        "id": "QaKDhVsO4rCH",
        "outputId": "2a31a8d8-c313-4ef7-c9fc-5a4b284017a0"
      },
      "execution_count": 183,
      "outputs": [
        {
          "output_type": "stream",
          "name": "stdout",
          "text": [
            "[{'stop_id': {'T00000002'}, 'stop_lat': {6.869291961}, 'stop_lon': {79.85875881}}, {'stop_id': {'91304020WP'}, 'stop_lat': {6.8770933}, 'stop_lon': {79.8605733}}, {'stop_id': {'91304031WP-R'}, 'stop_lat': {6.8892613}, 'stop_lon': {79.8569017}}, {'stop_id': {'91292081WP'}, 'stop_lat': {6.9337351}, 'stop_lon': {79.8562748}}, {'stop_id': {'92311014WP'}, 'stop_lat': {7.1542341}, 'stop_lon': {79.8718651}}, {'stop_id': {'52190008IP'}, 'stop_lat': {7.2808201}, 'stop_lon': {79.8555958}}, {'stop_id': {'52177007IP'}, 'stop_lat': {7.5762174}, 'stop_lon': {79.7958309}}, {'stop_id': {'T00000012'}, 'stop_lat': {6.756371}, 'stop_lon': {80.693708}}]\n",
            "        stop_id     stop_lat     stop_lon arrival_time departure_time  \\\n",
            "0    91304020WP  6.877093300  79.86057330     06_25_00       06_25_00   \n",
            "1  91304031WP-R  6.889261300  79.85690170     06_30_00       06_30_00   \n",
            "2    91292081WP  6.933735100  79.85627480     06_35_00       06_35_00   \n",
            "3    92311014WP  7.154234100  79.87186510     06_40_00       06_40_00   \n",
            "4    52190008IP  7.280820100  79.85559580     06_50_00       06_50_00   \n",
            "5    52177007IP  7.576217400  79.79583090     07_00_00       07_00_00   \n",
            "6    33033049SP  6.032075300  80.78846480     07_10_10       07_00_00   \n",
            "7     T00000002  6.869291961  79.85875881     07_20_00       07_20_00   \n",
            "8     T00000012  6.756371000  80.69370800     07_30_00       07_30_00   \n",
            "\n",
            "   sequence stop_headsign       trip_id  route_id  direction  \n",
            "0         1        Jaffna  N$0$B111_T01        22          1  \n",
            "1         2        Jaffna  N$0$B111_T01        22          1  \n",
            "2         3        Jaffna  N$0$B111_T01        22          1  \n",
            "3         4        Jaffna  N$0$B111_T01        22          1  \n",
            "4         5        Jaffna  N$0$B111_T01        22          1  \n",
            "5         6        Jaffna  N$1$B111_T01        22          0  \n",
            "6         7        Jaffna  N$1$B111_T01        22          0  \n",
            "7         8        Jaffna  N$1$B111_T01        22          0  \n",
            "8         9        Jaffna  N$1$B111_T01        22          0  \n"
          ]
        }
      ]
    },
    {
      "cell_type": "code",
      "source": [
        "appending_input_data_list = inputData.values.tolist()\n",
        "print(appending_input_data_list)\n",
        "excelData_list = excelData.values.tolist()\n",
        "# print(excelData_list)"
      ],
      "metadata": {
        "colab": {
          "base_uri": "https://localhost:8080/"
        },
        "id": "DfBETGS76zdG",
        "outputId": "a5f403e7-df6c-44f9-be71-0a577b323bf2"
      },
      "execution_count": 184,
      "outputs": [
        {
          "output_type": "stream",
          "name": "stdout",
          "text": [
            "[['91304020WP', 6.8770933, 79.8605733, '06_25_00', '06_25_00', 1, 'Jaffna', 'N$0$B111_T01', 22, 1], ['91304031WP-R', 6.8892613, 79.8569017, '06_30_00', '06_30_00', 2, 'Jaffna', 'N$0$B111_T01', 22, 1], ['91292081WP', 6.9337351, 79.8562748, '06_35_00', '06_35_00', 3, 'Jaffna', 'N$0$B111_T01', 22, 1], ['92311014WP', 7.1542341, 79.8718651, '06_40_00', '06_40_00', 4, 'Jaffna', 'N$0$B111_T01', 22, 1], ['52190008IP', 7.2808201, 79.8555958, '06_50_00', '06_50_00', 5, 'Jaffna', 'N$0$B111_T01', 22, 1], ['52177007IP', 7.5762174, 79.7958309, '07_00_00', '07_00_00', 6, 'Jaffna', 'N$1$B111_T01', 22, 0], ['33033049SP', 6.0320753, 80.7884648, '07_10_10', '07_00_00', 7, 'Jaffna', 'N$1$B111_T01', 22, 0], ['T00000002', 6.869291961, 79.85875881, '07_20_00', '07_20_00', 8, 'Jaffna', 'N$1$B111_T01', 22, 0], ['T00000012', 6.756371, 80.693708, '07_30_00', '07_30_00', 9, 'Jaffna', 'N$1$B111_T01', 22, 0]]\n"
          ]
        }
      ]
    },
    {
      "cell_type": "code",
      "source": [
        "from openpyxl import load_workbook\n",
        "df = pd.read_excel(excel_file_path, sheet_name= None )\n",
        "stop_time_sheet = df[\"Stop_time\"]\n",
        "print(stop_time_sheet)"
      ],
      "metadata": {
        "colab": {
          "base_uri": "https://localhost:8080/"
        },
        "id": "RiHLVgRp8Fyi",
        "outputId": "81b77d80-148f-497c-dec0-d33f0b669865"
      },
      "execution_count": 185,
      "outputs": [
        {
          "output_type": "stream",
          "name": "stdout",
          "text": [
            "     Unnamed: 0 arrival_time departure_time     stop_id  stop_sequence  \\\n",
            "0           NaN     06_25_00       06_25_00         NaN            NaN   \n",
            "1           NaN     06_30_00       06_30_00         NaN            NaN   \n",
            "2           NaN     06_35_00       06_35_00         NaN            NaN   \n",
            "3           NaN     06_38_00       06_38_00         NaN            NaN   \n",
            "4           NaN     06_40_00       06_40_00         NaN            NaN   \n",
            "..          ...          ...            ...         ...            ...   \n",
            "186         NaN     06_50_00       06_50_00  52190008IP            5.0   \n",
            "187         NaN     07_00_00       07_00_00  52177007IP            6.0   \n",
            "188         NaN     07_10_10       07_00_00  33033049SP            7.0   \n",
            "189         NaN     07_20_00       07_20_00   T00000002            8.0   \n",
            "190         NaN     07_30_00       07_30_00   T00000012            9.0   \n",
            "\n",
            "    stop_headsign  pickup_type  drop_off_type  continuous_pickup  \\\n",
            "0             NaN          NaN            NaN                NaN   \n",
            "1             NaN          NaN            NaN                NaN   \n",
            "2             NaN          NaN            NaN                NaN   \n",
            "3             NaN          NaN            NaN                NaN   \n",
            "4             NaN          NaN            NaN                NaN   \n",
            "..            ...          ...            ...                ...   \n",
            "186        Jaffna          NaN            NaN                NaN   \n",
            "187        Jaffna          NaN            NaN                NaN   \n",
            "188        Jaffna          NaN            NaN                NaN   \n",
            "189        Jaffna          NaN            NaN                NaN   \n",
            "190        Jaffna          NaN            NaN                NaN   \n",
            "\n",
            "     continuous_drop_off  shape_dist_traveled  timepoint  \n",
            "0                    NaN                  NaN        1.0  \n",
            "1                    NaN                  NaN        1.0  \n",
            "2                    NaN                  NaN        1.0  \n",
            "3                    NaN                  NaN        1.0  \n",
            "4                    NaN                  NaN        1.0  \n",
            "..                   ...                  ...        ...  \n",
            "186                  NaN                  NaN        NaN  \n",
            "187                  NaN                  NaN        NaN  \n",
            "188                  NaN                  NaN        NaN  \n",
            "189                  NaN                  NaN        NaN  \n",
            "190                  NaN                  NaN        NaN  \n",
            "\n",
            "[191 rows x 12 columns]\n"
          ]
        }
      ]
    },
    {
      "cell_type": "code",
      "source": [
        "j = 0\n",
        "for j in range(len(appending_input_data_list)):\n",
        "  row_to_add = {'trip_id': appending_input_data_list[j][7],'arrival_time': appending_input_data_list[j][3], 'departure_time': appending_input_data_list[j][4], 'stop_id': appending_input_data_list[j][0],\n",
        "                'stop_sequence': appending_input_data_list[j][5], 'stop_headsign': appending_input_data_list[j][6],}\n",
        "  stop_time_sheet.loc[len(stop_time_sheet)] = row_to_add\n",
        "  j += 1\n",
        "print(row_to_add)"
      ],
      "metadata": {
        "colab": {
          "base_uri": "https://localhost:8080/"
        },
        "id": "ERCtB44o7Tc4",
        "outputId": "766e1d26-df0c-4a5f-f7de-f82c6dcbd055"
      },
      "execution_count": 186,
      "outputs": [
        {
          "output_type": "stream",
          "name": "stdout",
          "text": [
            "{'trip_id': 'N$1$B111_T01', 'arrival_time': '07_30_00', 'departure_time': '07_30_00', 'stop_id': 'T00000012', 'stop_sequence': 9, 'stop_headsign': 'Jaffna'}\n"
          ]
        }
      ]
    },
    {
      "cell_type": "code",
      "source": [
        "df_trips_data = pd.DataFrame.from_dict(rows_to_add_trips)\n",
        "print(df_trips_data)"
      ],
      "metadata": {
        "colab": {
          "base_uri": "https://localhost:8080/"
        },
        "id": "RZmmPAyAK2Ln",
        "outputId": "ac585b69-7953-4117-8dc4-ec5f4e2931a1"
      },
      "execution_count": 187,
      "outputs": [
        {
          "output_type": "stream",
          "name": "stdout",
          "text": [
            "   route_id service_id       trip_id trip_headsign direction_id\n",
            "0        22      Daily  N$0$B111_T01        Ampara            0\n",
            "1        22      Daily  N$1$B111_T01        Ampara            1\n"
          ]
        }
      ]
    },
    {
      "cell_type": "code",
      "source": [
        "# Reindex routes\n",
        "route_sheet = df['Routes']\n",
        "route_sheet.loc[len(route_sheet)] = routeRow\n",
        "routesData = route_sheet.reindex(index=route_sheet.index, columns=route_sheet.columns)\n",
        "route_sheet[:] = routesData\n",
        "# df['Routes'] = route_sheet\n",
        "\n",
        "# Only print the route_sheet after it has been reindexed\n",
        "print(route_sheet)\n",
        "\n",
        "#Reindexing Trips\n",
        "tripsData = tripsData.reindex(index=tripsData.index, columns=df_trips_data.columns)\n",
        "\n",
        "for update_trips in range(len(rows_to_add_trips)):\n",
        "  tripsData.loc[len(tripsData)] = rows_to_add_trips[update_trips]\n",
        "tripsData[:] = tripsData\n",
        "df[\"Trips\"] = tripsData\n",
        "print(tripsData)\n",
        "\n",
        "#Reindexing stops\n",
        "stops_sheet = df['Stops']\n",
        "stops_sheet = stops_sheet.reindex(index=excelData.index, columns=excelData.columns)\n",
        "stops_sheet[:] = excelData\n",
        "df['Stops'] = stops_sheet\n",
        "\n",
        "#Reindexing stop times\n",
        "stop_time_sheet = stop_time_sheet.reindex(index=stop_time_sheet.index, columns=stop_time_sheet.columns)\n",
        "stop_time_sheet[:] = stop_time_sheet\n",
        "df[\"Stop_time\"] = stop_time_sheet\n",
        "\n",
        "\n",
        "with pd.ExcelWriter(excel_file_path, engine=\"openpyxl\") as writer:\n",
        "  for sheet_name, sheet_data in df.items():\n",
        "    sheet_data.to_excel(writer, sheet_name=sheet_name, index=False)"
      ],
      "metadata": {
        "id": "liCvAAmo93Hj",
        "colab": {
          "base_uri": "https://localhost:8080/"
        },
        "outputId": "c57f8726-44cf-4493-d52e-0978e2e5fbcd"
      },
      "execution_count": 189,
      "outputs": [
        {
          "output_type": "stream",
          "name": "stdout",
          "text": [
            "  route_id agency_id route_short_name  route_long_name  route_desc route_type  \\\n",
            "0     B019      BOOK               87   Colombo-Jaffna         NaN          3   \n",
            "1     R011      BOOK       EX1-33/270    Galle-Negombo         NaN          3   \n",
            "2    SP358      BOOK              358  Galle - Dellawa         NaN          3   \n",
            "3       22      BOOK               22   Colombo-Ampara         NaN          3   \n",
            "4       22      BOOK               22   Colombo-Ampara         NaN          3   \n",
            "\n",
            "   route_url route_color  route_text_color  route_sort_order  \\\n",
            "0        NaN      D4D428               NaN               NaN   \n",
            "1        NaN      D4D428               NaN               NaN   \n",
            "2        NaN      D4D428               NaN               NaN   \n",
            "3        NaN      D4D428               NaN               NaN   \n",
            "4        NaN      D4D428               NaN               NaN   \n",
            "\n",
            "   continuous_pickup  continuous_drop_off  \n",
            "0                NaN                  NaN  \n",
            "1                NaN                  NaN  \n",
            "2                NaN                  NaN  \n",
            "3                NaN                  NaN  \n",
            "4                NaN                  NaN  \n",
            "   route_id service_id        trip_id trip_headsign direction_id\n",
            "0      R011      Daily   N$0$R011_T01       Negombo            0\n",
            "1      R011      Daily   N$1$R011_T01         Galle            1\n",
            "2      B019      Daily   N$0$B019_T01        Jaffna            0\n",
            "3      B019      Daily   N$1$B019_T01      Collombo            1\n",
            "4     SP358      Daily  N$0$SP358_T01       Dellawa            0\n",
            "5     SP358      Daily  N$1$SP358_T01         Galle            1\n",
            "6        22      Daily   N$0$B111_T01        Ampara            0\n",
            "7        22      Daily   N$1$B111_T01        Ampara            1\n",
            "8        22      Daily   N$0$B111_T01        Ampara            0\n",
            "9        22      Daily   N$1$B111_T01        Ampara            1\n",
            "10       22      Daily   N$0$B111_T01        Ampara            0\n",
            "11       22      Daily   N$1$B111_T01        Ampara            1\n"
          ]
        }
      ]
    },
    {
      "cell_type": "code",
      "source": [
        "from openpyxl import load_workbook\n",
        "df = pd.read_excel(excel_file_path, sheet_name= None )\n",
        "\n",
        "sheet = df[\"Stops\"]\n",
        "sheet = sheet.reindex(index=excelData.index, columns=excelData.columns)\n",
        "sheet[:] = excelData\n",
        "df[\"Stop_time\"] = sheet\n",
        "\n",
        "# with pd.ExcelWriter(excel_file_path, engine=\"openpyxl\") as writer:\n",
        "#   for sheet_name, sheet_data in df.items():\n",
        "#     sheet_data.to_excel(writer, sheet_name=sheet_name, index=False)\n",
        "\n",
        "\n"
      ],
      "metadata": {
        "id": "AkSRv-ne86dC"
      },
      "execution_count": 64,
      "outputs": []
    },
    {
      "cell_type": "code",
      "execution_count": null,
      "metadata": {
        "colab": {
          "base_uri": "https://localhost:8080/",
          "height": 356
        },
        "id": "yCuncdyA35DI",
        "outputId": "935fca8a-8550-434d-f0b7-84697214361a"
      },
      "outputs": [
        {
          "output_type": "error",
          "ename": "UFuncTypeError",
          "evalue": "ufunc 'subtract' did not contain a loop with signature matching types (dtype('<U9'), dtype('float64')) -> None",
          "traceback": [
            "\u001b[0;31m---------------------------------------------------------------------------\u001b[0m",
            "\u001b[0;31mUFuncTypeError\u001b[0m                            Traceback (most recent call last)",
            "\u001b[0;32m<ipython-input-13-c7de592f7a4b>\u001b[0m in \u001b[0;36m<cell line: 3>\u001b[0;34m()\u001b[0m\n\u001b[1;32m     53\u001b[0m \u001b[0;34m\u001b[0m\u001b[0m\n\u001b[1;32m     54\u001b[0m \u001b[0;34m\u001b[0m\u001b[0m\n\u001b[0;32m---> 55\u001b[0;31m   \u001b[0mfiltered_positions\u001b[0m \u001b[0;34m=\u001b[0m \u001b[0mget_gps_positions\u001b[0m\u001b[0;34m(\u001b[0m\u001b[0mdata\u001b[0m\u001b[0;34m,\u001b[0m \u001b[0mtarget_lat\u001b[0m\u001b[0;34m,\u001b[0m \u001b[0mtarget_lon\u001b[0m\u001b[0;34m,\u001b[0m \u001b[0mmax_distance\u001b[0m\u001b[0;34m)\u001b[0m\u001b[0;34m\u001b[0m\u001b[0;34m\u001b[0m\u001b[0m\n\u001b[0m\u001b[1;32m     56\u001b[0m \u001b[0;34m\u001b[0m\u001b[0m\n\u001b[1;32m     57\u001b[0m   \u001b[0mmismatch_list\u001b[0m \u001b[0;34m=\u001b[0m \u001b[0;34m[\u001b[0m\u001b[0;34m]\u001b[0m\u001b[0;34m\u001b[0m\u001b[0;34m\u001b[0m\u001b[0m\n",
            "\u001b[0;32m<ipython-input-13-c7de592f7a4b>\u001b[0m in \u001b[0;36mget_gps_positions\u001b[0;34m(data, target_lat, target_lon, max_distance)\u001b[0m\n\u001b[1;32m     41\u001b[0m           \u001b[0mstop_lon\u001b[0m \u001b[0;34m=\u001b[0m \u001b[0mvalues\u001b[0m\u001b[0;34m[\u001b[0m\u001b[0;34m-\u001b[0m\u001b[0;36m1\u001b[0m\u001b[0;34m]\u001b[0m\u001b[0;34m\u001b[0m\u001b[0;34m\u001b[0m\u001b[0m\n\u001b[1;32m     42\u001b[0m \u001b[0;34m\u001b[0m\u001b[0m\n\u001b[0;32m---> 43\u001b[0;31m           \u001b[0mdistance\u001b[0m \u001b[0;34m=\u001b[0m \u001b[0mget_distance\u001b[0m\u001b[0;34m(\u001b[0m\u001b[0mtarget_lat\u001b[0m\u001b[0;34m,\u001b[0m \u001b[0mtarget_lon\u001b[0m\u001b[0;34m,\u001b[0m \u001b[0mstop_lat\u001b[0m\u001b[0;34m,\u001b[0m \u001b[0mstop_lon\u001b[0m\u001b[0;34m)\u001b[0m\u001b[0;34m\u001b[0m\u001b[0;34m\u001b[0m\u001b[0m\n\u001b[0m\u001b[1;32m     44\u001b[0m           \u001b[0;32mif\u001b[0m \u001b[0mdistance\u001b[0m \u001b[0;34m<=\u001b[0m \u001b[0mmax_distance\u001b[0m\u001b[0;34m:\u001b[0m\u001b[0;34m\u001b[0m\u001b[0;34m\u001b[0m\u001b[0m\n\u001b[1;32m     45\u001b[0m               \u001b[0mfiltered_positions\u001b[0m\u001b[0;34m.\u001b[0m\u001b[0mappend\u001b[0m\u001b[0;34m(\u001b[0m\u001b[0;34m(\u001b[0m\u001b[0mid\u001b[0m\u001b[0;34m,\u001b[0m\u001b[0mvalues\u001b[0m\u001b[0;34m[\u001b[0m\u001b[0;36m0\u001b[0m\u001b[0;34m]\u001b[0m\u001b[0;34m,\u001b[0m \u001b[0mvalues\u001b[0m\u001b[0;34m[\u001b[0m\u001b[0;36m1\u001b[0m\u001b[0;34m]\u001b[0m\u001b[0;34m,\u001b[0m \u001b[0mstop_lat\u001b[0m\u001b[0;34m,\u001b[0m \u001b[0mstop_lon\u001b[0m\u001b[0;34m,\u001b[0m \u001b[0mdistance\u001b[0m\u001b[0;34m)\u001b[0m\u001b[0;34m)\u001b[0m\u001b[0;34m\u001b[0m\u001b[0;34m\u001b[0m\u001b[0m\n",
            "\u001b[0;32m<ipython-input-13-c7de592f7a4b>\u001b[0m in \u001b[0;36mget_distance\u001b[0;34m(lat1, lon1, lat2, lon2)\u001b[0m\n\u001b[1;32m     16\u001b[0m       \u001b[0mR\u001b[0m \u001b[0;34m=\u001b[0m \u001b[0;36m6371.0\u001b[0m\u001b[0;34m\u001b[0m\u001b[0;34m\u001b[0m\u001b[0m\n\u001b[1;32m     17\u001b[0m \u001b[0;34m\u001b[0m\u001b[0m\n\u001b[0;32m---> 18\u001b[0;31m       \u001b[0md_lat\u001b[0m \u001b[0;34m=\u001b[0m \u001b[0mradians\u001b[0m\u001b[0;34m(\u001b[0m\u001b[0mlat2\u001b[0m \u001b[0;34m-\u001b[0m \u001b[0mlat1\u001b[0m\u001b[0;34m)\u001b[0m\u001b[0;34m\u001b[0m\u001b[0;34m\u001b[0m\u001b[0m\n\u001b[0m\u001b[1;32m     19\u001b[0m       \u001b[0md_lon\u001b[0m \u001b[0;34m=\u001b[0m \u001b[0mradians\u001b[0m\u001b[0;34m(\u001b[0m\u001b[0mlon2\u001b[0m \u001b[0;34m-\u001b[0m \u001b[0mlon1\u001b[0m\u001b[0;34m)\u001b[0m\u001b[0;34m\u001b[0m\u001b[0;34m\u001b[0m\u001b[0m\n\u001b[1;32m     20\u001b[0m \u001b[0;34m\u001b[0m\u001b[0m\n",
            "\u001b[0;32m/usr/local/lib/python3.10/dist-packages/pandas/core/ops/common.py\u001b[0m in \u001b[0;36mnew_method\u001b[0;34m(self, other)\u001b[0m\n\u001b[1;32m     79\u001b[0m         \u001b[0mother\u001b[0m \u001b[0;34m=\u001b[0m \u001b[0mitem_from_zerodim\u001b[0m\u001b[0;34m(\u001b[0m\u001b[0mother\u001b[0m\u001b[0;34m)\u001b[0m\u001b[0;34m\u001b[0m\u001b[0;34m\u001b[0m\u001b[0m\n\u001b[1;32m     80\u001b[0m \u001b[0;34m\u001b[0m\u001b[0m\n\u001b[0;32m---> 81\u001b[0;31m         \u001b[0;32mreturn\u001b[0m \u001b[0mmethod\u001b[0m\u001b[0;34m(\u001b[0m\u001b[0mself\u001b[0m\u001b[0;34m,\u001b[0m \u001b[0mother\u001b[0m\u001b[0;34m)\u001b[0m\u001b[0;34m\u001b[0m\u001b[0;34m\u001b[0m\u001b[0m\n\u001b[0m\u001b[1;32m     82\u001b[0m \u001b[0;34m\u001b[0m\u001b[0m\n\u001b[1;32m     83\u001b[0m     \u001b[0;32mreturn\u001b[0m \u001b[0mnew_method\u001b[0m\u001b[0;34m\u001b[0m\u001b[0;34m\u001b[0m\u001b[0m\n",
            "\u001b[0;32m/usr/local/lib/python3.10/dist-packages/pandas/core/arraylike.py\u001b[0m in \u001b[0;36m__rsub__\u001b[0;34m(self, other)\u001b[0m\n\u001b[1;32m    196\u001b[0m     \u001b[0;34m@\u001b[0m\u001b[0munpack_zerodim_and_defer\u001b[0m\u001b[0;34m(\u001b[0m\u001b[0;34m\"__rsub__\"\u001b[0m\u001b[0;34m)\u001b[0m\u001b[0;34m\u001b[0m\u001b[0;34m\u001b[0m\u001b[0m\n\u001b[1;32m    197\u001b[0m     \u001b[0;32mdef\u001b[0m \u001b[0m__rsub__\u001b[0m\u001b[0;34m(\u001b[0m\u001b[0mself\u001b[0m\u001b[0;34m,\u001b[0m \u001b[0mother\u001b[0m\u001b[0;34m)\u001b[0m\u001b[0;34m:\u001b[0m\u001b[0;34m\u001b[0m\u001b[0;34m\u001b[0m\u001b[0m\n\u001b[0;32m--> 198\u001b[0;31m         \u001b[0;32mreturn\u001b[0m \u001b[0mself\u001b[0m\u001b[0;34m.\u001b[0m\u001b[0m_arith_method\u001b[0m\u001b[0;34m(\u001b[0m\u001b[0mother\u001b[0m\u001b[0;34m,\u001b[0m \u001b[0mroperator\u001b[0m\u001b[0;34m.\u001b[0m\u001b[0mrsub\u001b[0m\u001b[0;34m)\u001b[0m\u001b[0;34m\u001b[0m\u001b[0;34m\u001b[0m\u001b[0m\n\u001b[0m\u001b[1;32m    199\u001b[0m \u001b[0;34m\u001b[0m\u001b[0m\n\u001b[1;32m    200\u001b[0m     \u001b[0;34m@\u001b[0m\u001b[0munpack_zerodim_and_defer\u001b[0m\u001b[0;34m(\u001b[0m\u001b[0;34m\"__mul__\"\u001b[0m\u001b[0;34m)\u001b[0m\u001b[0;34m\u001b[0m\u001b[0;34m\u001b[0m\u001b[0m\n",
            "\u001b[0;32m/usr/local/lib/python3.10/dist-packages/pandas/core/series.py\u001b[0m in \u001b[0;36m_arith_method\u001b[0;34m(self, other, op)\u001b[0m\n\u001b[1;32m   6110\u001b[0m     \u001b[0;32mdef\u001b[0m \u001b[0m_arith_method\u001b[0m\u001b[0;34m(\u001b[0m\u001b[0mself\u001b[0m\u001b[0;34m,\u001b[0m \u001b[0mother\u001b[0m\u001b[0;34m,\u001b[0m \u001b[0mop\u001b[0m\u001b[0;34m)\u001b[0m\u001b[0;34m:\u001b[0m\u001b[0;34m\u001b[0m\u001b[0;34m\u001b[0m\u001b[0m\n\u001b[1;32m   6111\u001b[0m         \u001b[0mself\u001b[0m\u001b[0;34m,\u001b[0m \u001b[0mother\u001b[0m \u001b[0;34m=\u001b[0m \u001b[0mops\u001b[0m\u001b[0;34m.\u001b[0m\u001b[0malign_method_SERIES\u001b[0m\u001b[0;34m(\u001b[0m\u001b[0mself\u001b[0m\u001b[0;34m,\u001b[0m \u001b[0mother\u001b[0m\u001b[0;34m)\u001b[0m\u001b[0;34m\u001b[0m\u001b[0;34m\u001b[0m\u001b[0m\n\u001b[0;32m-> 6112\u001b[0;31m         \u001b[0;32mreturn\u001b[0m \u001b[0mbase\u001b[0m\u001b[0;34m.\u001b[0m\u001b[0mIndexOpsMixin\u001b[0m\u001b[0;34m.\u001b[0m\u001b[0m_arith_method\u001b[0m\u001b[0;34m(\u001b[0m\u001b[0mself\u001b[0m\u001b[0;34m,\u001b[0m \u001b[0mother\u001b[0m\u001b[0;34m,\u001b[0m \u001b[0mop\u001b[0m\u001b[0;34m)\u001b[0m\u001b[0;34m\u001b[0m\u001b[0;34m\u001b[0m\u001b[0m\n\u001b[0m\u001b[1;32m   6113\u001b[0m \u001b[0;34m\u001b[0m\u001b[0m\n\u001b[1;32m   6114\u001b[0m \u001b[0;34m\u001b[0m\u001b[0m\n",
            "\u001b[0;32m/usr/local/lib/python3.10/dist-packages/pandas/core/base.py\u001b[0m in \u001b[0;36m_arith_method\u001b[0;34m(self, other, op)\u001b[0m\n\u001b[1;32m   1346\u001b[0m \u001b[0;34m\u001b[0m\u001b[0m\n\u001b[1;32m   1347\u001b[0m         \u001b[0;32mwith\u001b[0m \u001b[0mnp\u001b[0m\u001b[0;34m.\u001b[0m\u001b[0merrstate\u001b[0m\u001b[0;34m(\u001b[0m\u001b[0mall\u001b[0m\u001b[0;34m=\u001b[0m\u001b[0;34m\"ignore\"\u001b[0m\u001b[0;34m)\u001b[0m\u001b[0;34m:\u001b[0m\u001b[0;34m\u001b[0m\u001b[0;34m\u001b[0m\u001b[0m\n\u001b[0;32m-> 1348\u001b[0;31m             \u001b[0mresult\u001b[0m \u001b[0;34m=\u001b[0m \u001b[0mops\u001b[0m\u001b[0;34m.\u001b[0m\u001b[0marithmetic_op\u001b[0m\u001b[0;34m(\u001b[0m\u001b[0mlvalues\u001b[0m\u001b[0;34m,\u001b[0m \u001b[0mrvalues\u001b[0m\u001b[0;34m,\u001b[0m \u001b[0mop\u001b[0m\u001b[0;34m)\u001b[0m\u001b[0;34m\u001b[0m\u001b[0;34m\u001b[0m\u001b[0m\n\u001b[0m\u001b[1;32m   1349\u001b[0m \u001b[0;34m\u001b[0m\u001b[0m\n\u001b[1;32m   1350\u001b[0m         \u001b[0;32mreturn\u001b[0m \u001b[0mself\u001b[0m\u001b[0;34m.\u001b[0m\u001b[0m_construct_result\u001b[0m\u001b[0;34m(\u001b[0m\u001b[0mresult\u001b[0m\u001b[0;34m,\u001b[0m \u001b[0mname\u001b[0m\u001b[0;34m=\u001b[0m\u001b[0mres_name\u001b[0m\u001b[0;34m)\u001b[0m\u001b[0;34m\u001b[0m\u001b[0;34m\u001b[0m\u001b[0m\n",
            "\u001b[0;32m/usr/local/lib/python3.10/dist-packages/pandas/core/ops/array_ops.py\u001b[0m in \u001b[0;36marithmetic_op\u001b[0;34m(left, right, op)\u001b[0m\n\u001b[1;32m    230\u001b[0m         \u001b[0;31m# error: Argument 1 to \"_na_arithmetic_op\" has incompatible type\u001b[0m\u001b[0;34m\u001b[0m\u001b[0;34m\u001b[0m\u001b[0m\n\u001b[1;32m    231\u001b[0m         \u001b[0;31m# \"Union[ExtensionArray, ndarray[Any, Any]]\"; expected \"ndarray[Any, Any]\"\u001b[0m\u001b[0;34m\u001b[0m\u001b[0;34m\u001b[0m\u001b[0m\n\u001b[0;32m--> 232\u001b[0;31m         \u001b[0mres_values\u001b[0m \u001b[0;34m=\u001b[0m \u001b[0m_na_arithmetic_op\u001b[0m\u001b[0;34m(\u001b[0m\u001b[0mleft\u001b[0m\u001b[0;34m,\u001b[0m \u001b[0mright\u001b[0m\u001b[0;34m,\u001b[0m \u001b[0mop\u001b[0m\u001b[0;34m)\u001b[0m  \u001b[0;31m# type: ignore[arg-type]\u001b[0m\u001b[0;34m\u001b[0m\u001b[0;34m\u001b[0m\u001b[0m\n\u001b[0m\u001b[1;32m    233\u001b[0m \u001b[0;34m\u001b[0m\u001b[0m\n\u001b[1;32m    234\u001b[0m     \u001b[0;32mreturn\u001b[0m \u001b[0mres_values\u001b[0m\u001b[0;34m\u001b[0m\u001b[0;34m\u001b[0m\u001b[0m\n",
            "\u001b[0;32m/usr/local/lib/python3.10/dist-packages/pandas/core/ops/array_ops.py\u001b[0m in \u001b[0;36m_na_arithmetic_op\u001b[0;34m(left, right, op, is_cmp)\u001b[0m\n\u001b[1;32m    169\u001b[0m \u001b[0;34m\u001b[0m\u001b[0m\n\u001b[1;32m    170\u001b[0m     \u001b[0;32mtry\u001b[0m\u001b[0;34m:\u001b[0m\u001b[0;34m\u001b[0m\u001b[0;34m\u001b[0m\u001b[0m\n\u001b[0;32m--> 171\u001b[0;31m         \u001b[0mresult\u001b[0m \u001b[0;34m=\u001b[0m \u001b[0mfunc\u001b[0m\u001b[0;34m(\u001b[0m\u001b[0mleft\u001b[0m\u001b[0;34m,\u001b[0m \u001b[0mright\u001b[0m\u001b[0;34m)\u001b[0m\u001b[0;34m\u001b[0m\u001b[0;34m\u001b[0m\u001b[0m\n\u001b[0m\u001b[1;32m    172\u001b[0m     \u001b[0;32mexcept\u001b[0m \u001b[0mTypeError\u001b[0m\u001b[0;34m:\u001b[0m\u001b[0;34m\u001b[0m\u001b[0;34m\u001b[0m\u001b[0m\n\u001b[1;32m    173\u001b[0m         \u001b[0;32mif\u001b[0m \u001b[0;32mnot\u001b[0m \u001b[0mis_cmp\u001b[0m \u001b[0;32mand\u001b[0m \u001b[0;34m(\u001b[0m\u001b[0mis_object_dtype\u001b[0m\u001b[0;34m(\u001b[0m\u001b[0mleft\u001b[0m\u001b[0;34m.\u001b[0m\u001b[0mdtype\u001b[0m\u001b[0;34m)\u001b[0m \u001b[0;32mor\u001b[0m \u001b[0mis_object_dtype\u001b[0m\u001b[0;34m(\u001b[0m\u001b[0mright\u001b[0m\u001b[0;34m)\u001b[0m\u001b[0;34m)\u001b[0m\u001b[0;34m:\u001b[0m\u001b[0;34m\u001b[0m\u001b[0;34m\u001b[0m\u001b[0m\n",
            "\u001b[0;32m/usr/local/lib/python3.10/dist-packages/pandas/core/roperator.py\u001b[0m in \u001b[0;36mrsub\u001b[0;34m(left, right)\u001b[0m\n\u001b[1;32m     13\u001b[0m \u001b[0;34m\u001b[0m\u001b[0m\n\u001b[1;32m     14\u001b[0m \u001b[0;32mdef\u001b[0m \u001b[0mrsub\u001b[0m\u001b[0;34m(\u001b[0m\u001b[0mleft\u001b[0m\u001b[0;34m,\u001b[0m \u001b[0mright\u001b[0m\u001b[0;34m)\u001b[0m\u001b[0;34m:\u001b[0m\u001b[0;34m\u001b[0m\u001b[0;34m\u001b[0m\u001b[0m\n\u001b[0;32m---> 15\u001b[0;31m     \u001b[0;32mreturn\u001b[0m \u001b[0mright\u001b[0m \u001b[0;34m-\u001b[0m \u001b[0mleft\u001b[0m\u001b[0;34m\u001b[0m\u001b[0;34m\u001b[0m\u001b[0m\n\u001b[0m\u001b[1;32m     16\u001b[0m \u001b[0;34m\u001b[0m\u001b[0m\n\u001b[1;32m     17\u001b[0m \u001b[0;34m\u001b[0m\u001b[0m\n",
            "\u001b[0;31mUFuncTypeError\u001b[0m: ufunc 'subtract' did not contain a loop with signature matching types (dtype('<U9'), dtype('float64')) -> None"
          ]
        }
      ],
      "source": [
        "\n",
        "# from math import radians, sin, cos, sqrt, atan2\n",
        "\n",
        "# def get_distance(lat1, lon1, lat2, lon2):\n",
        "#     '''\n",
        "#       Get the distance using latitude and longitude.\n",
        "#       a = sin(d_lat / 2)**2 + cos(radians(lat1)) * cos(radians(lat2)) * sin(d_lon / 2)**2\n",
        "#       c = 2 * atan2(sqrt(a), sqrt(1 - a))\n",
        "\n",
        "#       distance = R * c*1000\n",
        "\n",
        "#       Ask user to enter target latitude, longitude and distance.\n",
        "#       Return all the results inside of the entered geolocation and radius.\n",
        "#     '''\n",
        "#     R = 6371.0\n",
        "\n",
        "#     d_lat = radians(lat2 - lat1)\n",
        "#     d_lon = radians(lon2 - lon1)\n",
        "\n",
        "#     a = sin(d_lat / 2)**2 + cos(radians(lat1)) * cos(radians(lat2)) * sin(d_lon / 2)**2\n",
        "#     c = 2 * atan2(sqrt(a), sqrt(1 - a))\n",
        "\n",
        "#     distance = R * c*1000\n",
        "\n",
        "#     return distance\n",
        "\n",
        "# txt_file_path = \"/content/drive/My Drive/Colab Notebooks/stopsNew.txt\"\n",
        "\n",
        "# with open(txt_file_path, 'r', encoding='utf-8') as txtfile:\n",
        "\n",
        "#     header = txtfile.readline()\n",
        "\n",
        "#     data = [line.strip().split(',') for line in txtfile]\n",
        "\n",
        "# def get_gps_positions(data, target_lat, target_lon, max_distance):\n",
        "#     filtered_positions = []\n",
        "\n",
        "#     for id,values in enumerate (data, start=1):\n",
        "#         stop_lat = float(values[-2])\n",
        "#         stop_lon = float(values[-1])\n",
        "\n",
        "#         distance = get_distance(target_lat, target_lon, stop_lat, stop_lon)\n",
        "#         if distance <= max_distance:\n",
        "#             filtered_positions.append((id,values[0], values[1], stop_lat, stop_lon, distance))\n",
        "\n",
        "#     return filtered_positions\n",
        "\n",
        "\n",
        "# target_lat = rows_with_null['stop_lat']\n",
        "# target_lon = rows_with_null['stop_lon']\n",
        "# max_distance = 100\n",
        "\n",
        "\n",
        "# filtered_positions = get_gps_positions(data, target_lat, target_lon, max_distance)\n",
        "\n",
        "# mismatch_list = []\n",
        "\n",
        "# for lat, lon in zip(target_lat, target_lon):\n",
        "#   filtered_positions = get_gps_positions(data, lat, lon, max_distance)\n",
        "\n",
        "#   if len(filtered_positions) == 1:\n",
        "#     # Handle single position case\n",
        "#     identified_list = {'stop_id': {filtered_positions[0][1]}, 'lat': {filtered_positions[0][3]}, 'lon': {filtered_positions[0][4]}}\n",
        "#     mismatch_list.append(identified_list)  # Access the ID directly\n",
        "#   elif len(filtered_positions) > 1:\n",
        "#     for showId in filtered_positions:\n",
        "#       print(f\"id: {showId[0]}, stop_id: {showId[1]}, stop_name: {showId[2]}, stop_lat: {showId[3]}, stop_lon: {showId[4]}, distance: {showId[5]} m\")\n",
        "#     stop_id = int(input(\"Which Id do you want to enter ? \"))\n",
        "#     for selected_id in filtered_positions:\n",
        "#       if selected_id[0] == stop_id:\n",
        "#         selected_list = {'stop_id': {selected_id[1]}, 'lat': {selected_id[3]}, 'lon': {selected_id[4]}}\n",
        "#         mismatch_list.append(selected_list)\n",
        "#         break  # Break out of the loop after finding the match\n",
        "\n",
        "# print(mismatch_list)\n"
      ]
    },
    {
      "cell_type": "code",
      "execution_count": null,
      "metadata": {
        "colab": {
          "base_uri": "https://localhost:8080/"
        },
        "id": "zJhqviWqkNcm",
        "outputId": "eee7e00b-a189-403a-e9e6-49aaec62de64"
      },
      "outputs": [
        {
          "name": "stdout",
          "output_type": "stream",
          "text": [
            "stop_id: 91292081WP, stop_name: Colombo Central Bus Stand, stop_lat: 6.9337351, stop_lon: 79.8562748, distance: 0.0 m\n",
            "stop_id: 91292199IP, stop_name: Colombo Fort, stop_lat: 6.9336266, stop_lon: 79.8556066, distance: 74.73726826101762 m\n",
            "stop_id: 91292199IP-R, stop_name: Colombo Fort, stop_lat: 6.9337118, stop_lon: 79.8560089, distance: 29.464621665357893 m\n",
            "-----------------------------------------------------------------------------------------------------\n",
            "Which Stop Id do you want to enter ? 91292081WP\n",
            "stop_id: 91292081WP, stop_name: Colombo Central Bus Stand, stop_lat: 6.9337351, stop_lon: 79.8562748, distance: 0.0 m\n",
            "['91292081WP']\n"
          ]
        }
      ],
      "source": [
        "if (len(filtered_positions) > 0):\n",
        "  if (len(filtered_positions) == 1):\n",
        "    print(f\"Stop Id: {id[0]}\")\n",
        "  elif (len(filtered_positions) > 1):\n",
        "      for id in filtered_positions:\n",
        "        print(f\"stop_id: {id[0]}, stop_name: {id[1]}, stop_lat: {id[2]}, stop_lon: {id[3]}, distance: {id[4]} m\")\n",
        "      print(\"-----------------------------------------------------------------------------------------------------\")\n",
        "      stop_id = input(\"Which Stop Id do you want to enter ? \")\n",
        "      for selected_id in filtered_positions:\n",
        "        if (selected_id[0] == stop_id):\n",
        "          print(f\"stop_id: {selected_id[0]}, stop_name: {selected_id[1]}, stop_lat: {selected_id[2]}, stop_lon: {selected_id[3]}, distance: {selected_id[4]} m\")\n",
        "          mismatch_list.append(selected_id[0])\n",
        "          print(mismatch_list)\n",
        "          break\n"
      ]
    },
    {
      "cell_type": "code",
      "execution_count": null,
      "metadata": {
        "colab": {
          "base_uri": "https://localhost:8080/"
        },
        "id": "nv3eTQywC8aJ",
        "outputId": "d5608553-cb77-47ce-8542-ba0917d203c8"
      },
      "outputs": [
        {
          "name": "stdout",
          "output_type": "stream",
          "text": [
            "4.0.0\n"
          ]
        }
      ],
      "source": [
        "import gspread\n",
        "print(gspread.__version__)"
      ]
    },
    {
      "cell_type": "code",
      "execution_count": null,
      "metadata": {
        "colab": {
          "base_uri": "https://localhost:8080/",
          "height": 478
        },
        "id": "2kjxlBwCR2cx",
        "outputId": "2533428a-ca6b-4825-dabb-38f504a76e3c"
      },
      "outputs": [
        {
          "name": "stdout",
          "output_type": "stream",
          "text": [
            "Collecting gspread==4.0.0\n",
            "  Downloading gspread-4.0.0-py3-none-any.whl (29 kB)\n",
            "Requirement already satisfied: google-auth>=1.12.0 in /usr/local/lib/python3.10/dist-packages (from gspread==4.0.0) (2.27.0)\n",
            "Requirement already satisfied: google-auth-oauthlib>=0.4.1 in /usr/local/lib/python3.10/dist-packages (from gspread==4.0.0) (1.2.0)\n",
            "Requirement already satisfied: cachetools<6.0,>=2.0.0 in /usr/local/lib/python3.10/dist-packages (from google-auth>=1.12.0->gspread==4.0.0) (5.3.3)\n",
            "Requirement already satisfied: pyasn1-modules>=0.2.1 in /usr/local/lib/python3.10/dist-packages (from google-auth>=1.12.0->gspread==4.0.0) (0.3.0)\n",
            "Requirement already satisfied: rsa<5,>=3.1.4 in /usr/local/lib/python3.10/dist-packages (from google-auth>=1.12.0->gspread==4.0.0) (4.9)\n",
            "Requirement already satisfied: requests-oauthlib>=0.7.0 in /usr/local/lib/python3.10/dist-packages (from google-auth-oauthlib>=0.4.1->gspread==4.0.0) (1.4.0)\n",
            "Requirement already satisfied: pyasn1<0.6.0,>=0.4.6 in /usr/local/lib/python3.10/dist-packages (from pyasn1-modules>=0.2.1->google-auth>=1.12.0->gspread==4.0.0) (0.5.1)\n",
            "Requirement already satisfied: oauthlib>=3.0.0 in /usr/local/lib/python3.10/dist-packages (from requests-oauthlib>=0.7.0->google-auth-oauthlib>=0.4.1->gspread==4.0.0) (3.2.2)\n",
            "Requirement already satisfied: requests>=2.0.0 in /usr/local/lib/python3.10/dist-packages (from requests-oauthlib>=0.7.0->google-auth-oauthlib>=0.4.1->gspread==4.0.0) (2.31.0)\n",
            "Requirement already satisfied: charset-normalizer<4,>=2 in /usr/local/lib/python3.10/dist-packages (from requests>=2.0.0->requests-oauthlib>=0.7.0->google-auth-oauthlib>=0.4.1->gspread==4.0.0) (3.3.2)\n",
            "Requirement already satisfied: idna<4,>=2.5 in /usr/local/lib/python3.10/dist-packages (from requests>=2.0.0->requests-oauthlib>=0.7.0->google-auth-oauthlib>=0.4.1->gspread==4.0.0) (3.6)\n",
            "Requirement already satisfied: urllib3<3,>=1.21.1 in /usr/local/lib/python3.10/dist-packages (from requests>=2.0.0->requests-oauthlib>=0.7.0->google-auth-oauthlib>=0.4.1->gspread==4.0.0) (2.0.7)\n",
            "Requirement already satisfied: certifi>=2017.4.17 in /usr/local/lib/python3.10/dist-packages (from requests>=2.0.0->requests-oauthlib>=0.7.0->google-auth-oauthlib>=0.4.1->gspread==4.0.0) (2024.2.2)\n",
            "Installing collected packages: gspread\n",
            "  Attempting uninstall: gspread\n",
            "    Found existing installation: gspread 3.4.2\n",
            "    Uninstalling gspread-3.4.2:\n",
            "      Successfully uninstalled gspread-3.4.2\n",
            "Successfully installed gspread-4.0.0\n"
          ]
        },
        {
          "data": {
            "application/vnd.colab-display-data+json": {
              "id": "5c43aa2f980444e99b2c0caa49a4f5f2",
              "pip_warning": {
                "packages": [
                  "gspread"
                ]
              }
            }
          },
          "metadata": {},
          "output_type": "display_data"
        }
      ],
      "source": [
        "pip install --upgrade gspread==4.0.0\n"
      ]
    },
    {
      "cell_type": "code",
      "execution_count": null,
      "metadata": {
        "id": "avTW3OcoYnx2"
      },
      "outputs": [],
      "source": [
        "stop_file_path = '/content/drive/My Drive/Colab Notebooks/ImportExport_all.xlsm'\n",
        "data = pd.read_excel(stop_file_path ,sheet_name='stops', usecols='A, C, E, F')"
      ]
    },
    {
      "cell_type": "code",
      "execution_count": null,
      "metadata": {
        "id": "BmZVmAmAliOv"
      },
      "outputs": [],
      "source": [
        "from openpyxl import load_workbook\n",
        "workbook = load_workbook(filename=excel_file_path)\n",
        "# sheet = workbook.active\n",
        "for sheet_name in workbook.sheetnames:\n",
        "  if sheet_name == 'stops':\n",
        "    sheet = workbook[sheet_name]"
      ]
    },
    {
      "cell_type": "code",
      "execution_count": null,
      "metadata": {
        "id": "bcAmunNHO1ds"
      },
      "outputs": [],
      "source": []
    },
    {
      "cell_type": "code",
      "execution_count": null,
      "metadata": {
        "colab": {
          "base_uri": "https://localhost:8080/"
        },
        "id": "3YDpb2nbChoE",
        "outputId": "eb086639-3ecd-4571-c288-1289b74a81b0"
      },
      "outputs": [
        {
          "name": "stdout",
          "output_type": "stream",
          "text": [
            "0                                 Ganahena\n",
            "1                         Eluwila Junction\n",
            "2                               Pannanduwa\n",
            "3                            Kahawannagama\n",
            "4                               Palutagaha\n",
            "                       ...                \n",
            "15353                   Wattahena Junction\n",
            "15354            Gahalakoladeniya Junction\n",
            "15355             Sri Abinawarama Viharaya\n",
            "15356             Sri Paramitharamaya Road\n",
            "15357    Nabadawa Sumangala Maha Vidyalaya\n",
            "Name: stop_name, Length: 15358, dtype: object\n"
          ]
        }
      ],
      "source": [
        "#Extract bus stop names from data frame\n",
        "stop_names = df['stop_name']\n",
        "print(stop_names)"
      ]
    },
    {
      "cell_type": "code",
      "execution_count": null,
      "metadata": {
        "colab": {
          "base_uri": "https://localhost:8080/"
        },
        "id": "_m6neRseEkSe",
        "outputId": "c4db027f-394e-4241-a672-dc579e771dd5"
      },
      "outputs": [
        {
          "name": "stdout",
          "output_type": "stream",
          "text": [
            "            stop_id stop_name   stop_lat    stop_lon\n",
            "405      11010011IP  Bus Stop  7.3442065  80.9336770\n",
            "406    11010011IP-R  Bus Stop  7.3442000  80.9336700\n",
            "860      21040023IP  Bus Stop  7.3008324  81.6707797\n",
            "861    21040023IP-R  Bus Stop  7.3008300  81.6707412\n",
            "954      21048012WP  Bus Stop  7.5256183  81.4902249\n",
            "...             ...       ...        ...         ...\n",
            "11254  93331019IP-R  Bus Stop  6.4062228  80.2798274\n",
            "11255    93331020IP  Bus Stop  6.3953037  80.2944937\n",
            "11256  93331020IP-R  Bus Stop  6.3952650  80.2945098\n",
            "11465  33009026SP-R  Bus Stop  6.2786681  81.2658800\n",
            "11480    33009029SP  Bus Stop  6.2783160  81.2658586\n",
            "\n",
            "[2983 rows x 4 columns]\n"
          ]
        }
      ],
      "source": [
        "bus_stop_data = df[df['stop_name'] == 'Bus Stop']\n",
        "print(bus_stop_data)"
      ]
    },
    {
      "cell_type": "code",
      "execution_count": null,
      "metadata": {
        "colab": {
          "base_uri": "https://localhost:8080/"
        },
        "id": "uh_6AR0aJWcr",
        "outputId": "e2347f50-6397-4b9b-f6bf-d5d9edc52e46"
      },
      "outputs": [
        {
          "name": "stdout",
          "output_type": "stream",
          "text": [
            "            stop_id                    stop_name   stop_lat    stop_lon\n",
            "267      11007033IP                     Bus Stop  7.2808669  80.6664705\n",
            "268    11007033IP-R                     Bus Stop  7.2808649  80.6664464\n",
            "269      11007034IP                     Bus Stop  7.2726636  80.6806138\n",
            "270    11007034IP-R                     Bus Stop  7.2726024  80.6805977\n",
            "353      11008028IP     Gomagoda Bodiya Bus Stop  7.3239410  80.7418510\n",
            "...             ...                          ...        ...         ...\n",
            "12435  31039100SP-R            Makuluwa Bus Stop  6.0398829  80.2340605\n",
            "14797  31033181SP-R     Temple Junction Bus Stop  6.1937792  80.0930062\n",
            "14806  31036139SP-R  Kuleegoda Junction Bus Stop  6.2138206  80.0703308\n",
            "14978  31003042SP-R   Miriswatha School Bus Stop  6.3723406  80.0585386\n",
            "15019    31003083SP   Miriswatha School Bus Stop  6.3720533  80.0586540\n",
            "\n",
            "[4588 rows x 4 columns]\n"
          ]
        }
      ],
      "source": [
        "bus_stop_data = df[df['stop_name'].str.contains(\"Bus Stop\")]\n",
        "print(bus_stop_data)"
      ]
    },
    {
      "cell_type": "code",
      "execution_count": null,
      "metadata": {
        "colab": {
          "base_uri": "https://localhost:8080/"
        },
        "id": "9x9iDsx--eKE",
        "outputId": "50055dd4-b77c-40dc-aff0-123b45396bb0"
      },
      "outputs": [
        {
          "name": "stdout",
          "output_type": "stream",
          "text": [
            "Requirement already satisfied: geopy in /usr/local/lib/python3.10/dist-packages (2.3.0)\n",
            "Requirement already satisfied: geographiclib<3,>=1.52 in /usr/local/lib/python3.10/dist-packages (from geopy) (2.0)\n"
          ]
        }
      ],
      "source": [
        "!pip install geopy"
      ]
    },
    {
      "cell_type": "code",
      "execution_count": null,
      "metadata": {
        "colab": {
          "base_uri": "https://localhost:8080/"
        },
        "id": "5PjzatWiBKyZ",
        "outputId": "a26cf95e-9283-4d94-d451-8183f4dc56a6"
      },
      "outputs": [
        {
          "name": "stdout",
          "output_type": "stream",
          "text": [
            "Location Name Bentara - Uragaha - Elpitiya Road, Galle District, Southern Province, 80510, Sri Lanka\n"
          ]
        }
      ],
      "source": [
        "'''\n",
        "  This method get latitude and longitude from Stops.txt file that does not have any stop_name.\n",
        "  Then getting the name that google maps have using geolocator reverse function.\n",
        " '''\n",
        "from geopy.geocoders import Nominatim\n",
        "\n",
        "def get_location_name(lat, lon):\n",
        "    geolocator = Nominatim(user_agent=\"my_location_identifier\")\n",
        "    location = geolocator.reverse((lat, lon), language='en')\n",
        "    location_name = location.address\n",
        "\n",
        "    return location_name\n",
        "\n",
        "lat = 6.372053\n",
        "lon = 80.058654\n",
        "\n",
        "location_name = get_location_name(lat, lon)\n",
        "print(\"Location Name\", location_name)"
      ]
    },
    {
      "cell_type": "code",
      "execution_count": null,
      "metadata": {
        "colab": {
          "base_uri": "https://localhost:8080/"
        },
        "id": "D7Yw61scQXj4",
        "outputId": "ab8e6b1e-6ef1-4e9a-9fa1-4b2f1703de76"
      },
      "outputs": [
        {
          "name": "stdout",
          "output_type": "stream",
          "text": [
            "         stop_id  stop_code                     stop_name  stop_desc  \\\n",
            "0    T000000002W        NaN   Visa Pillaiyar Kovil IBC Rd        NaN   \n",
            "1     91304020WP        NaN            Wellawatte Station        NaN   \n",
            "2     91304216IP        NaN             7Stories Ranjanas        NaN   \n",
            "3     91304030WP        NaN  Bambalapitiya Flats Bus Stop        NaN   \n",
            "4     91304031WP        NaN              Visakha Bus Stop        NaN   \n",
            "5   91304224IP-R        NaN         Bambalapitiya MC Park        NaN   \n",
            "6   91304033WP-R        NaN     Cargills Bank-Kollupitiya        NaN   \n",
            "7   91304035WP-R        NaN         Kollupitiya McDonalds        NaN   \n",
            "8   91304037WP-R        NaN          Kollupitiya Bus Stop        NaN   \n",
            "9     91304039WP        NaN                Cinnaman Grand        NaN   \n",
            "10    91292041WP        NaN            Galleface Bus Stop        NaN   \n",
            "11    91292077WP        NaN        Pettah Railway Station        NaN   \n",
            "12    91292081WP        NaN                       Colombo        NaN   \n",
            "13    91292193IP        NaN   Technical Junction Maradana        NaN   \n",
            "14    91292085WP        NaN      Panchikawatta Roundabout        NaN   \n",
            "15    91292058WP        NaN  Armour Street Police Station        NaN   \n",
            "16   T000000001W        NaN          Kotahena Post Office        NaN   \n",
            "17    91292098WP        NaN           Stadium Petrol shed        NaN   \n",
            "18    91292154WP        NaN   Thotalaga Junction Bus Stop        NaN   \n",
            "19    92312078WP        NaN           Peliyagoda junction        NaN   \n",
            "\n",
            "       stop_lat     stop_lon  zone_id  stop_url  location_type  \\\n",
            "0   6.869291961  79.85875881      NaN       NaN            NaN   \n",
            "1   6.877093300  79.86057330      NaN       NaN            NaN   \n",
            "2   6.881399600  79.86167910      NaN       NaN            NaN   \n",
            "3   6.884079100  79.85838670      NaN       NaN            NaN   \n",
            "4   6.889261300  79.85690170      NaN       NaN            NaN   \n",
            "5   6.893355800  79.85554220      NaN       NaN            NaN   \n",
            "6   6.897008800  79.85436840      NaN       NaN            NaN   \n",
            "7   6.902893600  79.85247210      NaN       NaN            NaN   \n",
            "8   6.909925600  79.85011770      NaN       NaN            NaN   \n",
            "9   6.917003026  79.84782446      NaN       NaN            NaN   \n",
            "10  6.925508238  79.84478921      NaN       NaN            NaN   \n",
            "11  6.934050239  79.85018648      NaN       NaN            NaN   \n",
            "12  6.933735100  79.85627480      NaN       NaN            NaN   \n",
            "13  6.932425700  79.86065170      NaN       NaN            NaN   \n",
            "14  6.934598399  79.86744247      NaN       NaN            NaN   \n",
            "15  6.939940500  79.86590690      NaN       NaN            NaN   \n",
            "16  6.945384955  79.86379973      NaN       NaN            NaN   \n",
            "17  6.947437900  79.86995840      NaN       NaN            NaN   \n",
            "18  6.958413300  79.87582140      NaN       NaN            NaN   \n",
            "19  6.957241200  79.88232970      NaN       NaN            NaN   \n",
            "\n",
            "    parent_station  stop_timezone  wheelchair_boarding  \n",
            "0              NaN            NaN                  NaN  \n",
            "1              NaN            NaN                  NaN  \n",
            "2              NaN            NaN                  NaN  \n",
            "3              NaN            NaN                  NaN  \n",
            "4              NaN            NaN                  NaN  \n",
            "5              NaN            NaN                  NaN  \n",
            "6              NaN            NaN                  NaN  \n",
            "7              NaN            NaN                  NaN  \n",
            "8              NaN            NaN                  NaN  \n",
            "9              NaN            NaN                  NaN  \n",
            "10             NaN            NaN                  NaN  \n",
            "11             NaN            NaN                  NaN  \n",
            "12             NaN            NaN                  NaN  \n",
            "13             NaN            NaN                  NaN  \n",
            "14             NaN            NaN                  NaN  \n",
            "15             NaN            NaN                  NaN  \n",
            "16             NaN            NaN                  NaN  \n",
            "17             NaN            NaN                  NaN  \n",
            "18             NaN            NaN                  NaN  \n",
            "19             NaN            NaN                  NaN  \n"
          ]
        }
      ],
      "source": [
        "import pandas as pd\n",
        "\n",
        "path_to_excel = '/content/drive/My Drive/Colab Notebooks/ImportExport_data.xlsm'\n",
        "df = pd.ExcelFile(path_to_excel)\n",
        "stops_df = df.parse(sheet_name='stops')\n",
        "# print(df[0:20])\n",
        "# print(stops_df)\n",
        "printing_data_list = missing_list\n",
        "\n",
        "stops_df['stop_id'] = stops_df['stop_id'].astype(str)\n",
        "for data in printing_data_list:\n",
        "  id_value = str(data['stop_id'].pop())\n",
        "  lat_value = float(data['lat'].pop())\n",
        "  lon_value = float(data['lon'].pop())\n",
        "  # print(id_value)\n",
        "  stops_df.loc[(stops_df['stop_lon'] == lon_value) & (stops_df['stop_lat'] == lat_value), 'stop_id'] = id_value\n",
        "  print(stops_df[0:20])\n",
        "\n",
        "# newDf = pd.read_excel(path_to_excel)\n",
        "\n",
        "# with pd.ExcelWriter(path_to_excel, engine='openpyxl', mode='a') as writer:\n",
        "#   workbook = writer.book\n",
        "#   try:\n",
        "#     workbook.remove(workbook['stops'])\n",
        "#   except:\n",
        "#     print(\"worksheet does not exists\")\n",
        "#   finally:\n",
        "#     newDf.to_excel(writer, sheet_name='stops', index=False)\n",
        "#     writer.book.save(path_to_excel)\n",
        "\n",
        "df.to_excel(df, index=False, )\n"
      ]
    },
    {
      "cell_type": "code",
      "execution_count": null,
      "metadata": {
        "colab": {
          "base_uri": "https://localhost:8080/",
          "height": 211
        },
        "id": "ump0CZe_CXSc",
        "outputId": "9bf4ee1d-d041-478d-91f0-0f4d1e736ba6"
      },
      "outputs": [
        {
          "ename": "ValueError",
          "evalue": "could not convert string to float: ' Kosgama\"'",
          "output_type": "error",
          "traceback": [
            "\u001b[0;31m---------------------------------------------------------------------------\u001b[0m",
            "\u001b[0;31mValueError\u001b[0m                                Traceback (most recent call last)",
            "\u001b[0;32m<ipython-input-17-8586fbda6562>\u001b[0m in \u001b[0;36m<cell line: 7>\u001b[0;34m()\u001b[0m\n\u001b[1;32m     12\u001b[0m   \u001b[0;32mfor\u001b[0m \u001b[0mdata\u001b[0m \u001b[0;32min\u001b[0m \u001b[0mprinting_data_list\u001b[0m\u001b[0;34m:\u001b[0m\u001b[0;34m\u001b[0m\u001b[0;34m\u001b[0m\u001b[0m\n\u001b[1;32m     13\u001b[0m     \u001b[0mid_value\u001b[0m \u001b[0;34m=\u001b[0m \u001b[0mstr\u001b[0m\u001b[0;34m(\u001b[0m\u001b[0mdata\u001b[0m\u001b[0;34m[\u001b[0m\u001b[0;34m'stop_id'\u001b[0m\u001b[0;34m]\u001b[0m\u001b[0;34m.\u001b[0m\u001b[0mpop\u001b[0m\u001b[0;34m(\u001b[0m\u001b[0;34m)\u001b[0m\u001b[0;34m)\u001b[0m\u001b[0;34m\u001b[0m\u001b[0;34m\u001b[0m\u001b[0m\n\u001b[0;32m---> 14\u001b[0;31m     \u001b[0mlat_value\u001b[0m \u001b[0;34m=\u001b[0m \u001b[0mfloat\u001b[0m\u001b[0;34m(\u001b[0m\u001b[0mdata\u001b[0m\u001b[0;34m[\u001b[0m\u001b[0;34m'lat'\u001b[0m\u001b[0;34m]\u001b[0m\u001b[0;34m.\u001b[0m\u001b[0mpop\u001b[0m\u001b[0;34m(\u001b[0m\u001b[0;34m)\u001b[0m\u001b[0;34m)\u001b[0m\u001b[0;34m\u001b[0m\u001b[0;34m\u001b[0m\u001b[0m\n\u001b[0m\u001b[1;32m     15\u001b[0m     \u001b[0mlon_value\u001b[0m \u001b[0;34m=\u001b[0m \u001b[0mfloat\u001b[0m\u001b[0;34m(\u001b[0m\u001b[0mdata\u001b[0m\u001b[0;34m[\u001b[0m\u001b[0;34m'lon'\u001b[0m\u001b[0;34m]\u001b[0m\u001b[0;34m.\u001b[0m\u001b[0mpop\u001b[0m\u001b[0;34m(\u001b[0m\u001b[0;34m)\u001b[0m\u001b[0;34m)\u001b[0m\u001b[0;34m\u001b[0m\u001b[0;34m\u001b[0m\u001b[0m\n\u001b[1;32m     16\u001b[0m     \u001b[0;31m# print(id_value)\u001b[0m\u001b[0;34m\u001b[0m\u001b[0;34m\u001b[0m\u001b[0m\n",
            "\u001b[0;31mValueError\u001b[0m: could not convert string to float: ' Kosgama\"'"
          ]
        }
      ],
      "source": [
        "import pandas as pd\n",
        "from openpyxl import load_workbook\n",
        "\n",
        "printing_data_list = missing_list\n",
        "path_to_excel = '/content/drive/My Drive/Colab Notebooks/Bus_Stop_List.xlsx'\n",
        "\n",
        "with pd.ExcelFile(path_to_excel) as excel_file:\n",
        "  for sheet_name in excel_file.sheet_names:\n",
        "    stops_df = excel_file.parse('Stops')\n",
        "  # print(stops_df[0:20])\n",
        "  stops_df['stop_id'] = stops_df['stop_id'].astype(str)\n",
        "  for data in printing_data_list:\n",
        "    id_value = str(data['stop_id'].pop())\n",
        "    lat_value = float(data['lat'].pop())\n",
        "    lon_value = float(data['lon'].pop())\n",
        "    # print(id_value)\n",
        "    stops_df.loc[(stops_df['stop_lon'] == lon_value) & (stops_df['stop_lat'] == lat_value), 'stop_id'] = id_value\n",
        "\n",
        "# wb = load_workbook(path_to_excel, keep_vba=True)\n",
        "# sheet_to_write = wb['stops']\n",
        "# sheet_to_write.delete_rows(1, sheet_to_write.max_row)\n",
        "# stops_df.to_excel(sheet_to_write, startrow=0, startcol=0, index=False)\n",
        "# wb.save('/content/drive/My Drive/Colab Notebooks/ImportExport_data.xlsm')\n",
        "    # stops_df.to_excel(path_to_excel, index=False, sheet_name='stops')\n",
        "with pd.ExcelWriter(path_to_excel, engine='openpyxl', mode='a', if_sheet_exists='new') as writer:\n",
        "  stops_df.to_excel(writer, sheet_name='new_stops', index=False)\n",
        "\n",
        "writer.save()\n",
        "\n"
      ]
    }
  ],
  "metadata": {
    "colab": {
      "provenance": [],
      "authorship_tag": "ABX9TyO0jSHolGO7jdWRAWxChVVI",
      "include_colab_link": true
    },
    "kernelspec": {
      "display_name": "Python 3",
      "name": "python3"
    },
    "language_info": {
      "name": "python"
    }
  },
  "nbformat": 4,
  "nbformat_minor": 0
}
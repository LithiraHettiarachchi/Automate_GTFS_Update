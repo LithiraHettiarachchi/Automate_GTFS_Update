{
  "cells": [
    {
      "cell_type": "markdown",
      "metadata": {
        "id": "view-in-github",
        "colab_type": "text"
      },
      "source": [
        "<a href=\"https://colab.research.google.com/github/LithiraHettiarachchi/Automate_GTFS_Update/blob/main/Automate_GTFS_Update.ipynb\" target=\"_parent\"><img src=\"https://colab.research.google.com/assets/colab-badge.svg\" alt=\"Open In Colab\"/></a>"
      ]
    },
    {
      "cell_type": "markdown",
      "metadata": {
        "id": "O-O1ByklBeDV"
      },
      "source": [
        "Get Location names using GeoPy"
      ]
    },
    {
      "cell_type": "code",
      "execution_count": 35,
      "metadata": {
        "colab": {
          "base_uri": "https://localhost:8080/"
        },
        "id": "rJkEAQhw6chP",
        "outputId": "4afeba21-a62f-412b-c490-1b4d09217fb7"
      },
      "outputs": [
        {
          "output_type": "stream",
          "name": "stdout",
          "text": [
            "Drive already mounted at /content/drive; to attempt to forcibly remount, call drive.mount(\"/content/drive\", force_remount=True).\n"
          ]
        }
      ],
      "source": [
        "# Import Google drive contents to google colab\n",
        "from google.colab import drive\n",
        "drive.mount('/content/drive')"
      ]
    },
    {
      "cell_type": "code",
      "execution_count": 2,
      "metadata": {
        "colab": {
          "base_uri": "https://localhost:8080/"
        },
        "id": "9LCieQhE78Nh",
        "outputId": "4c9a2fe6-dd61-4944-e7e7-8c57f6f396c0"
      },
      "outputs": [
        {
          "output_type": "stream",
          "name": "stdout",
          "text": [
            "File exists.\n"
          ]
        }
      ],
      "source": [
        "# Get cordinate text file from drive\n",
        "import os\n",
        "\n",
        "txt_file_path = \"/content/drive/My Drive/Colab Notebooks/stopsNew.txt\"\n",
        "\n",
        "if os.path.exists(txt_file_path):\n",
        "    print(\"File exists.\")\n",
        "else:\n",
        "    print(\"File does not exist.\")"
      ]
    },
    {
      "cell_type": "code",
      "execution_count": 3,
      "metadata": {
        "colab": {
          "base_uri": "https://localhost:8080/"
        },
        "id": "9Vn3A5VALs3Y",
        "outputId": "c47321e5-eeb9-474e-f529-59355fb11490"
      },
      "outputs": [
        {
          "output_type": "stream",
          "name": "stdout",
          "text": [
            "File exists.\n"
          ]
        }
      ],
      "source": [
        "#Importing ImportExport EXCEL file\n",
        "excel_file_path = \"/content/drive/My Drive/Colab Notebooks/Bus_Stop_List.xlsx\"\n",
        "if os.path.exists(excel_file_path):\n",
        "    print(\"File exists.\")\n",
        "else:\n",
        "    print(\"File does not exist.\")"
      ]
    },
    {
      "cell_type": "code",
      "source": [
        "#Importing Input EXCEL file\n",
        "input_file_path = \"/content/drive/My Drive/Colab Notebooks/Input_Data.xlsx\"\n",
        "if os.path.exists(input_file_path):\n",
        "    print(\"File exists.\")\n",
        "else:\n",
        "    print(\"File does not exist.\")"
      ],
      "metadata": {
        "colab": {
          "base_uri": "https://localhost:8080/"
        },
        "id": "_FexB57xbwL-",
        "outputId": "edf40d88-c7e4-4cf2-a4ce-5d29f95a1df5"
      },
      "execution_count": 4,
      "outputs": [
        {
          "output_type": "stream",
          "name": "stdout",
          "text": [
            "File exists.\n"
          ]
        }
      ]
    },
    {
      "cell_type": "code",
      "execution_count": 5,
      "metadata": {
        "colab": {
          "base_uri": "https://localhost:8080/"
        },
        "id": "NyZgFKQB82ki",
        "outputId": "b40a3311-7bb8-492f-80f7-b06137de520a"
      },
      "outputs": [
        {
          "output_type": "stream",
          "name": "stdout",
          "text": [
            "      stop_id         stop_name  stop_lat   stop_lon\n",
            "0  31054002SP          Ganahena  6.006188  80.253964\n",
            "1  31054003SP  Eluwila Junction  5.999805  80.267680\n",
            "2  31054004SP        Pannanduwa  5.999227  80.272240\n",
            "3  31054005SP     Kahawannagama  5.996061  80.286597\n",
            "4  31054006SP        Palutagaha  5.994831  80.291338\n"
          ]
        }
      ],
      "source": [
        "#Import pandas and read text file as CSV\n",
        "import pandas as pd\n",
        "df = pd.read_csv(txt_file_path, delimiter= \",\")\n",
        "print(df.head())"
      ]
    },
    {
      "cell_type": "code",
      "execution_count": 6,
      "metadata": {
        "colab": {
          "base_uri": "https://localhost:8080/"
        },
        "id": "-dRcxNTnMSEP",
        "outputId": "16761d91-7a4f-4ad6-8c0e-da2264db54dd"
      },
      "outputs": [
        {
          "output_type": "stream",
          "name": "stdout",
          "text": [
            "Empty DataFrame\n",
            "Columns: [route_id, agency_id, route_short_name, route_long_name, route_desc, route_type, route_url, route_color, route_text_color, route_sort_order, continuous_pickup, continuous_drop_off]\n",
            "Index: []\n"
          ]
        }
      ],
      "source": [
        "# Extract corresponding sheet and columns from excel sheet\n",
        "excData = pd.read_excel(excel_file_path, sheet_name=None)\n",
        "excelData = excData['stops']\n",
        "tripsData = excData['trips']\n",
        "routesData = excData['routes']\n",
        "# print(excelData.tail())\n",
        "print(routesData)\n",
        "# print(tripsData)"
      ]
    },
    {
      "cell_type": "code",
      "source": [
        "inputData = pd.read_excel(input_file_path, sheet_name='Sheet1')\n",
        "print(inputData)"
      ],
      "metadata": {
        "colab": {
          "base_uri": "https://localhost:8080/"
        },
        "id": "2IkVmnA2ePkd",
        "outputId": "05d820e8-b1d0-4912-af4e-ec6b680103db"
      },
      "execution_count": 7,
      "outputs": [
        {
          "output_type": "stream",
          "name": "stdout",
          "text": [
            "   stop_id  stop_lat   stop_lon arrival_time departure_time  sequence  \\\n",
            "0      NaN  6.774934  79.882473     06_00_00       06_00_00         1   \n",
            "1      NaN  6.786960  79.884464     06_10_00       06_10_00         2   \n",
            "2      NaN  6.794159  79.887437     06_20_00       06_20_00         3   \n",
            "3      NaN  6.806628  79.885669     06_30_00       06_30_00         4   \n",
            "4      NaN  6.806628  79.885669     17_00_00       17_00_00         5   \n",
            "5      NaN  6.794159  79.887437     17_10_00       17_10_00         6   \n",
            "6      NaN  6.786960  79.884464     17_20_00       17_20_00         7   \n",
            "7      NaN  6.774934  79.882473     17_30_00       17_30_00         8   \n",
            "\n",
            "  stop_headsign    trip_id route_id  direction  \n",
            "0       Colombo  N$0$100-M    WP100          1  \n",
            "1       Colombo  N$0$100-M    WP100          1  \n",
            "2       Colombo  N$0$100-M    WP100          1  \n",
            "3       Colombo  N$0$100-M    WP100          1  \n",
            "4      Moratuwa  N$1$100-M    WP100          0  \n",
            "5      Moratuwa  N$1$100-M    WP100          0  \n",
            "6      Moratuwa  N$1$100-M    WP100          0  \n",
            "7      Moratuwa  N$1$100-M    WP100          0  \n"
          ]
        }
      ]
    },
    {
      "cell_type": "code",
      "source": [
        "dir_list = []\n",
        "rows_to_add_trips = []\n",
        "trip_id_array = inputData['trip_id'].unique()\n",
        "trip_route_id_array = inputData['route_id'].unique()\n",
        "for string_index, string in enumerate(trip_id_array):\n",
        "    for char_index, char in enumerate(string):\n",
        "        if char == '$':\n",
        "          dir_list.append(string[char_index + 1])\n",
        "          break\n",
        "print(trip_id_array)\n",
        "print(trip_route_id_array)\n",
        "print(dir_list)\n",
        "for i in range(len(trip_id_array)):\n",
        "  headSign = str(input(f\"Enter head sign for {trip_id_array[i]} trip : \"))\n",
        "  row = {'route_id': trip_route_id_array[0], 'service_id': 'Daily', 'trip_id': trip_id_array[i], 'trip_headsign': headSign, 'direction_id': dir_list[i]}\n",
        "  rows_to_add_trips.append(row)\n",
        "print(rows_to_add_trips)"
      ],
      "metadata": {
        "colab": {
          "base_uri": "https://localhost:8080/"
        },
        "id": "K8PmsTfYgGbh",
        "outputId": "2b1e88b1-0e42-4ffb-b180-6681a1c3dc50"
      },
      "execution_count": 8,
      "outputs": [
        {
          "output_type": "stream",
          "name": "stdout",
          "text": [
            "['N$0$100-M' 'N$1$100-M']\n",
            "['WP100']\n",
            "['0', '1']\n",
            "Enter head sign for N$0$100-M trip : Colombo\n",
            "Enter head sign for N$1$100-M trip : Moratuwa\n",
            "[{'route_id': 'WP100', 'service_id': 'Daily', 'trip_id': 'N$0$100-M', 'trip_headsign': 'Colombo', 'direction_id': '0'}, {'route_id': 'WP100', 'service_id': 'Daily', 'trip_id': 'N$1$100-M', 'trip_headsign': 'Moratuwa', 'direction_id': '1'}]\n"
          ]
        }
      ]
    },
    {
      "cell_type": "code",
      "source": [
        "route_name = str(input(\"Enter route name: \"))\n",
        "routeRow = {'route_id': trip_route_id_array[0], 'agency_id': 'BOOK', 'route_short_name': '22', 'route_long_name': route_name,\n",
        "            'route_type': '3', 'route_color': 'D4D428'}\n",
        "\n",
        "print(routeRow.get('route_id'))"
      ],
      "metadata": {
        "colab": {
          "base_uri": "https://localhost:8080/"
        },
        "id": "cOh5trzQg3KT",
        "outputId": "d3305594-306f-4d95-ec9e-627a00cb2037"
      },
      "execution_count": 9,
      "outputs": [
        {
          "output_type": "stream",
          "name": "stdout",
          "text": [
            "Enter route name: Colombo-Moratuwa\n",
            "WP100\n"
          ]
        }
      ]
    },
    {
      "cell_type": "code",
      "source": [
        "cordList = excelData[['stop_lat', 'stop_lon']]\n",
        "print(cordList)"
      ],
      "metadata": {
        "colab": {
          "base_uri": "https://localhost:8080/"
        },
        "id": "1BvhUdJLgwE8",
        "outputId": "20be07ff-e01d-40eb-95a7-dd75912bf7ea"
      },
      "execution_count": 10,
      "outputs": [
        {
          "output_type": "stream",
          "name": "stdout",
          "text": [
            "Empty DataFrame\n",
            "Columns: [stop_lat, stop_lon]\n",
            "Index: []\n"
          ]
        }
      ]
    },
    {
      "cell_type": "code",
      "execution_count": 11,
      "metadata": {
        "colab": {
          "base_uri": "https://localhost:8080/"
        },
        "id": "VLfPtPbHN2ZT",
        "outputId": "3664c4ca-1f05-4efb-c562-ec6dcb0bfd2e"
      },
      "outputs": [
        {
          "output_type": "stream",
          "name": "stdout",
          "text": [
            "      stop_lat      stop_lon\n",
            "0  6.774933600  79.882472505\n",
            "1  6.786960060  79.884463800\n",
            "2  6.794159272  79.887436500\n",
            "3  6.806628468  79.885668560\n",
            "4  6.806628468  79.885668560\n",
            "5  6.794159272  79.887436500\n",
            "6  6.786960060  79.884463800\n",
            "7  6.774933600  79.882472505\n",
            "0    6.774933600\n",
            "1    6.786960060\n",
            "2    6.794159272\n",
            "3    6.806628468\n",
            "4    6.806628468\n",
            "5    6.794159272\n",
            "6    6.786960060\n",
            "7    6.774933600\n",
            "Name: stop_lat, dtype: float64\n",
            "0    79.882472505\n",
            "1    79.884463800\n",
            "2    79.887436500\n",
            "3    79.885668560\n",
            "4    79.885668560\n",
            "5    79.887436500\n",
            "6    79.884463800\n",
            "7    79.882472505\n",
            "Name: stop_lon, dtype: float64\n"
          ]
        }
      ],
      "source": [
        "pd.set_option('display.precision', 12)\n",
        "null_values = inputData['stop_id'].isnull()\n",
        "rows_with_null = inputData[null_values][['stop_lat', 'stop_lon']]\n",
        "print(rows_with_null)\n",
        "latitude_cords = rows_with_null['stop_lat']\n",
        "longitude_cords = rows_with_null['stop_lon']\n",
        "print(latitude_cords)\n",
        "print(longitude_cords)"
      ]
    },
    {
      "cell_type": "code",
      "source": [
        "for row in rows_with_null:\n",
        "  print(row)"
      ],
      "metadata": {
        "colab": {
          "base_uri": "https://localhost:8080/"
        },
        "id": "jRrhYp5z2NsA",
        "outputId": "8ca27c3c-c855-4799-e418-8c9bc33565ce"
      },
      "execution_count": 70,
      "outputs": [
        {
          "output_type": "stream",
          "name": "stdout",
          "text": [
            "stop_lat\n",
            "stop_lon\n"
          ]
        }
      ]
    },
    {
      "cell_type": "code",
      "source": [
        "import openpyxl\n",
        "\n",
        "search_cords_list = []\n",
        "\n",
        "for row in excelData.iterrows():\n",
        "  lat_data = float(row[1].stop_lat)\n",
        "  lon_data = float(row[1].stop_lon)\n",
        "\n",
        "  if (latitude_cords.isin([lat_data]).any()) and (longitude_cords.isin([lon_data]).any()):\n",
        "    extracted_list = {'stop_id': {row[1].stop_id}, 'stop_lat': {row[1].stop_lat}, 'stop_lon': {row[1].stop_lon}}\n",
        "    search_cords_list.append(extracted_list)\n",
        "print(search_cords_list)\n",
        "\n",
        "#Update df with search cord list values\n",
        "for info in search_cords_list:\n",
        "  id_value = str(info['stop_id'].pop())\n",
        "  lat_value = float(info['stop_lat'].pop())\n",
        "  lon_value = float(info['stop_lon'].pop())\n",
        "\n",
        "  inputData.loc[(inputData['stop_lon'] ==  lon_value) & (inputData['stop_lat'] ==  lat_value), 'stop_id'] = id_value\n",
        "\n",
        "with pd.option_context('display.max_rows', None, 'display.max_columns', None):  # more options can be specified also\n",
        "    print(inputData)\n"
      ],
      "metadata": {
        "colab": {
          "base_uri": "https://localhost:8080/"
        },
        "id": "19RVC8ccsxsn",
        "outputId": "c926cf3a-b58b-47e8-f7f4-45129eb8b75a"
      },
      "execution_count": 12,
      "outputs": [
        {
          "output_type": "stream",
          "name": "stdout",
          "text": [
            "[]\n",
            "   stop_id     stop_lat      stop_lon arrival_time departure_time  sequence  \\\n",
            "0      NaN  6.774933600  79.882472505     06_00_00       06_00_00         1   \n",
            "1      NaN  6.786960060  79.884463800     06_10_00       06_10_00         2   \n",
            "2      NaN  6.794159272  79.887436500     06_20_00       06_20_00         3   \n",
            "3      NaN  6.806628468  79.885668560     06_30_00       06_30_00         4   \n",
            "4      NaN  6.806628468  79.885668560     17_00_00       17_00_00         5   \n",
            "5      NaN  6.794159272  79.887436500     17_10_00       17_10_00         6   \n",
            "6      NaN  6.786960060  79.884463800     17_20_00       17_20_00         7   \n",
            "7      NaN  6.774933600  79.882472505     17_30_00       17_30_00         8   \n",
            "\n",
            "  stop_headsign    trip_id route_id  direction  \n",
            "0       Colombo  N$0$100-M    WP100          1  \n",
            "1       Colombo  N$0$100-M    WP100          1  \n",
            "2       Colombo  N$0$100-M    WP100          1  \n",
            "3       Colombo  N$0$100-M    WP100          1  \n",
            "4      Moratuwa  N$1$100-M    WP100          0  \n",
            "5      Moratuwa  N$1$100-M    WP100          0  \n",
            "6      Moratuwa  N$1$100-M    WP100          0  \n",
            "7      Moratuwa  N$1$100-M    WP100          0  \n"
          ]
        }
      ]
    },
    {
      "cell_type": "code",
      "source": [
        "pd.set_option('display.precision', 12)\n",
        "null_values = inputData['stop_id'].isnull()\n",
        "rows_with_null = inputData[null_values][['stop_lat', 'stop_lon']]\n",
        "list_rows = rows_with_null.values.tolist()\n",
        "latitude_vals = rows_with_null['stop_lat']\n",
        "longitude_vals = rows_with_null['stop_lon']\n",
        "print(len(list_rows))\n",
        "print(list_rows)"
      ],
      "metadata": {
        "colab": {
          "base_uri": "https://localhost:8080/"
        },
        "id": "8B1MUUYC5BQu",
        "outputId": "f52bb71c-c2eb-4ab8-84f6-558b539f6f33"
      },
      "execution_count": 13,
      "outputs": [
        {
          "output_type": "stream",
          "name": "stdout",
          "text": [
            "8\n",
            "[[6.7749336, 79.882472505], [6.78696006, 79.8844638], [6.794159272, 79.8874365], [6.806628468, 79.88566856], [6.806628468, 79.88566856], [6.794159272, 79.8874365], [6.78696006, 79.8844638], [6.7749336, 79.882472505]]\n"
          ]
        }
      ]
    },
    {
      "cell_type": "code",
      "execution_count": 14,
      "metadata": {
        "colab": {
          "base_uri": "https://localhost:8080/"
        },
        "id": "lo8DFDptQHVD",
        "outputId": "b606646d-13d6-47a5-9506-770afa6619ec"
      },
      "outputs": [
        {
          "output_type": "stream",
          "name": "stdout",
          "text": [
            "0\n"
          ]
        }
      ],
      "source": [
        "missing_list = []\n",
        "\n",
        "\n",
        "with open(txt_file_path, 'r', encoding='utf-8') as txtfile:\n",
        "  header = txtfile.readline()\n",
        "  text_data = [line.strip().split(',') for line in txtfile]\n",
        "\n",
        "search_data_list = []\n",
        "for row in text_data:\n",
        "  lat_data = float(row[-2])\n",
        "  lon_data = float(row[-1])\n",
        "\n",
        "  if (latitude_vals.isin([lat_data]).any()) and (longitude_vals.isin([lon_data]).any()):\n",
        "    # print(latitude_cords)\n",
        "    collected_list = {'stop_id': {row[0]}, 'stop_lat': {row[2]}, 'stop_lon': {row[3]}}\n",
        "    # print(collected_list)\n",
        "    missing_list.append(collected_list)\n",
        "    print(missing_list)\n",
        "print(len(missing_list))\n",
        "\n"
      ]
    },
    {
      "cell_type": "code",
      "source": [
        "# new_df = []\n",
        "for info in missing_list:\n",
        "  id_value = str(info['stop_id'].pop())\n",
        "  lat_value = float(info['stop_lat'].pop())\n",
        "  lon_value = float(info['stop_lon'].pop())\n",
        "\n",
        "  inputData.loc[(inputData['stop_lon'] ==  lon_value) & (inputData['stop_lat'] ==  lat_value), 'stop_id'] = id_value\n",
        "\n",
        "with pd.option_context('display.max_rows', None, 'display.max_columns', None):  # more options can be specified also\n",
        "    print(inputData)\n"
      ],
      "metadata": {
        "colab": {
          "base_uri": "https://localhost:8080/"
        },
        "id": "bYjNcFUp-NkY",
        "outputId": "c6bf714f-c3d2-4b0b-98cb-054883615743"
      },
      "execution_count": 15,
      "outputs": [
        {
          "output_type": "stream",
          "name": "stdout",
          "text": [
            "   stop_id     stop_lat      stop_lon arrival_time departure_time  sequence  \\\n",
            "0      NaN  6.774933600  79.882472505     06_00_00       06_00_00         1   \n",
            "1      NaN  6.786960060  79.884463800     06_10_00       06_10_00         2   \n",
            "2      NaN  6.794159272  79.887436500     06_20_00       06_20_00         3   \n",
            "3      NaN  6.806628468  79.885668560     06_30_00       06_30_00         4   \n",
            "4      NaN  6.806628468  79.885668560     17_00_00       17_00_00         5   \n",
            "5      NaN  6.794159272  79.887436500     17_10_00       17_10_00         6   \n",
            "6      NaN  6.786960060  79.884463800     17_20_00       17_20_00         7   \n",
            "7      NaN  6.774933600  79.882472505     17_30_00       17_30_00         8   \n",
            "\n",
            "  stop_headsign    trip_id route_id  direction  \n",
            "0       Colombo  N$0$100-M    WP100          1  \n",
            "1       Colombo  N$0$100-M    WP100          1  \n",
            "2       Colombo  N$0$100-M    WP100          1  \n",
            "3       Colombo  N$0$100-M    WP100          1  \n",
            "4      Moratuwa  N$1$100-M    WP100          0  \n",
            "5      Moratuwa  N$1$100-M    WP100          0  \n",
            "6      Moratuwa  N$1$100-M    WP100          0  \n",
            "7      Moratuwa  N$1$100-M    WP100          0  \n"
          ]
        }
      ]
    },
    {
      "cell_type": "code",
      "source": [
        "pd.set_option('display.precision', 12)\n",
        "null_values = inputData['stop_id'].isnull()\n",
        "rows_with_null = inputData[null_values][['stop_lat', 'stop_lon']]\n",
        "list_rows = rows_with_null.values.tolist()\n",
        "print(len(list_rows))\n",
        "print(list_rows)"
      ],
      "metadata": {
        "colab": {
          "base_uri": "https://localhost:8080/"
        },
        "id": "LY0U8WBHkWcW",
        "outputId": "3bfb55fc-1a9f-43ed-91d7-c1e1d70894e8"
      },
      "execution_count": 16,
      "outputs": [
        {
          "output_type": "stream",
          "name": "stdout",
          "text": [
            "8\n",
            "[[6.7749336, 79.882472505], [6.78696006, 79.8844638], [6.794159272, 79.8874365], [6.806628468, 79.88566856], [6.806628468, 79.88566856], [6.794159272, 79.8874365], [6.78696006, 79.8844638], [6.7749336, 79.882472505]]\n"
          ]
        }
      ]
    },
    {
      "cell_type": "code",
      "source": [
        "# for indx, values in rows_with_null.items():\n",
        "#     # print('index: ', indx, 'value: ', values)\n",
        "#     print(values[0])\n",
        "# for rownum,(indx,values) in enumerate(rows_with_null.items()):\n",
        "#     print('row number: ', rownum, 'index: ', indx, 'value: ', values)"
      ],
      "metadata": {
        "colab": {
          "base_uri": "https://localhost:8080/"
        },
        "id": "Ag3oG1bCRLkK",
        "outputId": "592a6006-30e7-4e92-b904-cd2a03aff35c"
      },
      "execution_count": null,
      "outputs": [
        {
          "output_type": "stream",
          "name": "stdout",
          "text": [
            "80.256018\n"
          ]
        }
      ]
    },
    {
      "cell_type": "code",
      "execution_count": 17,
      "metadata": {
        "colab": {
          "base_uri": "https://localhost:8080/"
        },
        "outputId": "3c8b1fa8-fd67-4166-913e-8e3fd06421b0",
        "id": "z2RGO1ztOfv-"
      },
      "outputs": [
        {
          "output_type": "stream",
          "name": "stdout",
          "text": [
            "target_lat :  6.7749336\n",
            "target_lon :  79.882472505\n",
            "id: 7168, stop_id: 91300003TS, stop_name: Moratuwa, stop_lat: 6.7743035, stop_lon: 79.8820183, distance: 86.16404311236708 m\n",
            "id: 7183, stop_id: 91300027WP-R, stop_name: Moratuwa Bus Stop, stop_lat: 6.775805073, stop_lon: 79.8822942, distance: 98.88320148438852 m\n",
            "id: 7250, stop_id: 91300067WP, stop_name: Bus Stop, stop_lat: 6.7754305, stop_lon: 79.8838713, distance: 164.03814826230976 m\n",
            "id: 7251, stop_id: 91300067WP-1, stop_name: Moratuwa, stop_lat: 6.7746719, stop_lon: 79.8827242, distance: 40.238993782528226 m\n",
            "id: 7252, stop_id: 91300067WP-1R, stop_name: Moratuwa, stop_lat: 6.774624, stop_lon: 79.8827456, distance: 45.76521098984669 m\n",
            "id: 7253, stop_id: 91300067WP-R, stop_name: Bus Stop, stop_lat: 6.7754305, stop_lon: 79.8837694, distance: 153.49078562381638 m\n",
            "id: 7280, stop_id: 91300086IP, stop_name: Moratuwa Bus Station, stop_lat: 6.7744275, stop_lon: 79.8827264, distance: 62.872135954875574 m\n",
            "id: 7281, stop_id: 91300086IP-R, stop_name: Moratuwa Bus Station, stop_lat: 6.7756713, stop_lon: 79.8822812, distance: 84.704666084705 m\n",
            "id: 7288, stop_id: 91300500WP, stop_name: Moratuwa, stop_lat: 6.7749763, stop_lon: 79.8823748, distance: 11.787030723505117 m\n",
            "Which Id do you want to enter ? 7168\n",
            "[{'stop_id': {'91300003TS'}, 'stop_lat': {6.7743035}, 'stop_lon': {79.8820183}}]\n",
            "target_lat :  6.78696006\n",
            "target_lon :  79.8844638\n",
            "id: 7203, stop_id: 91300051WP, stop_name: Rawatawatta Junction Bus Stop, stop_lat: 6.7878655, stop_lon: 79.8853714, distance: 142.05357408582847 m\n",
            "id: 7204, stop_id: 91300051WP-R, stop_name: Rawatawatta Junction Bus Stop, stop_lat: 6.7879035, stop_lon: 79.8853868, distance: 146.25866995491143 m\n",
            "id: 7276, stop_id: 91300083IP, stop_name: Prince Of Wales College Moratuwa, stop_lat: 6.7862798, stop_lon: 79.8847474, distance: 81.86691764341042 m\n",
            "id: 7277, stop_id: 91300083IP-R, stop_name: Prince Of Wales College Moratuwa, stop_lat: 6.7861706, stop_lon: 79.8845248, distance: 88.04195845337695 m\n",
            "Which Id do you want to enter ? 7276\n",
            "[{'stop_id': {'91300003TS'}, 'stop_lat': {6.7743035}, 'stop_lon': {79.8820183}}, {'stop_id': {'91300083IP'}, 'stop_lat': {6.7862798}, 'stop_lon': {79.8847474}}]\n",
            "target_lat :  6.794159272\n",
            "target_lon :  79.8874365\n",
            "id: 7272, stop_id: 91300081IP, stop_name: Baptist Church Moratuwa, stop_lat: 6.7930022, stop_lon: 79.8871546, distance: 132.37200122392062 m\n",
            "id: 7273, stop_id: 91300081IP-R, stop_name: Baptist Church Moratuwa, stop_lat: 6.7935775, stop_lon: 79.8871587, distance: 71.59360425767828 m\n",
            "Which Id do you want to enter ? 7272\n",
            "[{'stop_id': {'91300003TS'}, 'stop_lat': {6.7743035}, 'stop_lon': {79.8820183}}, {'stop_id': {'91300083IP'}, 'stop_lat': {6.7862798}, 'stop_lon': {79.8847474}}, {'stop_id': {'91300081IP'}, 'stop_lat': {6.7930022}, 'stop_lon': {79.8871546}}]\n",
            "target_lat :  6.806628468\n",
            "target_lon :  79.88566856\n",
            "id: 7172, stop_id: 91300007WP, stop_name: Bus Stop, stop_lat: 6.8066425, stop_lon: 79.8848725, distance: 87.9077888995332 m\n",
            "id: 7173, stop_id: 91300007WP-R, stop_name: Bus Stop, stop_lat: 6.8065919, stop_lon: 79.8847276, distance: 103.97207062633686 m\n",
            "id: 7190, stop_id: 91300037WP-R, stop_name: Soysapura Bus Stop, stop_lat: 6.8052332, stop_lon: 79.8859259, distance: 157.7270394957006 m\n",
            "id: 7264, stop_id: 91300076IP, stop_name: Soysapura, stop_lat: 6.8054173, stop_lon: 79.8860133, distance: 139.95128357264937 m\n",
            "id: 7265, stop_id: 91300076IP-R, stop_name: Soysapura, stop_lat: 6.8053028, stop_lon: 79.885843, distance: 148.66048974647867 m\n",
            "Which Id do you want to enter ? 7264\n",
            "[{'stop_id': {'91300003TS'}, 'stop_lat': {6.7743035}, 'stop_lon': {79.8820183}}, {'stop_id': {'91300083IP'}, 'stop_lat': {6.7862798}, 'stop_lon': {79.8847474}}, {'stop_id': {'91300081IP'}, 'stop_lat': {6.7930022}, 'stop_lon': {79.8871546}}, {'stop_id': {'91300076IP'}, 'stop_lat': {6.8054173}, 'stop_lon': {79.8860133}}]\n",
            "target_lat :  6.806628468\n",
            "target_lon :  79.88566856\n",
            "id: 7172, stop_id: 91300007WP, stop_name: Bus Stop, stop_lat: 6.8066425, stop_lon: 79.8848725, distance: 87.9077888995332 m\n",
            "id: 7173, stop_id: 91300007WP-R, stop_name: Bus Stop, stop_lat: 6.8065919, stop_lon: 79.8847276, distance: 103.97207062633686 m\n",
            "id: 7190, stop_id: 91300037WP-R, stop_name: Soysapura Bus Stop, stop_lat: 6.8052332, stop_lon: 79.8859259, distance: 157.7270394957006 m\n",
            "id: 7264, stop_id: 91300076IP, stop_name: Soysapura, stop_lat: 6.8054173, stop_lon: 79.8860133, distance: 139.95128357264937 m\n",
            "id: 7265, stop_id: 91300076IP-R, stop_name: Soysapura, stop_lat: 6.8053028, stop_lon: 79.885843, distance: 148.66048974647867 m\n",
            "Which Id do you want to enter ? 7264\n",
            "[{'stop_id': {'91300003TS'}, 'stop_lat': {6.7743035}, 'stop_lon': {79.8820183}}, {'stop_id': {'91300083IP'}, 'stop_lat': {6.7862798}, 'stop_lon': {79.8847474}}, {'stop_id': {'91300081IP'}, 'stop_lat': {6.7930022}, 'stop_lon': {79.8871546}}, {'stop_id': {'91300076IP'}, 'stop_lat': {6.8054173}, 'stop_lon': {79.8860133}}, {'stop_id': {'91300076IP'}, 'stop_lat': {6.8054173}, 'stop_lon': {79.8860133}}]\n",
            "target_lat :  6.794159272\n",
            "target_lon :  79.8874365\n",
            "id: 7272, stop_id: 91300081IP, stop_name: Baptist Church Moratuwa, stop_lat: 6.7930022, stop_lon: 79.8871546, distance: 132.37200122392062 m\n",
            "id: 7273, stop_id: 91300081IP-R, stop_name: Baptist Church Moratuwa, stop_lat: 6.7935775, stop_lon: 79.8871587, distance: 71.59360425767828 m\n",
            "Which Id do you want to enter ? 7272\n",
            "[{'stop_id': {'91300003TS'}, 'stop_lat': {6.7743035}, 'stop_lon': {79.8820183}}, {'stop_id': {'91300083IP'}, 'stop_lat': {6.7862798}, 'stop_lon': {79.8847474}}, {'stop_id': {'91300081IP'}, 'stop_lat': {6.7930022}, 'stop_lon': {79.8871546}}, {'stop_id': {'91300076IP'}, 'stop_lat': {6.8054173}, 'stop_lon': {79.8860133}}, {'stop_id': {'91300076IP'}, 'stop_lat': {6.8054173}, 'stop_lon': {79.8860133}}, {'stop_id': {'91300081IP'}, 'stop_lat': {6.7930022}, 'stop_lon': {79.8871546}}]\n",
            "target_lat :  6.78696006\n",
            "target_lon :  79.8844638\n",
            "id: 7203, stop_id: 91300051WP, stop_name: Rawatawatta Junction Bus Stop, stop_lat: 6.7878655, stop_lon: 79.8853714, distance: 142.05357408582847 m\n",
            "id: 7204, stop_id: 91300051WP-R, stop_name: Rawatawatta Junction Bus Stop, stop_lat: 6.7879035, stop_lon: 79.8853868, distance: 146.25866995491143 m\n",
            "id: 7276, stop_id: 91300083IP, stop_name: Prince Of Wales College Moratuwa, stop_lat: 6.7862798, stop_lon: 79.8847474, distance: 81.86691764341042 m\n",
            "id: 7277, stop_id: 91300083IP-R, stop_name: Prince Of Wales College Moratuwa, stop_lat: 6.7861706, stop_lon: 79.8845248, distance: 88.04195845337695 m\n",
            "Which Id do you want to enter ? 7276\n",
            "[{'stop_id': {'91300003TS'}, 'stop_lat': {6.7743035}, 'stop_lon': {79.8820183}}, {'stop_id': {'91300083IP'}, 'stop_lat': {6.7862798}, 'stop_lon': {79.8847474}}, {'stop_id': {'91300081IP'}, 'stop_lat': {6.7930022}, 'stop_lon': {79.8871546}}, {'stop_id': {'91300076IP'}, 'stop_lat': {6.8054173}, 'stop_lon': {79.8860133}}, {'stop_id': {'91300076IP'}, 'stop_lat': {6.8054173}, 'stop_lon': {79.8860133}}, {'stop_id': {'91300081IP'}, 'stop_lat': {6.7930022}, 'stop_lon': {79.8871546}}, {'stop_id': {'91300083IP'}, 'stop_lat': {6.7862798}, 'stop_lon': {79.8847474}}]\n",
            "target_lat :  6.7749336\n",
            "target_lon :  79.882472505\n",
            "id: 7168, stop_id: 91300003TS, stop_name: Moratuwa, stop_lat: 6.7743035, stop_lon: 79.8820183, distance: 86.16404311236708 m\n",
            "id: 7183, stop_id: 91300027WP-R, stop_name: Moratuwa Bus Stop, stop_lat: 6.775805073, stop_lon: 79.8822942, distance: 98.88320148438852 m\n",
            "id: 7250, stop_id: 91300067WP, stop_name: Bus Stop, stop_lat: 6.7754305, stop_lon: 79.8838713, distance: 164.03814826230976 m\n",
            "id: 7251, stop_id: 91300067WP-1, stop_name: Moratuwa, stop_lat: 6.7746719, stop_lon: 79.8827242, distance: 40.238993782528226 m\n",
            "id: 7252, stop_id: 91300067WP-1R, stop_name: Moratuwa, stop_lat: 6.774624, stop_lon: 79.8827456, distance: 45.76521098984669 m\n",
            "id: 7253, stop_id: 91300067WP-R, stop_name: Bus Stop, stop_lat: 6.7754305, stop_lon: 79.8837694, distance: 153.49078562381638 m\n",
            "id: 7280, stop_id: 91300086IP, stop_name: Moratuwa Bus Station, stop_lat: 6.7744275, stop_lon: 79.8827264, distance: 62.872135954875574 m\n",
            "id: 7281, stop_id: 91300086IP-R, stop_name: Moratuwa Bus Station, stop_lat: 6.7756713, stop_lon: 79.8822812, distance: 84.704666084705 m\n",
            "id: 7288, stop_id: 91300500WP, stop_name: Moratuwa, stop_lat: 6.7749763, stop_lon: 79.8823748, distance: 11.787030723505117 m\n",
            "Which Id do you want to enter ? 7168\n",
            "[{'stop_id': {'91300003TS'}, 'stop_lat': {6.7743035}, 'stop_lon': {79.8820183}}, {'stop_id': {'91300083IP'}, 'stop_lat': {6.7862798}, 'stop_lon': {79.8847474}}, {'stop_id': {'91300081IP'}, 'stop_lat': {6.7930022}, 'stop_lon': {79.8871546}}, {'stop_id': {'91300076IP'}, 'stop_lat': {6.8054173}, 'stop_lon': {79.8860133}}, {'stop_id': {'91300076IP'}, 'stop_lat': {6.8054173}, 'stop_lon': {79.8860133}}, {'stop_id': {'91300081IP'}, 'stop_lat': {6.7930022}, 'stop_lon': {79.8871546}}, {'stop_id': {'91300083IP'}, 'stop_lat': {6.7862798}, 'stop_lon': {79.8847474}}, {'stop_id': {'91300003TS'}, 'stop_lat': {6.7743035}, 'stop_lon': {79.8820183}}]\n",
            "[{'stop_id': {'91300003TS'}, 'stop_lat': {6.7743035}, 'stop_lon': {79.8820183}}, {'stop_id': {'91300083IP'}, 'stop_lat': {6.7862798}, 'stop_lon': {79.8847474}}, {'stop_id': {'91300081IP'}, 'stop_lat': {6.7930022}, 'stop_lon': {79.8871546}}, {'stop_id': {'91300076IP'}, 'stop_lat': {6.8054173}, 'stop_lon': {79.8860133}}, {'stop_id': {'91300076IP'}, 'stop_lat': {6.8054173}, 'stop_lon': {79.8860133}}, {'stop_id': {'91300081IP'}, 'stop_lat': {6.7930022}, 'stop_lon': {79.8871546}}, {'stop_id': {'91300083IP'}, 'stop_lat': {6.7862798}, 'stop_lon': {79.8847474}}, {'stop_id': {'91300003TS'}, 'stop_lat': {6.7743035}, 'stop_lon': {79.8820183}}]\n"
          ]
        }
      ],
      "source": [
        "\n",
        "from math import radians, sin, cos, sqrt, atan2\n",
        "\n",
        "def get_distance(lat1, lon1, lat2, lon2):\n",
        "    '''\n",
        "      Get the distance using latitude and longitude.\n",
        "      a = sin(d_lat / 2)**2 + cos(radians(lat1)) * cos(radians(lat2)) * sin(d_lon / 2)**2\n",
        "      c = 2 * atan2(sqrt(a), sqrt(1 - a))\n",
        "\n",
        "      distance = R * c*1000\n",
        "\n",
        "      Ask user to enter target latitude, longitude and distance.\n",
        "      Return all the results inside of the entered geolocation and radius.\n",
        "    '''\n",
        "    R = 6371.0\n",
        "\n",
        "    d_lat = radians(lat2 - lat1)\n",
        "    d_lon = radians(lon2 - lon1)\n",
        "\n",
        "    a = sin(d_lat / 2)**2 + cos(radians(lat1)) * cos(radians(lat2)) * sin(d_lon / 2)**2\n",
        "    c = 2 * atan2(sqrt(a), sqrt(1 - a))\n",
        "\n",
        "    distance = R * c*1000\n",
        "\n",
        "    return distance\n",
        "\n",
        "txt_file_path = \"/content/drive/My Drive/Colab Notebooks/stopsNew.txt\"\n",
        "\n",
        "with open(txt_file_path, 'r', encoding='utf-8') as txtfile:\n",
        "\n",
        "    header = txtfile.readline()\n",
        "\n",
        "    data = [line.strip().split(',') for line in txtfile]\n",
        "\n",
        "def get_gps_positions(data, target_lat, target_lon, max_distance):\n",
        "    filtered_positions = []\n",
        "\n",
        "    for id,values in enumerate (data, start=1):\n",
        "        stop_lat = float(values[-2])\n",
        "        stop_lon = float(values[-1])\n",
        "\n",
        "        distance = get_distance(target_lat, target_lon, stop_lat, stop_lon)\n",
        "        if distance <= max_distance:\n",
        "            filtered_positions.append((id,values[0], values[1], stop_lat, stop_lon, distance))\n",
        "\n",
        "    return filtered_positions\n",
        "\n",
        "mismatch_list = []\n",
        "\n",
        "i = 0\n",
        "while (i < len(list_rows)):\n",
        "\n",
        "  target_lat = list_rows[i][0]\n",
        "  target_lon = list_rows[i][1]\n",
        "  max_distance = 200\n",
        "  print(\"target_lat : \", target_lat)\n",
        "  print(\"target_lon : \", target_lon)\n",
        "\n",
        "  filtered_positions = get_gps_positions(data, target_lat, target_lon, max_distance)\n",
        "\n",
        "  for lat, lon in zip([target_lat], [target_lon]):\n",
        "    filtered_positions = get_gps_positions(data, lat, lon, max_distance)\n",
        "\n",
        "    if len(filtered_positions) == 1:\n",
        "      # Handle single position case\n",
        "      identified_list = {'stop_id': {filtered_positions[0][1]}, 'stop_lat': {filtered_positions[0][3]}, 'stop_lon': {filtered_positions[0][4]}}\n",
        "      inputData.loc[(inputData['stop_lon'] ==  target_lon) & (inputData['stop_lat'] ==  target_lat), ['stop_id', 'stop_lat', 'stop_lon']] = [filtered_positions[0][1], filtered_positions[0][3],\n",
        "                                                                                                                                             filtered_positions[0][4]]\n",
        "      mismatch_list.append(identified_list)  # Access the ID directly\n",
        "    elif len(filtered_positions) > 1:\n",
        "      for showId in filtered_positions:\n",
        "        print(f\"id: {showId[0]}, stop_id: {showId[1]}, stop_name: {showId[2]}, stop_lat: {showId[3]}, stop_lon: {showId[4]}, distance: {showId[5]} m\")\n",
        "      stop_id = int(input(\"Which Id do you want to enter ? \"))\n",
        "      for selected_id in filtered_positions:\n",
        "        if selected_id[0] == stop_id:\n",
        "          selected_list = {'stop_id': {selected_id[1]}, 'stop_lat': {selected_id[3]}, 'stop_lon': {selected_id[4]}}\n",
        "          mismatch_list.append(selected_list)\n",
        "          inputData.loc[(inputData['stop_lon'] ==  target_lon) & (inputData['stop_lat'] ==  target_lat), ['stop_id', 'stop_lat', 'stop_lon']] = [selected_id[1], selected_id[3], selected_id[4]]\n",
        "          print(mismatch_list)\n",
        "          break  # Break out of the loop after finding the match\n",
        "\n",
        "  i += 1\n",
        "\n",
        "print(mismatch_list)\n"
      ]
    },
    {
      "cell_type": "code",
      "source": [
        "# for info in mismatch_list:\n",
        "#   id_value = str(info['stop_id'].pop())\n",
        "#   lat_value = float(info['lat'].pop())\n",
        "#   lon_value = float(info['lon'].pop())\n",
        "#   excelData.loc[(excelData['stop_lon'] ==  lon_value) & (excelData['stop_lat'] ==  lat_value), 'stop_id'] = id_value\n",
        "\n",
        "with pd.option_context('display.max_rows', None, 'display.max_columns', None):  # more options can be specified also\n",
        "    print(inputData)\n",
        "\n",
        "for row in inputData.iterrows():\n",
        "  if (row[1].stop_id not in excelData['stop_id'].values):\n",
        "    print(row[1].stop_lat)\n",
        "    cords_to_add_stops = {'stop_id': row[1].stop_id ,'stop_lat': row[1].stop_lat, 'stop_lon': row[1].stop_lon}\n",
        "    excelData.loc[len(excelData)] = cords_to_add_stops\n",
        "print(excelData)"
      ],
      "metadata": {
        "colab": {
          "base_uri": "https://localhost:8080/"
        },
        "id": "5rGABJFnSIVR",
        "outputId": "4a4d71ef-27df-4776-d4d9-b7f61c82135d"
      },
      "execution_count": 18,
      "outputs": [
        {
          "output_type": "stream",
          "name": "stdout",
          "text": [
            "      stop_id   stop_lat    stop_lon arrival_time departure_time  sequence  \\\n",
            "0  91300003TS  6.7743035  79.8820183     06_00_00       06_00_00         1   \n",
            "1  91300083IP  6.7862798  79.8847474     06_10_00       06_10_00         2   \n",
            "2  91300081IP  6.7930022  79.8871546     06_20_00       06_20_00         3   \n",
            "3  91300076IP  6.8054173  79.8860133     06_30_00       06_30_00         4   \n",
            "4  91300076IP  6.8054173  79.8860133     17_00_00       17_00_00         5   \n",
            "5  91300081IP  6.7930022  79.8871546     17_10_00       17_10_00         6   \n",
            "6  91300083IP  6.7862798  79.8847474     17_20_00       17_20_00         7   \n",
            "7  91300003TS  6.7743035  79.8820183     17_30_00       17_30_00         8   \n",
            "\n",
            "  stop_headsign    trip_id route_id  direction  \n",
            "0       Colombo  N$0$100-M    WP100          1  \n",
            "1       Colombo  N$0$100-M    WP100          1  \n",
            "2       Colombo  N$0$100-M    WP100          1  \n",
            "3       Colombo  N$0$100-M    WP100          1  \n",
            "4      Moratuwa  N$1$100-M    WP100          0  \n",
            "5      Moratuwa  N$1$100-M    WP100          0  \n",
            "6      Moratuwa  N$1$100-M    WP100          0  \n",
            "7      Moratuwa  N$1$100-M    WP100          0  \n",
            "6.7743035\n",
            "6.7862798\n",
            "6.7930022\n",
            "6.8054173\n",
            "      stop_id  stop_code  stop_name  stop_desc   stop_lat    stop_lon  \\\n",
            "0  91300003TS        NaN        NaN        NaN  6.7743035  79.8820183   \n",
            "1  91300083IP        NaN        NaN        NaN  6.7862798  79.8847474   \n",
            "2  91300081IP        NaN        NaN        NaN  6.7930022  79.8871546   \n",
            "3  91300076IP        NaN        NaN        NaN  6.8054173  79.8860133   \n",
            "\n",
            "   zone_id  stop_url  location_type  parent_station  stop_timezone  \\\n",
            "0      NaN       NaN            NaN             NaN            NaN   \n",
            "1      NaN       NaN            NaN             NaN            NaN   \n",
            "2      NaN       NaN            NaN             NaN            NaN   \n",
            "3      NaN       NaN            NaN             NaN            NaN   \n",
            "\n",
            "   wheelchair_boarding  \n",
            "0                  NaN  \n",
            "1                  NaN  \n",
            "2                  NaN  \n",
            "3                  NaN  \n"
          ]
        }
      ]
    },
    {
      "cell_type": "code",
      "source": [
        "pd.set_option('display.precision', 12)\n",
        "null_values = inputData['stop_id'].isnull()\n",
        "rows_to_add_ids = inputData[null_values][['stop_id', 'stop_lat', 'stop_lon']]\n",
        "list_rows_to_add_ids = rows_to_add_ids.values.tolist()\n",
        "# print(len(list_rows))\n",
        "print(list_rows_to_add_ids)\n"
      ],
      "metadata": {
        "colab": {
          "base_uri": "https://localhost:8080/"
        },
        "id": "cBp31vLzDw4R",
        "outputId": "50ba0f6b-64ca-4146-8134-ffb6e663f0f2"
      },
      "execution_count": 19,
      "outputs": [
        {
          "output_type": "stream",
          "name": "stdout",
          "text": [
            "[]\n"
          ]
        }
      ]
    },
    {
      "cell_type": "code",
      "source": [
        "i = 0\n",
        "for i in range(len(list_rows_to_add_ids)):\n",
        "  row_to_add = {'stop_id': list_rows_to_add_ids[i][0], 'stop_name': '', 'stop_lat': list_rows_to_add_ids[i][1],\n",
        "                'stop_lon': list_rows_to_add_ids[i][2]}\n",
        "  if (list_rows_to_add_ids[i][0] not in excelData['stop_id'].values):\n",
        "    excelData.loc[len(excelData)] = row_to_add\n",
        "  i += 1\n",
        "# print(row_to_add)\n"
      ],
      "metadata": {
        "id": "IIg8SHHGCGsK"
      },
      "execution_count": 20,
      "outputs": []
    },
    {
      "cell_type": "code",
      "source": [
        "print(excelData)"
      ],
      "metadata": {
        "colab": {
          "base_uri": "https://localhost:8080/"
        },
        "id": "jDxyudHqjW4b",
        "outputId": "89b5ce67-611a-4b94-b40b-ff671e23e06c"
      },
      "execution_count": 21,
      "outputs": [
        {
          "output_type": "stream",
          "name": "stdout",
          "text": [
            "      stop_id  stop_code  stop_name  stop_desc   stop_lat    stop_lon  \\\n",
            "0  91300003TS        NaN        NaN        NaN  6.7743035  79.8820183   \n",
            "1  91300083IP        NaN        NaN        NaN  6.7862798  79.8847474   \n",
            "2  91300081IP        NaN        NaN        NaN  6.7930022  79.8871546   \n",
            "3  91300076IP        NaN        NaN        NaN  6.8054173  79.8860133   \n",
            "\n",
            "   zone_id  stop_url  location_type  parent_station  stop_timezone  \\\n",
            "0      NaN       NaN            NaN             NaN            NaN   \n",
            "1      NaN       NaN            NaN             NaN            NaN   \n",
            "2      NaN       NaN            NaN             NaN            NaN   \n",
            "3      NaN       NaN            NaN             NaN            NaN   \n",
            "\n",
            "   wheelchair_boarding  \n",
            "0                  NaN  \n",
            "1                  NaN  \n",
            "2                  NaN  \n",
            "3                  NaN  \n"
          ]
        }
      ]
    },
    {
      "cell_type": "code",
      "source": [
        "#Extracting stop id s that start with letter \"T\"\n",
        "\n",
        "stop_id_list = excelData['stop_id'].tolist()\n",
        "string_list = [str(id) for id in stop_id_list]\n",
        "print(string_list)\n",
        "\n",
        "count_a = sum(1 for word in string_list if word.startswith('T'))\n",
        "print(count_a)\n",
        "\n",
        "i = count_a\n",
        "if (count_a != 0):\n",
        "  for index, row in excelData.iterrows():\n",
        "    if (pd.isna(row['stop_id'])):\n",
        "      stop_name = str(input(f\"Enter a stop name for index number {index} , latitude {row['stop_lat']} and longitude {row['stop_lon']} \"))\n",
        "      excelData.loc[[index], ['stop_id', 'stop_name']] = [f'T{i + 1:08}', stop_name]\n",
        "      i += 1\n",
        "\n",
        "print(excelData.tail())\n",
        "\n",
        "# with pd.option_context('display.max_rows', None, 'display.max_columns', None):  # more options can be specified also\n",
        "#     print(excelData)"
      ],
      "metadata": {
        "colab": {
          "base_uri": "https://localhost:8080/"
        },
        "id": "-o1B8lOvfcn7",
        "outputId": "17deda3e-95e5-4a08-d73f-ae017d4b2a9f"
      },
      "execution_count": 22,
      "outputs": [
        {
          "output_type": "stream",
          "name": "stdout",
          "text": [
            "['91300003TS', '91300083IP', '91300081IP', '91300076IP']\n",
            "0\n",
            "      stop_id  stop_code  stop_name  stop_desc   stop_lat    stop_lon  \\\n",
            "0  91300003TS        NaN        NaN        NaN  6.7743035  79.8820183   \n",
            "1  91300083IP        NaN        NaN        NaN  6.7862798  79.8847474   \n",
            "2  91300081IP        NaN        NaN        NaN  6.7930022  79.8871546   \n",
            "3  91300076IP        NaN        NaN        NaN  6.8054173  79.8860133   \n",
            "\n",
            "   zone_id  stop_url  location_type  parent_station  stop_timezone  \\\n",
            "0      NaN       NaN            NaN             NaN            NaN   \n",
            "1      NaN       NaN            NaN             NaN            NaN   \n",
            "2      NaN       NaN            NaN             NaN            NaN   \n",
            "3      NaN       NaN            NaN             NaN            NaN   \n",
            "\n",
            "   wheelchair_boarding  \n",
            "0                  NaN  \n",
            "1                  NaN  \n",
            "2                  NaN  \n",
            "3                  NaN  \n"
          ]
        }
      ]
    },
    {
      "cell_type": "code",
      "source": [
        "for index, row in excelData.iterrows():\n",
        "  if (pd.isna(row['stop_name'])):\n",
        "    stop_name = str(input(f\"Enter a stop name for index number {index} , latitude {row['stop_lat']} and longitude {row['stop_lon']} \"))\n",
        "    excelData.loc[[index], ['stop_name']] = stop_name\n",
        "\n",
        "print(excelData)\n"
      ],
      "metadata": {
        "id": "kde1RuA58Qzm"
      },
      "execution_count": null,
      "outputs": []
    },
    {
      "cell_type": "code",
      "source": [
        "with pd.option_context('display.max_rows', None, 'display.max_columns', None):  # more options can be specified also\n",
        "    print(excelData)"
      ],
      "metadata": {
        "colab": {
          "base_uri": "https://localhost:8080/"
        },
        "id": "Uf1GLToDNrIW",
        "outputId": "68dd529b-b56e-46cd-f11c-29c52d150e10"
      },
      "execution_count": 23,
      "outputs": [
        {
          "output_type": "stream",
          "name": "stdout",
          "text": [
            "      stop_id  stop_code  stop_name  stop_desc   stop_lat    stop_lon  \\\n",
            "0  91300003TS        NaN        NaN        NaN  6.7743035  79.8820183   \n",
            "1  91300083IP        NaN        NaN        NaN  6.7862798  79.8847474   \n",
            "2  91300081IP        NaN        NaN        NaN  6.7930022  79.8871546   \n",
            "3  91300076IP        NaN        NaN        NaN  6.8054173  79.8860133   \n",
            "\n",
            "   zone_id  stop_url  location_type  parent_station  stop_timezone  \\\n",
            "0      NaN       NaN            NaN             NaN            NaN   \n",
            "1      NaN       NaN            NaN             NaN            NaN   \n",
            "2      NaN       NaN            NaN             NaN            NaN   \n",
            "3      NaN       NaN            NaN             NaN            NaN   \n",
            "\n",
            "   wheelchair_boarding  \n",
            "0                  NaN  \n",
            "1                  NaN  \n",
            "2                  NaN  \n",
            "3                  NaN  \n"
          ]
        }
      ]
    },
    {
      "cell_type": "code",
      "source": [
        "\n",
        "travo_added_id_list = []\n",
        "\n",
        "for row in excelData.iterrows():\n",
        "  lat_data = float(row[1].stop_lat)\n",
        "  lon_data = float(row[1].stop_lon)\n",
        "\n",
        "  if (latitude_cords.isin([lat_data]).any()) and (longitude_cords.isin([lon_data]).any()):\n",
        "    extracted_list = {'stop_id': {row[1].stop_id}, 'stop_lat': {row[1].stop_lat}, 'stop_lon': {row[1].stop_lon}}\n",
        "    travo_added_id_list.append(extracted_list)\n",
        "\n",
        "print(travo_added_id_list)\n",
        "\n",
        "#Update df with search cord list values\n",
        "for info in travo_added_id_list:\n",
        "  id_value = str(info['stop_id'].pop())\n",
        "  lat_value = float(info['stop_lat'].pop())\n",
        "  lon_value = float(info['stop_lon'].pop())\n",
        "\n",
        "  inputData.loc[(inputData['stop_lon'] ==  lon_value) & (inputData['stop_lat'] ==  lat_value), 'stop_id'] = id_value\n",
        "\n",
        "with pd.option_context('display.max_rows', None, 'display.max_columns', None):  # more options can be specified also\n",
        "    print(inputData)"
      ],
      "metadata": {
        "colab": {
          "base_uri": "https://localhost:8080/"
        },
        "id": "QaKDhVsO4rCH",
        "outputId": "b31e03fb-de55-40a8-cb16-6774580c0ead"
      },
      "execution_count": 24,
      "outputs": [
        {
          "output_type": "stream",
          "name": "stdout",
          "text": [
            "[]\n",
            "      stop_id   stop_lat    stop_lon arrival_time departure_time  sequence  \\\n",
            "0  91300003TS  6.7743035  79.8820183     06_00_00       06_00_00         1   \n",
            "1  91300083IP  6.7862798  79.8847474     06_10_00       06_10_00         2   \n",
            "2  91300081IP  6.7930022  79.8871546     06_20_00       06_20_00         3   \n",
            "3  91300076IP  6.8054173  79.8860133     06_30_00       06_30_00         4   \n",
            "4  91300076IP  6.8054173  79.8860133     17_00_00       17_00_00         5   \n",
            "5  91300081IP  6.7930022  79.8871546     17_10_00       17_10_00         6   \n",
            "6  91300083IP  6.7862798  79.8847474     17_20_00       17_20_00         7   \n",
            "7  91300003TS  6.7743035  79.8820183     17_30_00       17_30_00         8   \n",
            "\n",
            "  stop_headsign    trip_id route_id  direction  \n",
            "0       Colombo  N$0$100-M    WP100          1  \n",
            "1       Colombo  N$0$100-M    WP100          1  \n",
            "2       Colombo  N$0$100-M    WP100          1  \n",
            "3       Colombo  N$0$100-M    WP100          1  \n",
            "4      Moratuwa  N$1$100-M    WP100          0  \n",
            "5      Moratuwa  N$1$100-M    WP100          0  \n",
            "6      Moratuwa  N$1$100-M    WP100          0  \n",
            "7      Moratuwa  N$1$100-M    WP100          0  \n"
          ]
        }
      ]
    },
    {
      "cell_type": "code",
      "source": [
        "appending_input_data_list = inputData.values.tolist()\n",
        "print(appending_input_data_list)\n",
        "excelData_list = excelData.values.tolist()\n",
        "# print(excelData_list)"
      ],
      "metadata": {
        "colab": {
          "base_uri": "https://localhost:8080/"
        },
        "id": "DfBETGS76zdG",
        "outputId": "86a7e402-f844-48f7-91eb-1787497771a7"
      },
      "execution_count": 25,
      "outputs": [
        {
          "output_type": "stream",
          "name": "stdout",
          "text": [
            "[['91300003TS', 6.7743035, 79.8820183, '06_00_00', '06_00_00', 1, 'Colombo', 'N$0$100-M', 'WP100', 1], ['91300083IP', 6.7862798, 79.8847474, '06_10_00', '06_10_00', 2, 'Colombo', 'N$0$100-M', 'WP100', 1], ['91300081IP', 6.7930022, 79.8871546, '06_20_00', '06_20_00', 3, 'Colombo', 'N$0$100-M', 'WP100', 1], ['91300076IP', 6.8054173, 79.8860133, '06_30_00', '06_30_00', 4, 'Colombo', 'N$0$100-M', 'WP100', 1], ['91300076IP', 6.8054173, 79.8860133, '17_00_00', '17_00_00', 5, 'Moratuwa', 'N$1$100-M', 'WP100', 0], ['91300081IP', 6.7930022, 79.8871546, '17_10_00', '17_10_00', 6, 'Moratuwa', 'N$1$100-M', 'WP100', 0], ['91300083IP', 6.7862798, 79.8847474, '17_20_00', '17_20_00', 7, 'Moratuwa', 'N$1$100-M', 'WP100', 0], ['91300003TS', 6.7743035, 79.8820183, '17_30_00', '17_30_00', 8, 'Moratuwa', 'N$1$100-M', 'WP100', 0]]\n"
          ]
        }
      ]
    },
    {
      "cell_type": "code",
      "source": [
        "from openpyxl import load_workbook\n",
        "df = pd.read_excel(excel_file_path, sheet_name= None )\n",
        "stop_time_sheet = df[\"stop_times\"]\n",
        "print(stop_time_sheet)"
      ],
      "metadata": {
        "colab": {
          "base_uri": "https://localhost:8080/"
        },
        "id": "RiHLVgRp8Fyi",
        "outputId": "84bacdeb-7c93-4a5a-c198-b82795532e1b"
      },
      "execution_count": 31,
      "outputs": [
        {
          "output_type": "stream",
          "name": "stdout",
          "text": [
            "Empty DataFrame\n",
            "Columns: [trip_id, arrival_time, departure_time, stop_id, stop_sequence, stop_headsign, pickup_type, drop_off_type, continuous_pickup, continuous_drop_off, shape_dist_traveled, timepoint]\n",
            "Index: []\n"
          ]
        }
      ]
    },
    {
      "cell_type": "code",
      "source": [
        "if ('w124535' not in stop_time_sheet['trip_id'].values):\n",
        "  print(\"done\")\n",
        "else:\n",
        "  print('not done')"
      ],
      "metadata": {
        "colab": {
          "base_uri": "https://localhost:8080/"
        },
        "id": "FhsU-Trj4SJv",
        "outputId": "c2269295-258a-43ee-fab0-6e54cf85052c"
      },
      "execution_count": 66,
      "outputs": [
        {
          "output_type": "stream",
          "name": "stdout",
          "text": [
            "done\n"
          ]
        }
      ]
    },
    {
      "cell_type": "code",
      "source": [
        "j = 0\n",
        "for j in range(len(appending_input_data_list)):\n",
        "  row_to_add = {'trip_id': appending_input_data_list[j][7],'arrival_time': appending_input_data_list[j][3], 'departure_time': appending_input_data_list[j][4], 'stop_id': appending_input_data_list[j][0],\n",
        "                'stop_sequence': appending_input_data_list[j][5], 'stop_headsign': appending_input_data_list[j][6], 'timepoint': 1}\n",
        "  if (appending_input_data_list[j][7] and appending_input_data_list[j][5] not in stop_time_sheet['trip_id'].values, stop_time_sheet['stop_sequence'].values):\n",
        "    stop_time_sheet.loc[len(stop_time_sheet)] = row_to_add\n",
        "  j += 1\n",
        "print(row_to_add)"
      ],
      "metadata": {
        "colab": {
          "base_uri": "https://localhost:8080/"
        },
        "id": "ERCtB44o7Tc4",
        "outputId": "2f220eb8-2dac-4f2c-d152-3bafcda2b286"
      },
      "execution_count": 32,
      "outputs": [
        {
          "output_type": "stream",
          "name": "stdout",
          "text": [
            "{'trip_id': 'N$1$100-M', 'arrival_time': '17_30_00', 'departure_time': '17_30_00', 'stop_id': '91300003TS', 'stop_sequence': 8, 'stop_headsign': 'Moratuwa', 'timepoint': 1}\n"
          ]
        }
      ]
    },
    {
      "cell_type": "code",
      "source": [
        "df_trips_data = pd.DataFrame.from_dict(rows_to_add_trips)\n",
        "print(df_trips_data)"
      ],
      "metadata": {
        "colab": {
          "base_uri": "https://localhost:8080/"
        },
        "id": "RZmmPAyAK2Ln",
        "outputId": "7c3bb05d-4867-4103-f434-0921b60e34d9"
      },
      "execution_count": 33,
      "outputs": [
        {
          "output_type": "stream",
          "name": "stdout",
          "text": [
            "  route_id service_id    trip_id trip_headsign direction_id\n",
            "0    WP100      Daily  N$0$100-M       Colombo            0\n",
            "1    WP100      Daily  N$1$100-M      Moratuwa            1\n"
          ]
        }
      ]
    },
    {
      "cell_type": "code",
      "source": [
        "# Reindex routes\n",
        "route_sheet = df['routes']\n",
        "if (routeRow.get('route_id') not in route_sheet['route_id'].values):\n",
        "  route_sheet.loc[len(route_sheet)] = routeRow\n",
        "routesData = route_sheet.reindex(index=route_sheet.index, columns=route_sheet.columns)\n",
        "route_sheet[:] = routesData\n",
        "df['routes'] = route_sheet\n",
        "\n",
        "# Only print the route_sheet after it has been reindexed\n",
        "# print(route_sheet)\n",
        "\n",
        "#Reindexing Trips\n",
        "tripsData = tripsData.reindex(index=tripsData.index, columns=tripsData.columns)\n",
        "\n",
        "for update_trips in range(len(rows_to_add_trips)):\n",
        "  if (rows_to_add_trips[update_trips].get('route_id') and rows_to_add_trips[update_trips].get('trip_id') not in tripsData['route_id'].values, tripsData['trip_id'].values):\n",
        "    tripsData.loc[len(tripsData)] = rows_to_add_trips[update_trips]\n",
        "tripsData[:] = tripsData\n",
        "df[\"trips\"] = tripsData\n",
        "# print(tripsData)\n",
        "\n",
        "#Reindexing stops\n",
        "stops_sheet = df['stops']\n",
        "stops_sheet = stops_sheet.reindex(index=excelData.index, columns=excelData.columns)\n",
        "stops_sheet[:] = excelData\n",
        "df['stops'] = stops_sheet\n",
        "\n",
        "#Reindexing stop times\n",
        "stop_time_sheet = stop_time_sheet.reindex(index=stop_time_sheet.index, columns=stop_time_sheet.columns)\n",
        "stop_time_sheet[:] = stop_time_sheet\n",
        "df[\"stop_times\"] = stop_time_sheet\n",
        "\n",
        "print(df)\n",
        "with pd.ExcelWriter(excel_file_path, engine=\"openpyxl\") as writer:\n",
        "  for sheet_name, sheet_data in df.items():\n",
        "    sheet_data.to_excel(writer, sheet_name=sheet_name, index=False)"
      ],
      "metadata": {
        "id": "liCvAAmo93Hj",
        "colab": {
          "base_uri": "https://localhost:8080/"
        },
        "outputId": "ae0d55eb-08c8-447d-b48c-ac6d5f16ae37"
      },
      "execution_count": 34,
      "outputs": [
        {
          "output_type": "stream",
          "name": "stdout",
          "text": [
            "{'routes':   route_id agency_id route_short_name   route_long_name  route_desc  \\\n",
            "0    WP100      BOOK               22  Colombo-Moratuwa         NaN   \n",
            "\n",
            "  route_type  route_url route_color  route_text_color  route_sort_order  \\\n",
            "0          3        NaN      D4D428               NaN               NaN   \n",
            "\n",
            "   continuous_pickup  continuous_drop_off  \n",
            "0                NaN                  NaN  , 'trips':   route_id service_id    trip_id trip_headsign direction_id  block_id  \\\n",
            "0    WP100      Daily  N$0$100-M       Colombo            0       NaN   \n",
            "1    WP100      Daily  N$1$100-M      Moratuwa            1       NaN   \n",
            "\n",
            "   shape_id  wheelchair_accessible  bikes_allowed  \n",
            "0       NaN                    NaN            NaN  \n",
            "1       NaN                    NaN            NaN  , 'stops':       stop_id stop_code stop_name stop_desc   stop_lat    stop_lon zone_id  \\\n",
            "0  91300003TS       NaN       NaN       NaN  6.7743035  79.8820183     NaN   \n",
            "1  91300083IP       NaN       NaN       NaN  6.7862798  79.8847474     NaN   \n",
            "2  91300081IP       NaN       NaN       NaN  6.7930022  79.8871546     NaN   \n",
            "3  91300076IP       NaN       NaN       NaN  6.8054173  79.8860133     NaN   \n",
            "\n",
            "  stop_url location_type parent_station stop_timezone wheelchair_boarding  \n",
            "0      NaN           NaN            NaN           NaN                 NaN  \n",
            "1      NaN           NaN            NaN           NaN                 NaN  \n",
            "2      NaN           NaN            NaN           NaN                 NaN  \n",
            "3      NaN           NaN            NaN           NaN                 NaN  , 'stop_times':      trip_id arrival_time departure_time     stop_id  stop_sequence  \\\n",
            "0  N$0$100-M     06_00_00       06_00_00  91300003TS              1   \n",
            "1  N$0$100-M     06_10_00       06_10_00  91300083IP              2   \n",
            "2  N$0$100-M     06_20_00       06_20_00  91300081IP              3   \n",
            "3  N$0$100-M     06_30_00       06_30_00  91300076IP              4   \n",
            "4  N$1$100-M     17_00_00       17_00_00  91300076IP              5   \n",
            "5  N$1$100-M     17_10_00       17_10_00  91300081IP              6   \n",
            "6  N$1$100-M     17_20_00       17_20_00  91300083IP              7   \n",
            "7  N$1$100-M     17_30_00       17_30_00  91300003TS              8   \n",
            "\n",
            "  stop_headsign  pickup_type  drop_off_type  continuous_pickup  \\\n",
            "0       Colombo          NaN            NaN                NaN   \n",
            "1       Colombo          NaN            NaN                NaN   \n",
            "2       Colombo          NaN            NaN                NaN   \n",
            "3       Colombo          NaN            NaN                NaN   \n",
            "4      Moratuwa          NaN            NaN                NaN   \n",
            "5      Moratuwa          NaN            NaN                NaN   \n",
            "6      Moratuwa          NaN            NaN                NaN   \n",
            "7      Moratuwa          NaN            NaN                NaN   \n",
            "\n",
            "   continuous_drop_off  shape_dist_traveled  timepoint  \n",
            "0                  NaN                  NaN          1  \n",
            "1                  NaN                  NaN          1  \n",
            "2                  NaN                  NaN          1  \n",
            "3                  NaN                  NaN          1  \n",
            "4                  NaN                  NaN          1  \n",
            "5                  NaN                  NaN          1  \n",
            "6                  NaN                  NaN          1  \n",
            "7                  NaN                  NaN          1  }\n"
          ]
        }
      ]
    },
    {
      "cell_type": "code",
      "source": [
        "from openpyxl import load_workbook\n",
        "df = pd.read_excel(excel_file_path, sheet_name= None )\n",
        "\n",
        "sheet = df[\"Stops\"]\n",
        "sheet = sheet.reindex(index=excelData.index, columns=excelData.columns)\n",
        "sheet[:] = excelData\n",
        "df[\"Stop_time\"] = sheet\n",
        "\n",
        "# with pd.ExcelWriter(excel_file_path, engine=\"openpyxl\") as writer:\n",
        "#   for sheet_name, sheet_data in df.items():\n",
        "#     sheet_data.to_excel(writer, sheet_name=sheet_name, index=False)\n",
        "\n",
        "\n"
      ],
      "metadata": {
        "id": "AkSRv-ne86dC"
      },
      "execution_count": null,
      "outputs": []
    },
    {
      "cell_type": "code",
      "execution_count": null,
      "metadata": {
        "colab": {
          "base_uri": "https://localhost:8080/",
          "height": 356
        },
        "id": "yCuncdyA35DI",
        "outputId": "935fca8a-8550-434d-f0b7-84697214361a"
      },
      "outputs": [
        {
          "output_type": "error",
          "ename": "UFuncTypeError",
          "evalue": "ufunc 'subtract' did not contain a loop with signature matching types (dtype('<U9'), dtype('float64')) -> None",
          "traceback": [
            "\u001b[0;31m---------------------------------------------------------------------------\u001b[0m",
            "\u001b[0;31mUFuncTypeError\u001b[0m                            Traceback (most recent call last)",
            "\u001b[0;32m<ipython-input-13-c7de592f7a4b>\u001b[0m in \u001b[0;36m<cell line: 3>\u001b[0;34m()\u001b[0m\n\u001b[1;32m     53\u001b[0m \u001b[0;34m\u001b[0m\u001b[0m\n\u001b[1;32m     54\u001b[0m \u001b[0;34m\u001b[0m\u001b[0m\n\u001b[0;32m---> 55\u001b[0;31m   \u001b[0mfiltered_positions\u001b[0m \u001b[0;34m=\u001b[0m \u001b[0mget_gps_positions\u001b[0m\u001b[0;34m(\u001b[0m\u001b[0mdata\u001b[0m\u001b[0;34m,\u001b[0m \u001b[0mtarget_lat\u001b[0m\u001b[0;34m,\u001b[0m \u001b[0mtarget_lon\u001b[0m\u001b[0;34m,\u001b[0m \u001b[0mmax_distance\u001b[0m\u001b[0;34m)\u001b[0m\u001b[0;34m\u001b[0m\u001b[0;34m\u001b[0m\u001b[0m\n\u001b[0m\u001b[1;32m     56\u001b[0m \u001b[0;34m\u001b[0m\u001b[0m\n\u001b[1;32m     57\u001b[0m   \u001b[0mmismatch_list\u001b[0m \u001b[0;34m=\u001b[0m \u001b[0;34m[\u001b[0m\u001b[0;34m]\u001b[0m\u001b[0;34m\u001b[0m\u001b[0;34m\u001b[0m\u001b[0m\n",
            "\u001b[0;32m<ipython-input-13-c7de592f7a4b>\u001b[0m in \u001b[0;36mget_gps_positions\u001b[0;34m(data, target_lat, target_lon, max_distance)\u001b[0m\n\u001b[1;32m     41\u001b[0m           \u001b[0mstop_lon\u001b[0m \u001b[0;34m=\u001b[0m \u001b[0mvalues\u001b[0m\u001b[0;34m[\u001b[0m\u001b[0;34m-\u001b[0m\u001b[0;36m1\u001b[0m\u001b[0;34m]\u001b[0m\u001b[0;34m\u001b[0m\u001b[0;34m\u001b[0m\u001b[0m\n\u001b[1;32m     42\u001b[0m \u001b[0;34m\u001b[0m\u001b[0m\n\u001b[0;32m---> 43\u001b[0;31m           \u001b[0mdistance\u001b[0m \u001b[0;34m=\u001b[0m \u001b[0mget_distance\u001b[0m\u001b[0;34m(\u001b[0m\u001b[0mtarget_lat\u001b[0m\u001b[0;34m,\u001b[0m \u001b[0mtarget_lon\u001b[0m\u001b[0;34m,\u001b[0m \u001b[0mstop_lat\u001b[0m\u001b[0;34m,\u001b[0m \u001b[0mstop_lon\u001b[0m\u001b[0;34m)\u001b[0m\u001b[0;34m\u001b[0m\u001b[0;34m\u001b[0m\u001b[0m\n\u001b[0m\u001b[1;32m     44\u001b[0m           \u001b[0;32mif\u001b[0m \u001b[0mdistance\u001b[0m \u001b[0;34m<=\u001b[0m \u001b[0mmax_distance\u001b[0m\u001b[0;34m:\u001b[0m\u001b[0;34m\u001b[0m\u001b[0;34m\u001b[0m\u001b[0m\n\u001b[1;32m     45\u001b[0m               \u001b[0mfiltered_positions\u001b[0m\u001b[0;34m.\u001b[0m\u001b[0mappend\u001b[0m\u001b[0;34m(\u001b[0m\u001b[0;34m(\u001b[0m\u001b[0mid\u001b[0m\u001b[0;34m,\u001b[0m\u001b[0mvalues\u001b[0m\u001b[0;34m[\u001b[0m\u001b[0;36m0\u001b[0m\u001b[0;34m]\u001b[0m\u001b[0;34m,\u001b[0m \u001b[0mvalues\u001b[0m\u001b[0;34m[\u001b[0m\u001b[0;36m1\u001b[0m\u001b[0;34m]\u001b[0m\u001b[0;34m,\u001b[0m \u001b[0mstop_lat\u001b[0m\u001b[0;34m,\u001b[0m \u001b[0mstop_lon\u001b[0m\u001b[0;34m,\u001b[0m \u001b[0mdistance\u001b[0m\u001b[0;34m)\u001b[0m\u001b[0;34m)\u001b[0m\u001b[0;34m\u001b[0m\u001b[0;34m\u001b[0m\u001b[0m\n",
            "\u001b[0;32m<ipython-input-13-c7de592f7a4b>\u001b[0m in \u001b[0;36mget_distance\u001b[0;34m(lat1, lon1, lat2, lon2)\u001b[0m\n\u001b[1;32m     16\u001b[0m       \u001b[0mR\u001b[0m \u001b[0;34m=\u001b[0m \u001b[0;36m6371.0\u001b[0m\u001b[0;34m\u001b[0m\u001b[0;34m\u001b[0m\u001b[0m\n\u001b[1;32m     17\u001b[0m \u001b[0;34m\u001b[0m\u001b[0m\n\u001b[0;32m---> 18\u001b[0;31m       \u001b[0md_lat\u001b[0m \u001b[0;34m=\u001b[0m \u001b[0mradians\u001b[0m\u001b[0;34m(\u001b[0m\u001b[0mlat2\u001b[0m \u001b[0;34m-\u001b[0m \u001b[0mlat1\u001b[0m\u001b[0;34m)\u001b[0m\u001b[0;34m\u001b[0m\u001b[0;34m\u001b[0m\u001b[0m\n\u001b[0m\u001b[1;32m     19\u001b[0m       \u001b[0md_lon\u001b[0m \u001b[0;34m=\u001b[0m \u001b[0mradians\u001b[0m\u001b[0;34m(\u001b[0m\u001b[0mlon2\u001b[0m \u001b[0;34m-\u001b[0m \u001b[0mlon1\u001b[0m\u001b[0;34m)\u001b[0m\u001b[0;34m\u001b[0m\u001b[0;34m\u001b[0m\u001b[0m\n\u001b[1;32m     20\u001b[0m \u001b[0;34m\u001b[0m\u001b[0m\n",
            "\u001b[0;32m/usr/local/lib/python3.10/dist-packages/pandas/core/ops/common.py\u001b[0m in \u001b[0;36mnew_method\u001b[0;34m(self, other)\u001b[0m\n\u001b[1;32m     79\u001b[0m         \u001b[0mother\u001b[0m \u001b[0;34m=\u001b[0m \u001b[0mitem_from_zerodim\u001b[0m\u001b[0;34m(\u001b[0m\u001b[0mother\u001b[0m\u001b[0;34m)\u001b[0m\u001b[0;34m\u001b[0m\u001b[0;34m\u001b[0m\u001b[0m\n\u001b[1;32m     80\u001b[0m \u001b[0;34m\u001b[0m\u001b[0m\n\u001b[0;32m---> 81\u001b[0;31m         \u001b[0;32mreturn\u001b[0m \u001b[0mmethod\u001b[0m\u001b[0;34m(\u001b[0m\u001b[0mself\u001b[0m\u001b[0;34m,\u001b[0m \u001b[0mother\u001b[0m\u001b[0;34m)\u001b[0m\u001b[0;34m\u001b[0m\u001b[0;34m\u001b[0m\u001b[0m\n\u001b[0m\u001b[1;32m     82\u001b[0m \u001b[0;34m\u001b[0m\u001b[0m\n\u001b[1;32m     83\u001b[0m     \u001b[0;32mreturn\u001b[0m \u001b[0mnew_method\u001b[0m\u001b[0;34m\u001b[0m\u001b[0;34m\u001b[0m\u001b[0m\n",
            "\u001b[0;32m/usr/local/lib/python3.10/dist-packages/pandas/core/arraylike.py\u001b[0m in \u001b[0;36m__rsub__\u001b[0;34m(self, other)\u001b[0m\n\u001b[1;32m    196\u001b[0m     \u001b[0;34m@\u001b[0m\u001b[0munpack_zerodim_and_defer\u001b[0m\u001b[0;34m(\u001b[0m\u001b[0;34m\"__rsub__\"\u001b[0m\u001b[0;34m)\u001b[0m\u001b[0;34m\u001b[0m\u001b[0;34m\u001b[0m\u001b[0m\n\u001b[1;32m    197\u001b[0m     \u001b[0;32mdef\u001b[0m \u001b[0m__rsub__\u001b[0m\u001b[0;34m(\u001b[0m\u001b[0mself\u001b[0m\u001b[0;34m,\u001b[0m \u001b[0mother\u001b[0m\u001b[0;34m)\u001b[0m\u001b[0;34m:\u001b[0m\u001b[0;34m\u001b[0m\u001b[0;34m\u001b[0m\u001b[0m\n\u001b[0;32m--> 198\u001b[0;31m         \u001b[0;32mreturn\u001b[0m \u001b[0mself\u001b[0m\u001b[0;34m.\u001b[0m\u001b[0m_arith_method\u001b[0m\u001b[0;34m(\u001b[0m\u001b[0mother\u001b[0m\u001b[0;34m,\u001b[0m \u001b[0mroperator\u001b[0m\u001b[0;34m.\u001b[0m\u001b[0mrsub\u001b[0m\u001b[0;34m)\u001b[0m\u001b[0;34m\u001b[0m\u001b[0;34m\u001b[0m\u001b[0m\n\u001b[0m\u001b[1;32m    199\u001b[0m \u001b[0;34m\u001b[0m\u001b[0m\n\u001b[1;32m    200\u001b[0m     \u001b[0;34m@\u001b[0m\u001b[0munpack_zerodim_and_defer\u001b[0m\u001b[0;34m(\u001b[0m\u001b[0;34m\"__mul__\"\u001b[0m\u001b[0;34m)\u001b[0m\u001b[0;34m\u001b[0m\u001b[0;34m\u001b[0m\u001b[0m\n",
            "\u001b[0;32m/usr/local/lib/python3.10/dist-packages/pandas/core/series.py\u001b[0m in \u001b[0;36m_arith_method\u001b[0;34m(self, other, op)\u001b[0m\n\u001b[1;32m   6110\u001b[0m     \u001b[0;32mdef\u001b[0m \u001b[0m_arith_method\u001b[0m\u001b[0;34m(\u001b[0m\u001b[0mself\u001b[0m\u001b[0;34m,\u001b[0m \u001b[0mother\u001b[0m\u001b[0;34m,\u001b[0m \u001b[0mop\u001b[0m\u001b[0;34m)\u001b[0m\u001b[0;34m:\u001b[0m\u001b[0;34m\u001b[0m\u001b[0;34m\u001b[0m\u001b[0m\n\u001b[1;32m   6111\u001b[0m         \u001b[0mself\u001b[0m\u001b[0;34m,\u001b[0m \u001b[0mother\u001b[0m \u001b[0;34m=\u001b[0m \u001b[0mops\u001b[0m\u001b[0;34m.\u001b[0m\u001b[0malign_method_SERIES\u001b[0m\u001b[0;34m(\u001b[0m\u001b[0mself\u001b[0m\u001b[0;34m,\u001b[0m \u001b[0mother\u001b[0m\u001b[0;34m)\u001b[0m\u001b[0;34m\u001b[0m\u001b[0;34m\u001b[0m\u001b[0m\n\u001b[0;32m-> 6112\u001b[0;31m         \u001b[0;32mreturn\u001b[0m \u001b[0mbase\u001b[0m\u001b[0;34m.\u001b[0m\u001b[0mIndexOpsMixin\u001b[0m\u001b[0;34m.\u001b[0m\u001b[0m_arith_method\u001b[0m\u001b[0;34m(\u001b[0m\u001b[0mself\u001b[0m\u001b[0;34m,\u001b[0m \u001b[0mother\u001b[0m\u001b[0;34m,\u001b[0m \u001b[0mop\u001b[0m\u001b[0;34m)\u001b[0m\u001b[0;34m\u001b[0m\u001b[0;34m\u001b[0m\u001b[0m\n\u001b[0m\u001b[1;32m   6113\u001b[0m \u001b[0;34m\u001b[0m\u001b[0m\n\u001b[1;32m   6114\u001b[0m \u001b[0;34m\u001b[0m\u001b[0m\n",
            "\u001b[0;32m/usr/local/lib/python3.10/dist-packages/pandas/core/base.py\u001b[0m in \u001b[0;36m_arith_method\u001b[0;34m(self, other, op)\u001b[0m\n\u001b[1;32m   1346\u001b[0m \u001b[0;34m\u001b[0m\u001b[0m\n\u001b[1;32m   1347\u001b[0m         \u001b[0;32mwith\u001b[0m \u001b[0mnp\u001b[0m\u001b[0;34m.\u001b[0m\u001b[0merrstate\u001b[0m\u001b[0;34m(\u001b[0m\u001b[0mall\u001b[0m\u001b[0;34m=\u001b[0m\u001b[0;34m\"ignore\"\u001b[0m\u001b[0;34m)\u001b[0m\u001b[0;34m:\u001b[0m\u001b[0;34m\u001b[0m\u001b[0;34m\u001b[0m\u001b[0m\n\u001b[0;32m-> 1348\u001b[0;31m             \u001b[0mresult\u001b[0m \u001b[0;34m=\u001b[0m \u001b[0mops\u001b[0m\u001b[0;34m.\u001b[0m\u001b[0marithmetic_op\u001b[0m\u001b[0;34m(\u001b[0m\u001b[0mlvalues\u001b[0m\u001b[0;34m,\u001b[0m \u001b[0mrvalues\u001b[0m\u001b[0;34m,\u001b[0m \u001b[0mop\u001b[0m\u001b[0;34m)\u001b[0m\u001b[0;34m\u001b[0m\u001b[0;34m\u001b[0m\u001b[0m\n\u001b[0m\u001b[1;32m   1349\u001b[0m \u001b[0;34m\u001b[0m\u001b[0m\n\u001b[1;32m   1350\u001b[0m         \u001b[0;32mreturn\u001b[0m \u001b[0mself\u001b[0m\u001b[0;34m.\u001b[0m\u001b[0m_construct_result\u001b[0m\u001b[0;34m(\u001b[0m\u001b[0mresult\u001b[0m\u001b[0;34m,\u001b[0m \u001b[0mname\u001b[0m\u001b[0;34m=\u001b[0m\u001b[0mres_name\u001b[0m\u001b[0;34m)\u001b[0m\u001b[0;34m\u001b[0m\u001b[0;34m\u001b[0m\u001b[0m\n",
            "\u001b[0;32m/usr/local/lib/python3.10/dist-packages/pandas/core/ops/array_ops.py\u001b[0m in \u001b[0;36marithmetic_op\u001b[0;34m(left, right, op)\u001b[0m\n\u001b[1;32m    230\u001b[0m         \u001b[0;31m# error: Argument 1 to \"_na_arithmetic_op\" has incompatible type\u001b[0m\u001b[0;34m\u001b[0m\u001b[0;34m\u001b[0m\u001b[0m\n\u001b[1;32m    231\u001b[0m         \u001b[0;31m# \"Union[ExtensionArray, ndarray[Any, Any]]\"; expected \"ndarray[Any, Any]\"\u001b[0m\u001b[0;34m\u001b[0m\u001b[0;34m\u001b[0m\u001b[0m\n\u001b[0;32m--> 232\u001b[0;31m         \u001b[0mres_values\u001b[0m \u001b[0;34m=\u001b[0m \u001b[0m_na_arithmetic_op\u001b[0m\u001b[0;34m(\u001b[0m\u001b[0mleft\u001b[0m\u001b[0;34m,\u001b[0m \u001b[0mright\u001b[0m\u001b[0;34m,\u001b[0m \u001b[0mop\u001b[0m\u001b[0;34m)\u001b[0m  \u001b[0;31m# type: ignore[arg-type]\u001b[0m\u001b[0;34m\u001b[0m\u001b[0;34m\u001b[0m\u001b[0m\n\u001b[0m\u001b[1;32m    233\u001b[0m \u001b[0;34m\u001b[0m\u001b[0m\n\u001b[1;32m    234\u001b[0m     \u001b[0;32mreturn\u001b[0m \u001b[0mres_values\u001b[0m\u001b[0;34m\u001b[0m\u001b[0;34m\u001b[0m\u001b[0m\n",
            "\u001b[0;32m/usr/local/lib/python3.10/dist-packages/pandas/core/ops/array_ops.py\u001b[0m in \u001b[0;36m_na_arithmetic_op\u001b[0;34m(left, right, op, is_cmp)\u001b[0m\n\u001b[1;32m    169\u001b[0m \u001b[0;34m\u001b[0m\u001b[0m\n\u001b[1;32m    170\u001b[0m     \u001b[0;32mtry\u001b[0m\u001b[0;34m:\u001b[0m\u001b[0;34m\u001b[0m\u001b[0;34m\u001b[0m\u001b[0m\n\u001b[0;32m--> 171\u001b[0;31m         \u001b[0mresult\u001b[0m \u001b[0;34m=\u001b[0m \u001b[0mfunc\u001b[0m\u001b[0;34m(\u001b[0m\u001b[0mleft\u001b[0m\u001b[0;34m,\u001b[0m \u001b[0mright\u001b[0m\u001b[0;34m)\u001b[0m\u001b[0;34m\u001b[0m\u001b[0;34m\u001b[0m\u001b[0m\n\u001b[0m\u001b[1;32m    172\u001b[0m     \u001b[0;32mexcept\u001b[0m \u001b[0mTypeError\u001b[0m\u001b[0;34m:\u001b[0m\u001b[0;34m\u001b[0m\u001b[0;34m\u001b[0m\u001b[0m\n\u001b[1;32m    173\u001b[0m         \u001b[0;32mif\u001b[0m \u001b[0;32mnot\u001b[0m \u001b[0mis_cmp\u001b[0m \u001b[0;32mand\u001b[0m \u001b[0;34m(\u001b[0m\u001b[0mis_object_dtype\u001b[0m\u001b[0;34m(\u001b[0m\u001b[0mleft\u001b[0m\u001b[0;34m.\u001b[0m\u001b[0mdtype\u001b[0m\u001b[0;34m)\u001b[0m \u001b[0;32mor\u001b[0m \u001b[0mis_object_dtype\u001b[0m\u001b[0;34m(\u001b[0m\u001b[0mright\u001b[0m\u001b[0;34m)\u001b[0m\u001b[0;34m)\u001b[0m\u001b[0;34m:\u001b[0m\u001b[0;34m\u001b[0m\u001b[0;34m\u001b[0m\u001b[0m\n",
            "\u001b[0;32m/usr/local/lib/python3.10/dist-packages/pandas/core/roperator.py\u001b[0m in \u001b[0;36mrsub\u001b[0;34m(left, right)\u001b[0m\n\u001b[1;32m     13\u001b[0m \u001b[0;34m\u001b[0m\u001b[0m\n\u001b[1;32m     14\u001b[0m \u001b[0;32mdef\u001b[0m \u001b[0mrsub\u001b[0m\u001b[0;34m(\u001b[0m\u001b[0mleft\u001b[0m\u001b[0;34m,\u001b[0m \u001b[0mright\u001b[0m\u001b[0;34m)\u001b[0m\u001b[0;34m:\u001b[0m\u001b[0;34m\u001b[0m\u001b[0;34m\u001b[0m\u001b[0m\n\u001b[0;32m---> 15\u001b[0;31m     \u001b[0;32mreturn\u001b[0m \u001b[0mright\u001b[0m \u001b[0;34m-\u001b[0m \u001b[0mleft\u001b[0m\u001b[0;34m\u001b[0m\u001b[0;34m\u001b[0m\u001b[0m\n\u001b[0m\u001b[1;32m     16\u001b[0m \u001b[0;34m\u001b[0m\u001b[0m\n\u001b[1;32m     17\u001b[0m \u001b[0;34m\u001b[0m\u001b[0m\n",
            "\u001b[0;31mUFuncTypeError\u001b[0m: ufunc 'subtract' did not contain a loop with signature matching types (dtype('<U9'), dtype('float64')) -> None"
          ]
        }
      ],
      "source": [
        "\n",
        "# from math import radians, sin, cos, sqrt, atan2\n",
        "\n",
        "# def get_distance(lat1, lon1, lat2, lon2):\n",
        "#     '''\n",
        "#       Get the distance using latitude and longitude.\n",
        "#       a = sin(d_lat / 2)**2 + cos(radians(lat1)) * cos(radians(lat2)) * sin(d_lon / 2)**2\n",
        "#       c = 2 * atan2(sqrt(a), sqrt(1 - a))\n",
        "\n",
        "#       distance = R * c*1000\n",
        "\n",
        "#       Ask user to enter target latitude, longitude and distance.\n",
        "#       Return all the results inside of the entered geolocation and radius.\n",
        "#     '''\n",
        "#     R = 6371.0\n",
        "\n",
        "#     d_lat = radians(lat2 - lat1)\n",
        "#     d_lon = radians(lon2 - lon1)\n",
        "\n",
        "#     a = sin(d_lat / 2)**2 + cos(radians(lat1)) * cos(radians(lat2)) * sin(d_lon / 2)**2\n",
        "#     c = 2 * atan2(sqrt(a), sqrt(1 - a))\n",
        "\n",
        "#     distance = R * c*1000\n",
        "\n",
        "#     return distance\n",
        "\n",
        "# txt_file_path = \"/content/drive/My Drive/Colab Notebooks/stopsNew.txt\"\n",
        "\n",
        "# with open(txt_file_path, 'r', encoding='utf-8') as txtfile:\n",
        "\n",
        "#     header = txtfile.readline()\n",
        "\n",
        "#     data = [line.strip().split(',') for line in txtfile]\n",
        "\n",
        "# def get_gps_positions(data, target_lat, target_lon, max_distance):\n",
        "#     filtered_positions = []\n",
        "\n",
        "#     for id,values in enumerate (data, start=1):\n",
        "#         stop_lat = float(values[-2])\n",
        "#         stop_lon = float(values[-1])\n",
        "\n",
        "#         distance = get_distance(target_lat, target_lon, stop_lat, stop_lon)\n",
        "#         if distance <= max_distance:\n",
        "#             filtered_positions.append((id,values[0], values[1], stop_lat, stop_lon, distance))\n",
        "\n",
        "#     return filtered_positions\n",
        "\n",
        "\n",
        "# target_lat = rows_with_null['stop_lat']\n",
        "# target_lon = rows_with_null['stop_lon']\n",
        "# max_distance = 100\n",
        "\n",
        "\n",
        "# filtered_positions = get_gps_positions(data, target_lat, target_lon, max_distance)\n",
        "\n",
        "# mismatch_list = []\n",
        "\n",
        "# for lat, lon in zip(target_lat, target_lon):\n",
        "#   filtered_positions = get_gps_positions(data, lat, lon, max_distance)\n",
        "\n",
        "#   if len(filtered_positions) == 1:\n",
        "#     # Handle single position case\n",
        "#     identified_list = {'stop_id': {filtered_positions[0][1]}, 'lat': {filtered_positions[0][3]}, 'lon': {filtered_positions[0][4]}}\n",
        "#     mismatch_list.append(identified_list)  # Access the ID directly\n",
        "#   elif len(filtered_positions) > 1:\n",
        "#     for showId in filtered_positions:\n",
        "#       print(f\"id: {showId[0]}, stop_id: {showId[1]}, stop_name: {showId[2]}, stop_lat: {showId[3]}, stop_lon: {showId[4]}, distance: {showId[5]} m\")\n",
        "#     stop_id = int(input(\"Which Id do you want to enter ? \"))\n",
        "#     for selected_id in filtered_positions:\n",
        "#       if selected_id[0] == stop_id:\n",
        "#         selected_list = {'stop_id': {selected_id[1]}, 'lat': {selected_id[3]}, 'lon': {selected_id[4]}}\n",
        "#         mismatch_list.append(selected_list)\n",
        "#         break  # Break out of the loop after finding the match\n",
        "\n",
        "# print(mismatch_list)\n"
      ]
    },
    {
      "cell_type": "code",
      "execution_count": null,
      "metadata": {
        "colab": {
          "base_uri": "https://localhost:8080/"
        },
        "id": "zJhqviWqkNcm",
        "outputId": "eee7e00b-a189-403a-e9e6-49aaec62de64"
      },
      "outputs": [
        {
          "name": "stdout",
          "output_type": "stream",
          "text": [
            "stop_id: 91292081WP, stop_name: Colombo Central Bus Stand, stop_lat: 6.9337351, stop_lon: 79.8562748, distance: 0.0 m\n",
            "stop_id: 91292199IP, stop_name: Colombo Fort, stop_lat: 6.9336266, stop_lon: 79.8556066, distance: 74.73726826101762 m\n",
            "stop_id: 91292199IP-R, stop_name: Colombo Fort, stop_lat: 6.9337118, stop_lon: 79.8560089, distance: 29.464621665357893 m\n",
            "-----------------------------------------------------------------------------------------------------\n",
            "Which Stop Id do you want to enter ? 91292081WP\n",
            "stop_id: 91292081WP, stop_name: Colombo Central Bus Stand, stop_lat: 6.9337351, stop_lon: 79.8562748, distance: 0.0 m\n",
            "['91292081WP']\n"
          ]
        }
      ],
      "source": [
        "if (len(filtered_positions) > 0):\n",
        "  if (len(filtered_positions) == 1):\n",
        "    print(f\"Stop Id: {id[0]}\")\n",
        "  elif (len(filtered_positions) > 1):\n",
        "      for id in filtered_positions:\n",
        "        print(f\"stop_id: {id[0]}, stop_name: {id[1]}, stop_lat: {id[2]}, stop_lon: {id[3]}, distance: {id[4]} m\")\n",
        "      print(\"-----------------------------------------------------------------------------------------------------\")\n",
        "      stop_id = input(\"Which Stop Id do you want to enter ? \")\n",
        "      for selected_id in filtered_positions:\n",
        "        if (selected_id[0] == stop_id):\n",
        "          print(f\"stop_id: {selected_id[0]}, stop_name: {selected_id[1]}, stop_lat: {selected_id[2]}, stop_lon: {selected_id[3]}, distance: {selected_id[4]} m\")\n",
        "          mismatch_list.append(selected_id[0])\n",
        "          print(mismatch_list)\n",
        "          break\n"
      ]
    },
    {
      "cell_type": "code",
      "execution_count": null,
      "metadata": {
        "colab": {
          "base_uri": "https://localhost:8080/"
        },
        "id": "nv3eTQywC8aJ",
        "outputId": "d5608553-cb77-47ce-8542-ba0917d203c8"
      },
      "outputs": [
        {
          "name": "stdout",
          "output_type": "stream",
          "text": [
            "4.0.0\n"
          ]
        }
      ],
      "source": [
        "import gspread\n",
        "print(gspread.__version__)"
      ]
    },
    {
      "cell_type": "code",
      "execution_count": null,
      "metadata": {
        "colab": {
          "base_uri": "https://localhost:8080/",
          "height": 478
        },
        "id": "2kjxlBwCR2cx",
        "outputId": "2533428a-ca6b-4825-dabb-38f504a76e3c"
      },
      "outputs": [
        {
          "name": "stdout",
          "output_type": "stream",
          "text": [
            "Collecting gspread==4.0.0\n",
            "  Downloading gspread-4.0.0-py3-none-any.whl (29 kB)\n",
            "Requirement already satisfied: google-auth>=1.12.0 in /usr/local/lib/python3.10/dist-packages (from gspread==4.0.0) (2.27.0)\n",
            "Requirement already satisfied: google-auth-oauthlib>=0.4.1 in /usr/local/lib/python3.10/dist-packages (from gspread==4.0.0) (1.2.0)\n",
            "Requirement already satisfied: cachetools<6.0,>=2.0.0 in /usr/local/lib/python3.10/dist-packages (from google-auth>=1.12.0->gspread==4.0.0) (5.3.3)\n",
            "Requirement already satisfied: pyasn1-modules>=0.2.1 in /usr/local/lib/python3.10/dist-packages (from google-auth>=1.12.0->gspread==4.0.0) (0.3.0)\n",
            "Requirement already satisfied: rsa<5,>=3.1.4 in /usr/local/lib/python3.10/dist-packages (from google-auth>=1.12.0->gspread==4.0.0) (4.9)\n",
            "Requirement already satisfied: requests-oauthlib>=0.7.0 in /usr/local/lib/python3.10/dist-packages (from google-auth-oauthlib>=0.4.1->gspread==4.0.0) (1.4.0)\n",
            "Requirement already satisfied: pyasn1<0.6.0,>=0.4.6 in /usr/local/lib/python3.10/dist-packages (from pyasn1-modules>=0.2.1->google-auth>=1.12.0->gspread==4.0.0) (0.5.1)\n",
            "Requirement already satisfied: oauthlib>=3.0.0 in /usr/local/lib/python3.10/dist-packages (from requests-oauthlib>=0.7.0->google-auth-oauthlib>=0.4.1->gspread==4.0.0) (3.2.2)\n",
            "Requirement already satisfied: requests>=2.0.0 in /usr/local/lib/python3.10/dist-packages (from requests-oauthlib>=0.7.0->google-auth-oauthlib>=0.4.1->gspread==4.0.0) (2.31.0)\n",
            "Requirement already satisfied: charset-normalizer<4,>=2 in /usr/local/lib/python3.10/dist-packages (from requests>=2.0.0->requests-oauthlib>=0.7.0->google-auth-oauthlib>=0.4.1->gspread==4.0.0) (3.3.2)\n",
            "Requirement already satisfied: idna<4,>=2.5 in /usr/local/lib/python3.10/dist-packages (from requests>=2.0.0->requests-oauthlib>=0.7.0->google-auth-oauthlib>=0.4.1->gspread==4.0.0) (3.6)\n",
            "Requirement already satisfied: urllib3<3,>=1.21.1 in /usr/local/lib/python3.10/dist-packages (from requests>=2.0.0->requests-oauthlib>=0.7.0->google-auth-oauthlib>=0.4.1->gspread==4.0.0) (2.0.7)\n",
            "Requirement already satisfied: certifi>=2017.4.17 in /usr/local/lib/python3.10/dist-packages (from requests>=2.0.0->requests-oauthlib>=0.7.0->google-auth-oauthlib>=0.4.1->gspread==4.0.0) (2024.2.2)\n",
            "Installing collected packages: gspread\n",
            "  Attempting uninstall: gspread\n",
            "    Found existing installation: gspread 3.4.2\n",
            "    Uninstalling gspread-3.4.2:\n",
            "      Successfully uninstalled gspread-3.4.2\n",
            "Successfully installed gspread-4.0.0\n"
          ]
        },
        {
          "data": {
            "application/vnd.colab-display-data+json": {
              "id": "5c43aa2f980444e99b2c0caa49a4f5f2",
              "pip_warning": {
                "packages": [
                  "gspread"
                ]
              }
            }
          },
          "metadata": {},
          "output_type": "display_data"
        }
      ],
      "source": [
        "pip install --upgrade gspread==4.0.0\n"
      ]
    },
    {
      "cell_type": "code",
      "execution_count": null,
      "metadata": {
        "id": "avTW3OcoYnx2"
      },
      "outputs": [],
      "source": [
        "stop_file_path = '/content/drive/My Drive/Colab Notebooks/ImportExport_all.xlsm'\n",
        "data = pd.read_excel(stop_file_path ,sheet_name='stops', usecols='A, C, E, F')"
      ]
    },
    {
      "cell_type": "code",
      "execution_count": null,
      "metadata": {
        "id": "BmZVmAmAliOv"
      },
      "outputs": [],
      "source": [
        "from openpyxl import load_workbook\n",
        "workbook = load_workbook(filename=excel_file_path)\n",
        "# sheet = workbook.active\n",
        "for sheet_name in workbook.sheetnames:\n",
        "  if sheet_name == 'stops':\n",
        "    sheet = workbook[sheet_name]"
      ]
    },
    {
      "cell_type": "code",
      "execution_count": null,
      "metadata": {
        "id": "bcAmunNHO1ds"
      },
      "outputs": [],
      "source": []
    },
    {
      "cell_type": "code",
      "execution_count": null,
      "metadata": {
        "colab": {
          "base_uri": "https://localhost:8080/"
        },
        "id": "3YDpb2nbChoE",
        "outputId": "eb086639-3ecd-4571-c288-1289b74a81b0"
      },
      "outputs": [
        {
          "name": "stdout",
          "output_type": "stream",
          "text": [
            "0                                 Ganahena\n",
            "1                         Eluwila Junction\n",
            "2                               Pannanduwa\n",
            "3                            Kahawannagama\n",
            "4                               Palutagaha\n",
            "                       ...                \n",
            "15353                   Wattahena Junction\n",
            "15354            Gahalakoladeniya Junction\n",
            "15355             Sri Abinawarama Viharaya\n",
            "15356             Sri Paramitharamaya Road\n",
            "15357    Nabadawa Sumangala Maha Vidyalaya\n",
            "Name: stop_name, Length: 15358, dtype: object\n"
          ]
        }
      ],
      "source": [
        "#Extract bus stop names from data frame\n",
        "stop_names = df['stop_name']\n",
        "print(stop_names)"
      ]
    },
    {
      "cell_type": "code",
      "execution_count": null,
      "metadata": {
        "colab": {
          "base_uri": "https://localhost:8080/"
        },
        "id": "_m6neRseEkSe",
        "outputId": "c4db027f-394e-4241-a672-dc579e771dd5"
      },
      "outputs": [
        {
          "name": "stdout",
          "output_type": "stream",
          "text": [
            "            stop_id stop_name   stop_lat    stop_lon\n",
            "405      11010011IP  Bus Stop  7.3442065  80.9336770\n",
            "406    11010011IP-R  Bus Stop  7.3442000  80.9336700\n",
            "860      21040023IP  Bus Stop  7.3008324  81.6707797\n",
            "861    21040023IP-R  Bus Stop  7.3008300  81.6707412\n",
            "954      21048012WP  Bus Stop  7.5256183  81.4902249\n",
            "...             ...       ...        ...         ...\n",
            "11254  93331019IP-R  Bus Stop  6.4062228  80.2798274\n",
            "11255    93331020IP  Bus Stop  6.3953037  80.2944937\n",
            "11256  93331020IP-R  Bus Stop  6.3952650  80.2945098\n",
            "11465  33009026SP-R  Bus Stop  6.2786681  81.2658800\n",
            "11480    33009029SP  Bus Stop  6.2783160  81.2658586\n",
            "\n",
            "[2983 rows x 4 columns]\n"
          ]
        }
      ],
      "source": [
        "bus_stop_data = df[df['stop_name'] == 'Bus Stop']\n",
        "print(bus_stop_data)"
      ]
    },
    {
      "cell_type": "code",
      "execution_count": null,
      "metadata": {
        "colab": {
          "base_uri": "https://localhost:8080/"
        },
        "id": "uh_6AR0aJWcr",
        "outputId": "e2347f50-6397-4b9b-f6bf-d5d9edc52e46"
      },
      "outputs": [
        {
          "name": "stdout",
          "output_type": "stream",
          "text": [
            "            stop_id                    stop_name   stop_lat    stop_lon\n",
            "267      11007033IP                     Bus Stop  7.2808669  80.6664705\n",
            "268    11007033IP-R                     Bus Stop  7.2808649  80.6664464\n",
            "269      11007034IP                     Bus Stop  7.2726636  80.6806138\n",
            "270    11007034IP-R                     Bus Stop  7.2726024  80.6805977\n",
            "353      11008028IP     Gomagoda Bodiya Bus Stop  7.3239410  80.7418510\n",
            "...             ...                          ...        ...         ...\n",
            "12435  31039100SP-R            Makuluwa Bus Stop  6.0398829  80.2340605\n",
            "14797  31033181SP-R     Temple Junction Bus Stop  6.1937792  80.0930062\n",
            "14806  31036139SP-R  Kuleegoda Junction Bus Stop  6.2138206  80.0703308\n",
            "14978  31003042SP-R   Miriswatha School Bus Stop  6.3723406  80.0585386\n",
            "15019    31003083SP   Miriswatha School Bus Stop  6.3720533  80.0586540\n",
            "\n",
            "[4588 rows x 4 columns]\n"
          ]
        }
      ],
      "source": [
        "bus_stop_data = df[df['stop_name'].str.contains(\"Bus Stop\")]\n",
        "print(bus_stop_data)"
      ]
    },
    {
      "cell_type": "code",
      "execution_count": null,
      "metadata": {
        "colab": {
          "base_uri": "https://localhost:8080/"
        },
        "id": "9x9iDsx--eKE",
        "outputId": "50055dd4-b77c-40dc-aff0-123b45396bb0"
      },
      "outputs": [
        {
          "name": "stdout",
          "output_type": "stream",
          "text": [
            "Requirement already satisfied: geopy in /usr/local/lib/python3.10/dist-packages (2.3.0)\n",
            "Requirement already satisfied: geographiclib<3,>=1.52 in /usr/local/lib/python3.10/dist-packages (from geopy) (2.0)\n"
          ]
        }
      ],
      "source": [
        "!pip install geopy"
      ]
    },
    {
      "cell_type": "code",
      "execution_count": null,
      "metadata": {
        "colab": {
          "base_uri": "https://localhost:8080/"
        },
        "id": "5PjzatWiBKyZ",
        "outputId": "a26cf95e-9283-4d94-d451-8183f4dc56a6"
      },
      "outputs": [
        {
          "name": "stdout",
          "output_type": "stream",
          "text": [
            "Location Name Bentara - Uragaha - Elpitiya Road, Galle District, Southern Province, 80510, Sri Lanka\n"
          ]
        }
      ],
      "source": [
        "'''\n",
        "  This method get latitude and longitude from Stops.txt file that does not have any stop_name.\n",
        "  Then getting the name that google maps have using geolocator reverse function.\n",
        " '''\n",
        "from geopy.geocoders import Nominatim\n",
        "\n",
        "def get_location_name(lat, lon):\n",
        "    geolocator = Nominatim(user_agent=\"my_location_identifier\")\n",
        "    location = geolocator.reverse((lat, lon), language='en')\n",
        "    location_name = location.address\n",
        "\n",
        "    return location_name\n",
        "\n",
        "lat = 6.372053\n",
        "lon = 80.058654\n",
        "\n",
        "location_name = get_location_name(lat, lon)\n",
        "print(\"Location Name\", location_name)"
      ]
    },
    {
      "cell_type": "code",
      "execution_count": null,
      "metadata": {
        "colab": {
          "base_uri": "https://localhost:8080/"
        },
        "id": "D7Yw61scQXj4",
        "outputId": "ab8e6b1e-6ef1-4e9a-9fa1-4b2f1703de76"
      },
      "outputs": [
        {
          "name": "stdout",
          "output_type": "stream",
          "text": [
            "         stop_id  stop_code                     stop_name  stop_desc  \\\n",
            "0    T000000002W        NaN   Visa Pillaiyar Kovil IBC Rd        NaN   \n",
            "1     91304020WP        NaN            Wellawatte Station        NaN   \n",
            "2     91304216IP        NaN             7Stories Ranjanas        NaN   \n",
            "3     91304030WP        NaN  Bambalapitiya Flats Bus Stop        NaN   \n",
            "4     91304031WP        NaN              Visakha Bus Stop        NaN   \n",
            "5   91304224IP-R        NaN         Bambalapitiya MC Park        NaN   \n",
            "6   91304033WP-R        NaN     Cargills Bank-Kollupitiya        NaN   \n",
            "7   91304035WP-R        NaN         Kollupitiya McDonalds        NaN   \n",
            "8   91304037WP-R        NaN          Kollupitiya Bus Stop        NaN   \n",
            "9     91304039WP        NaN                Cinnaman Grand        NaN   \n",
            "10    91292041WP        NaN            Galleface Bus Stop        NaN   \n",
            "11    91292077WP        NaN        Pettah Railway Station        NaN   \n",
            "12    91292081WP        NaN                       Colombo        NaN   \n",
            "13    91292193IP        NaN   Technical Junction Maradana        NaN   \n",
            "14    91292085WP        NaN      Panchikawatta Roundabout        NaN   \n",
            "15    91292058WP        NaN  Armour Street Police Station        NaN   \n",
            "16   T000000001W        NaN          Kotahena Post Office        NaN   \n",
            "17    91292098WP        NaN           Stadium Petrol shed        NaN   \n",
            "18    91292154WP        NaN   Thotalaga Junction Bus Stop        NaN   \n",
            "19    92312078WP        NaN           Peliyagoda junction        NaN   \n",
            "\n",
            "       stop_lat     stop_lon  zone_id  stop_url  location_type  \\\n",
            "0   6.869291961  79.85875881      NaN       NaN            NaN   \n",
            "1   6.877093300  79.86057330      NaN       NaN            NaN   \n",
            "2   6.881399600  79.86167910      NaN       NaN            NaN   \n",
            "3   6.884079100  79.85838670      NaN       NaN            NaN   \n",
            "4   6.889261300  79.85690170      NaN       NaN            NaN   \n",
            "5   6.893355800  79.85554220      NaN       NaN            NaN   \n",
            "6   6.897008800  79.85436840      NaN       NaN            NaN   \n",
            "7   6.902893600  79.85247210      NaN       NaN            NaN   \n",
            "8   6.909925600  79.85011770      NaN       NaN            NaN   \n",
            "9   6.917003026  79.84782446      NaN       NaN            NaN   \n",
            "10  6.925508238  79.84478921      NaN       NaN            NaN   \n",
            "11  6.934050239  79.85018648      NaN       NaN            NaN   \n",
            "12  6.933735100  79.85627480      NaN       NaN            NaN   \n",
            "13  6.932425700  79.86065170      NaN       NaN            NaN   \n",
            "14  6.934598399  79.86744247      NaN       NaN            NaN   \n",
            "15  6.939940500  79.86590690      NaN       NaN            NaN   \n",
            "16  6.945384955  79.86379973      NaN       NaN            NaN   \n",
            "17  6.947437900  79.86995840      NaN       NaN            NaN   \n",
            "18  6.958413300  79.87582140      NaN       NaN            NaN   \n",
            "19  6.957241200  79.88232970      NaN       NaN            NaN   \n",
            "\n",
            "    parent_station  stop_timezone  wheelchair_boarding  \n",
            "0              NaN            NaN                  NaN  \n",
            "1              NaN            NaN                  NaN  \n",
            "2              NaN            NaN                  NaN  \n",
            "3              NaN            NaN                  NaN  \n",
            "4              NaN            NaN                  NaN  \n",
            "5              NaN            NaN                  NaN  \n",
            "6              NaN            NaN                  NaN  \n",
            "7              NaN            NaN                  NaN  \n",
            "8              NaN            NaN                  NaN  \n",
            "9              NaN            NaN                  NaN  \n",
            "10             NaN            NaN                  NaN  \n",
            "11             NaN            NaN                  NaN  \n",
            "12             NaN            NaN                  NaN  \n",
            "13             NaN            NaN                  NaN  \n",
            "14             NaN            NaN                  NaN  \n",
            "15             NaN            NaN                  NaN  \n",
            "16             NaN            NaN                  NaN  \n",
            "17             NaN            NaN                  NaN  \n",
            "18             NaN            NaN                  NaN  \n",
            "19             NaN            NaN                  NaN  \n"
          ]
        }
      ],
      "source": [
        "import pandas as pd\n",
        "\n",
        "path_to_excel = '/content/drive/My Drive/Colab Notebooks/ImportExport_data.xlsm'\n",
        "df = pd.ExcelFile(path_to_excel)\n",
        "stops_df = df.parse(sheet_name='stops')\n",
        "# print(df[0:20])\n",
        "# print(stops_df)\n",
        "printing_data_list = missing_list\n",
        "\n",
        "stops_df['stop_id'] = stops_df['stop_id'].astype(str)\n",
        "for data in printing_data_list:\n",
        "  id_value = str(data['stop_id'].pop())\n",
        "  lat_value = float(data['lat'].pop())\n",
        "  lon_value = float(data['lon'].pop())\n",
        "  # print(id_value)\n",
        "  stops_df.loc[(stops_df['stop_lon'] == lon_value) & (stops_df['stop_lat'] == lat_value), 'stop_id'] = id_value\n",
        "  print(stops_df[0:20])\n",
        "\n",
        "# newDf = pd.read_excel(path_to_excel)\n",
        "\n",
        "# with pd.ExcelWriter(path_to_excel, engine='openpyxl', mode='a') as writer:\n",
        "#   workbook = writer.book\n",
        "#   try:\n",
        "#     workbook.remove(workbook['stops'])\n",
        "#   except:\n",
        "#     print(\"worksheet does not exists\")\n",
        "#   finally:\n",
        "#     newDf.to_excel(writer, sheet_name='stops', index=False)\n",
        "#     writer.book.save(path_to_excel)\n",
        "\n",
        "df.to_excel(df, index=False, )\n"
      ]
    },
    {
      "cell_type": "code",
      "execution_count": null,
      "metadata": {
        "colab": {
          "base_uri": "https://localhost:8080/",
          "height": 211
        },
        "id": "ump0CZe_CXSc",
        "outputId": "9bf4ee1d-d041-478d-91f0-0f4d1e736ba6"
      },
      "outputs": [
        {
          "ename": "ValueError",
          "evalue": "could not convert string to float: ' Kosgama\"'",
          "output_type": "error",
          "traceback": [
            "\u001b[0;31m---------------------------------------------------------------------------\u001b[0m",
            "\u001b[0;31mValueError\u001b[0m                                Traceback (most recent call last)",
            "\u001b[0;32m<ipython-input-17-8586fbda6562>\u001b[0m in \u001b[0;36m<cell line: 7>\u001b[0;34m()\u001b[0m\n\u001b[1;32m     12\u001b[0m   \u001b[0;32mfor\u001b[0m \u001b[0mdata\u001b[0m \u001b[0;32min\u001b[0m \u001b[0mprinting_data_list\u001b[0m\u001b[0;34m:\u001b[0m\u001b[0;34m\u001b[0m\u001b[0;34m\u001b[0m\u001b[0m\n\u001b[1;32m     13\u001b[0m     \u001b[0mid_value\u001b[0m \u001b[0;34m=\u001b[0m \u001b[0mstr\u001b[0m\u001b[0;34m(\u001b[0m\u001b[0mdata\u001b[0m\u001b[0;34m[\u001b[0m\u001b[0;34m'stop_id'\u001b[0m\u001b[0;34m]\u001b[0m\u001b[0;34m.\u001b[0m\u001b[0mpop\u001b[0m\u001b[0;34m(\u001b[0m\u001b[0;34m)\u001b[0m\u001b[0;34m)\u001b[0m\u001b[0;34m\u001b[0m\u001b[0;34m\u001b[0m\u001b[0m\n\u001b[0;32m---> 14\u001b[0;31m     \u001b[0mlat_value\u001b[0m \u001b[0;34m=\u001b[0m \u001b[0mfloat\u001b[0m\u001b[0;34m(\u001b[0m\u001b[0mdata\u001b[0m\u001b[0;34m[\u001b[0m\u001b[0;34m'lat'\u001b[0m\u001b[0;34m]\u001b[0m\u001b[0;34m.\u001b[0m\u001b[0mpop\u001b[0m\u001b[0;34m(\u001b[0m\u001b[0;34m)\u001b[0m\u001b[0;34m)\u001b[0m\u001b[0;34m\u001b[0m\u001b[0;34m\u001b[0m\u001b[0m\n\u001b[0m\u001b[1;32m     15\u001b[0m     \u001b[0mlon_value\u001b[0m \u001b[0;34m=\u001b[0m \u001b[0mfloat\u001b[0m\u001b[0;34m(\u001b[0m\u001b[0mdata\u001b[0m\u001b[0;34m[\u001b[0m\u001b[0;34m'lon'\u001b[0m\u001b[0;34m]\u001b[0m\u001b[0;34m.\u001b[0m\u001b[0mpop\u001b[0m\u001b[0;34m(\u001b[0m\u001b[0;34m)\u001b[0m\u001b[0;34m)\u001b[0m\u001b[0;34m\u001b[0m\u001b[0;34m\u001b[0m\u001b[0m\n\u001b[1;32m     16\u001b[0m     \u001b[0;31m# print(id_value)\u001b[0m\u001b[0;34m\u001b[0m\u001b[0;34m\u001b[0m\u001b[0m\n",
            "\u001b[0;31mValueError\u001b[0m: could not convert string to float: ' Kosgama\"'"
          ]
        }
      ],
      "source": [
        "import pandas as pd\n",
        "from openpyxl import load_workbook\n",
        "\n",
        "printing_data_list = missing_list\n",
        "path_to_excel = '/content/drive/My Drive/Colab Notebooks/Bus_Stop_List.xlsx'\n",
        "\n",
        "with pd.ExcelFile(path_to_excel) as excel_file:\n",
        "  for sheet_name in excel_file.sheet_names:\n",
        "    stops_df = excel_file.parse('Stops')\n",
        "  # print(stops_df[0:20])\n",
        "  stops_df['stop_id'] = stops_df['stop_id'].astype(str)\n",
        "  for data in printing_data_list:\n",
        "    id_value = str(data['stop_id'].pop())\n",
        "    lat_value = float(data['lat'].pop())\n",
        "    lon_value = float(data['lon'].pop())\n",
        "    # print(id_value)\n",
        "    stops_df.loc[(stops_df['stop_lon'] == lon_value) & (stops_df['stop_lat'] == lat_value), 'stop_id'] = id_value\n",
        "\n",
        "# wb = load_workbook(path_to_excel, keep_vba=True)\n",
        "# sheet_to_write = wb['stops']\n",
        "# sheet_to_write.delete_rows(1, sheet_to_write.max_row)\n",
        "# stops_df.to_excel(sheet_to_write, startrow=0, startcol=0, index=False)\n",
        "# wb.save('/content/drive/My Drive/Colab Notebooks/ImportExport_data.xlsm')\n",
        "    # stops_df.to_excel(path_to_excel, index=False, sheet_name='stops')\n",
        "with pd.ExcelWriter(path_to_excel, engine='openpyxl', mode='a', if_sheet_exists='new') as writer:\n",
        "  stops_df.to_excel(writer, sheet_name='new_stops', index=False)\n",
        "\n",
        "writer.save()\n",
        "\n"
      ]
    }
  ],
  "metadata": {
    "colab": {
      "provenance": [],
      "authorship_tag": "ABX9TyMBVjidfxDylQVSBUPS0iyP",
      "include_colab_link": true
    },
    "kernelspec": {
      "display_name": "Python 3",
      "name": "python3"
    },
    "language_info": {
      "name": "python"
    }
  },
  "nbformat": 4,
  "nbformat_minor": 0
}